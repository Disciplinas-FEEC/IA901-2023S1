{
  "cells": [
    {
      "cell_type": "code",
      "execution_count": null,
      "metadata": {
        "id": "_85BzfHE4Gvx"
      },
      "outputs": [],
      "source": [
        "import os\n",
        "import numpy as np\n",
        "import matplotlib.pyplot as plt\n",
        "\n",
        "import tensorflow as tf\n",
        "from tensorflow.keras.preprocessing.image import load_img, img_to_array\n",
        "from keras.preprocessing.image import ImageDataGenerator\n",
        "from tensorflow.keras import layers\n",
        "from sklearn.metrics import confusion_matrix\n",
        "import seaborn as sns\n",
        "\n",
        "from sklearn.utils.class_weight import compute_class_weight"
      ]
    },
    {
      "cell_type": "code",
      "execution_count": null,
      "metadata": {
        "id": "VApEj-ZB4GwE"
      },
      "outputs": [],
      "source": [
        "# Importação das bibliotecas necessárias\n",
        "import cv2\n",
        "import random\n",
        "from tensorflow.keras.applications.resnet50 import preprocess_input\n",
        "\n",
        "# Função para modificar o matiz (hue) da imagem e realizar pré processamento\n",
        "def modify_hue(image):\n",
        "    image_hsv = cv2.cvtColor(image, cv2.COLOR_RGB2HSV)\n",
        "    hue_shift = random.uniform(-0.1, 0.1)\n",
        "    image_hsv[:,:,0] += hue_shift\n",
        "    image_hsv[:,:,0] = np.clip(image_hsv[:,:,0], 0, 1)\n",
        "    image_rgb = cv2.cvtColor(image_hsv, cv2.COLOR_HSV2RGB)\n",
        "    return image_rgb\n",
        "\n",
        "def preprocess_image(image):\n",
        "    modified_image = modify_hue(image)\n",
        "    standardized_image = preprocess_input(modified_image)\n",
        "    return standardized_image\n",
        "\n",
        "# Criação do gerador de dados para o treinamento\n",
        "train_datagen = ImageDataGenerator(\n",
        "    rotation_range=0,  # Ângulo de rotação máximo das imagens\n",
        "    width_shift_range=0.1,  # Deslocamento máximo horizontal das imagens\n",
        "    height_shift_range=0.1,  # Deslocamento máximo vertical das imagens\n",
        "    shear_range=0.1,  # Valor máximo de cisalhamento das imagens\n",
        "    zoom_range=0.1,  # Faixa de zoom aplicada às imagens\n",
        "    brightness_range=[0.7, 1.3],  # Faixa de brilho aplicada às imagens\n",
        "    fill_mode='nearest',  # Modo de preenchimento de pixels para transformações geométricas\n",
        "    preprocessing_function=preprocess_image,  # Função de pré-processamento aplicada a cada imagem\n",
        ")\n",
        " \n",
        "# Criação do gerador de lotes de treinamento\n",
        "train_generator = train_datagen.flow_from_directory(\n",
        "    '/content/drive/Shareddrives/IA901/dados melanoma/data/interim/treino',  # Diretório das imagens de treinamento\n",
        "    target_size=(224, 224),  # Tamanho das imagens após o redimensionamento\n",
        "    batch_size=64,  # Tamanho do lote (batch size)\n",
        "    class_mode='categorical'  # Modo de classificação das imagens\n",
        ")\n",
        "\n",
        "# Criação do gerador de dados para a validação\n",
        "test_datagen = tf.keras.preprocessing.image.ImageDataGenerator(\n",
        "    rotation_range=0,  # Ângulo de rotação máximo das imagens\n",
        "    width_shift_range=0.1,  # Deslocamento máximo horizontal das imagens\n",
        "    height_shift_range=0.1,  # Deslocamento máximo vertical das imagens\n",
        "    shear_range=0.1,  # Valor máximo de cisalhamento das imagens\n",
        "    zoom_range=0.1,  # Faixa de zoom aplicada às imagens\n",
        "    brightness_range=[0.7, 1.3],  # Faixa de brilho aplicada às imagens\n",
        "    fill_mode='nearest',  # Modo de preenchimento de pixels para transformações geométricas\n",
        "    preprocessing_function=modify_hue  # Função de pré-processamento aplicada a cada imagem\n",
        ")\n",
        "\n",
        "# Criação do gerador de lotes de validação\n",
        "validation_generator = test_datagen.flow_from_directory(\n",
        "    '/content/drive/Shareddrives/IA901/dados melanoma/data/interim/validacao',  # Diretório das imagens de validação\n",
        "    target_size=(224, 224),  # Tamanho das imagens após o redimensionamento\n",
        "    batch_size=64,  # Tamanho do lote (batch size)\n",
        "    class_mode='categorical'  # Modo de classificação das imagens\n",
        ")\n",
        "\n",
        "# Visualização das transformações de aumento de dados em uma imagem de exemplo\n",
        "for i in range(1):\n",
        "    image = train_generator[0][0][0].astype('uint8')\n",
        "    plt.imshow(tf.keras.preprocessing.image.array_to_img(image))\n",
        "    plt.show()\n"
      ]
    },
    {
      "cell_type": "code",
      "execution_count": null,
      "metadata": {
        "id": "K2jfdZuW4GwG"
      },
      "outputs": [],
      "source": [
        "# Calculamos os pesos das classes para que seja penalisado no treino posteriormente\n",
        "classes = np.unique(train_generator.classes)\n",
        "class_counts = np.bincount(train_generator.classes)\n",
        "total_samples = np.sum(class_counts)\n",
        "class_weights = total_samples / (len(classes) * class_counts)\n",
        "\n",
        "train_class_weights = dict(enumerate(class_weights))\n",
        "print(train_class_weights)"
      ]
    },
    {
      "cell_type": "code",
      "execution_count": null,
      "metadata": {
        "id": "MQDBmRVY_zyO"
      },
      "outputs": [],
      "source": [
        "# Definir o otimizador SGD\n",
        "sgd = tf.keras.optimizers.legacy.SGD(learning_rate=0.001, momentum=0.9, decay=0.01, nesterov=True)\n",
        "# learning_rate: Taxa de aprendizado\n",
        "# momentum: Taxa de momento para acelerar a convergência\n",
        "# decay: Taxa de decaimento para ajustar a taxa de aprendizado ao longo do tempo\n",
        "# nesterov: Indica se deve ser usado o método Nesterov para o cálculo do gradiente\n",
        "\n",
        "# Definir o modelo ResNet50\n",
        "model_ResNet50 = tf.keras.Sequential([\n",
        "    tf.keras.applications.ResNet50(\n",
        "        input_shape=(224, 224, 3),  # Formato da entrada\n",
        "        weights='imagenet'  # Usar pesos pré-treinados da ImageNet\n",
        "    ),\n",
        "    tf.keras.layers.Reshape((-1, 1, 1000)),  # Remodelar para um tensor 4-dimensional\n",
        "    tf.keras.layers.GlobalAveragePooling2D(),  # Camada de pooling global para reduzir a dimensionalidade\n",
        "    tf.keras.layers.Dense(2, activation='sigmoid')  # Camada densa com ativação sigmoid para classificação binária\n",
        "])\n",
        "\n",
        "# Compilar o modelo\n",
        "model_ResNet50.compile(\n",
        "    optimizer=sgd, \n",
        "    metrics=['AUC'],  \n",
        "    loss='binary_crossentropy'  \n",
        ")"
      ]
    },
    {
      "cell_type": "code",
      "execution_count": null,
      "metadata": {
        "id": "x17RzKrq_zV3"
      },
      "outputs": [],
      "source": [
        "# Congelar os pesos da primeira camada\n",
        "model_ResNet50.layers[0].trainable = False\n",
        "\n",
        "# Percorrer as camadas até a quinta camada e congelar seus pesos\n",
        "for layer in model_ResNet50.layers[:5]:\n",
        "    layer.trainable = False\n",
        "\n",
        "# Exibir um resumo do modelo\n",
        "model_ResNet50.summary()"
      ]
    },
    {
      "cell_type": "code",
      "execution_count": null,
      "metadata": {
        "id": "xVys5qir4GwI"
      },
      "outputs": [],
      "source": [
        "from tensorflow.keras.applications import ResNet50\n",
        "from tensorflow.keras.layers import Reshape, GlobalAveragePooling2D, Dense\n",
        "from tensorflow.keras.callbacks import Callback\n",
        "\n",
        "# Configurando o modo de execução do TensorFlow para eager execution (execução imediata)\n",
        "tf.config.run_functions_eagerly(True)  # Caso contrário, pode ocorrer um erro\n",
        "\n",
        "# Callbacks\n",
        "cb_early_stopper = tf.keras.callbacks.EarlyStopping(monitor='val_loss', patience=10)\n",
        "cb_checkpointer = tf.keras.callbacks.ModelCheckpoint(filepath='/content/drive/Shareddrives/IA901/dados melanoma/models/', monitor='val_loss', save_best_only=True)\n",
        "\n",
        "callbacks_list = [cb_checkpointer, cb_early_stopper]\n",
        "\n",
        "# Arquitetura do modelo\n",
        "base_model = tf.keras.applications.ResNet50(\n",
        "    include_top=False,  # Excluir a camada fully-connected no topo\n",
        "    input_shape=(224, 224, 3)  # Formato da entrada\n",
        ")\n",
        "x = base_model.output\n",
        "x = tf.keras.layers.Reshape((-1, 1, 2048))(x)\n",
        "x = tf.keras.layers.GlobalAveragePooling2D()(x)\n",
        "x = tf.keras.layers.Dense(128, activation='relu')(x)\n",
        "outputs = tf.keras.layers.Dense(2, activation='sigmoid')(x)\n",
        "model = tf.keras.Model(inputs=base_model.input, outputs=outputs)\n",
        "\n",
        "# Compilando o modelo\n",
        "optimizer = tf.keras.optimizers.SGD(learning_rate=0.001)\n",
        "model.compile(optimizer=optimizer, loss='binary_crossentropy', metrics=['AUC'])\n",
        "\n",
        "# Treinamento\n",
        "history = model.fit(\n",
        "    train_generator,  \n",
        "    epochs=20,  \n",
        "    validation_data=validation_generator, \n",
        "    callbacks=callbacks_list,\n",
        "    class_weight=train_class_weights\n",
        ")\n"
      ]
    },
    {
      "cell_type": "code",
      "execution_count": null,
      "metadata": {
        "id": "GFOJf_aF6erG"
      },
      "outputs": [],
      "source": [
        "# Salvar o histórico de treinamento em um arquivo separado\n",
        "history_path = '/content/drive/Shareddrives/IA901/dados melanoma/models/history_resnet50.pickle'\n",
        "with open(history_path, 'wb') as f:\n",
        "    pickle.dump(history.history, f)"
      ]
    },
    {
      "cell_type": "code",
      "execution_count": null,
      "metadata": {
        "id": "-HE3O--2djzC"
      },
      "outputs": [],
      "source": [
        "#from tensorflow.keras.models import load_model\n",
        "\n",
        "#model_path = '/content/drive/Shareddrives/IA901/dados melanoma/models/'\n",
        "#history = load_model(model_path)"
      ]
    },
    {
      "cell_type": "code",
      "execution_count": null,
      "metadata": {
        "id": "ps0sEjn0bXk-"
      },
      "outputs": [],
      "source": [
        "# Curvas de erro e AUC para treino e validação\n",
        "plt.figure(figsize=(12, 4))\n",
        "plt.subplot(1, 2, 1)\n",
        "plt.plot(history.history['loss'], label='Treino')\n",
        "plt.plot(history.history['val_loss'], label='Validação')\n",
        "plt.xlabel('Época')\n",
        "plt.ylabel('Erro')\n",
        "plt.title('Erro de Treinamento e de Validação')\n",
        "plt.legend()\n",
        "\n",
        "plt.subplot(1, 2, 2)\n",
        "plt.plot(history.history['auc'], label='Treino')\n",
        "plt.plot(history.history['val_auc'], label='Validação')\n",
        "plt.xlabel('Época')\n",
        "plt.ylabel('AUC')\n",
        "plt.title('AUC de Treinamento e de Validação')\n",
        "plt.legend()\n",
        "plt.show()\n"
      ]
    },
    {
      "cell_type": "code",
      "execution_count": null,
      "metadata": {
        "id": "vuWGzFCFbbRV"
      },
      "outputs": [],
      "source": [
        "# Prediçoes e matriz de confusão\n",
        "predictions = model.predict(validation_generator)\n",
        "y_true = validation_generator.classes\n",
        "y_pred = predictions.argmax(axis=1)\n",
        "\n",
        "confusion_mat = confusion_matrix(y_true, y_pred)\n",
        "print(\"Confusion Matrix:\")\n",
        "print(confusion_mat)\n",
        "\n",
        "false_positive_rate = confusion_mat[0, 1] / (confusion_mat[0, 1] + confusion_mat[0, 0])\n",
        "print(\"False Positive Rate:\", false_positive_rate)"
      ]
    },
    {
      "cell_type": "code",
      "execution_count": null,
      "metadata": {
        "id": "O2yy1oGM-qkV"
      },
      "outputs": [],
      "source": [
        "# Obtém as classes reais e as classes previstas\n",
        "y_true = validation_generator.classes\n",
        "y_pred = predictions.argmax(axis=1)\n",
        "\n",
        "# Calcula a matriz de confusão\n",
        "cm = confusion_matrix(y_true, y_pred)\n",
        "\n",
        "# Plot da matriz de confusão\n",
        "plt.imshow(cm, interpolation='nearest', cmap=plt.cm.Blues)\n",
        "plt.colorbar()\n",
        "\n",
        "# Obtém os rótulos das classes\n",
        "class_names = validation_generator.class_indices\n",
        "class_names = list(class_names.keys())\n",
        "\n",
        "tick_marks = np.arange(len(class_names))\n",
        "plt.xticks(tick_marks, class_names, rotation=45)\n",
        "plt.yticks(tick_marks, class_names)\n",
        "\n",
        "# Calculate the total numbers in each group\n",
        "group_counts = ['{0:0.0f}'.format(value) for value in cm.flatten()]\n",
        "group_percentages = ['{0:.2%}'.format(value) for value in cm.flatten() / np.sum(cm)]\n",
        "\n",
        "# Add the total numbers to the plot\n",
        "labels = [f\"{v1}\\n{v2}\" for v1, v2 in zip(group_counts, group_percentages)]\n",
        "labels = np.asarray(labels).reshape(cm.shape[0], cm.shape[1])\n",
        "\n",
        "# Show the total numbers in each group\n",
        "thresh = cm.max() / 2.\n",
        "for i in range(cm.shape[0]):\n",
        "    for j in range(cm.shape[1]):\n",
        "        plt.text(j, i, labels[i, j], horizontalalignment=\"center\",\n",
        "                 color=\"white\" if cm[i, j] > thresh else \"black\")\n",
        "\n",
        "plt.xlabel('Predito')\n",
        "plt.ylabel('Verdadeiro')\n",
        "plt.title('Matriz de confusão')\n",
        "plt.show()"
      ]
    },
    {
      "cell_type": "code",
      "execution_count": null,
      "metadata": {
        "id": "se2fAxt3NX1j"
      },
      "outputs": [],
      "source": []
    }
  ],
  "metadata": {
    "accelerator": "GPU",
    "colab": {
      "gpuType": "T4",
      "provenance": []
    },
    "gpuClass": "standard",
    "kernelspec": {
      "display_name": "base",
      "language": "python",
      "name": "python3"
    },
    "language_info": {
      "codemirror_mode": {
        "name": "ipython",
        "version": 3
      },
      "file_extension": ".py",
      "mimetype": "text/x-python",
      "name": "python",
      "nbconvert_exporter": "python",
      "pygments_lexer": "ipython3",
      "version": "3.10.9"
    }
  },
  "nbformat": 4,
  "nbformat_minor": 0
}
