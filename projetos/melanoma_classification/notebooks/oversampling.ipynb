{
 "cells": [
  {
   "cell_type": "code",
   "execution_count": 1,
   "id": "222cbcfe-15e9-4118-ac6e-f324480e6411",
   "metadata": {},
   "outputs": [
    {
     "name": "stdout",
     "output_type": "stream",
     "text": [
      "Imagens reamostradas salvas com sucesso!\n"
     ]
    }
   ],
   "source": [
    "import os\n",
    "import random\n",
    "from PIL import Image\n",
    "\n",
    "train_data_dir = \"../data/subset/treino/maligno\"\n",
    "output_dir = \"../data/subset/treino/maligno\"\n",
    "\n",
    "# Cria a pasta de saída, se não existir\n",
    "if not os.path.exists(output_dir):\n",
    "    os.makedirs(output_dir)\n",
    "\n",
    "image_files = os.listdir(train_data_dir)\n",
    "num_images = len(image_files)\n",
    "target_num_images = 3947\n",
    "\n",
    "# Verifica se o número de imagens existentes é menor do que o número desejado\n",
    "if num_images < target_num_images:\n",
    "    oversampling_factor = target_num_images // num_images + 1\n",
    "else:\n",
    "    oversampling_factor = 1\n",
    "\n",
    "seed = 42\n",
    "random.seed(seed)\n",
    "\n",
    "for image_file in image_files:\n",
    "    image_path = os.path.join(train_data_dir, image_file)\n",
    "    image = Image.open(image_path)\n",
    "    \n",
    "    # Obtém o nome do arquivo sem a extensão\n",
    "    file_name = os.path.splitext(image_file)[0]\n",
    "    \n",
    "    for i in range(oversampling_factor):\n",
    "        # Define o nome do arquivo reamostrado\n",
    "        output_file = f\"{file_name}_oversampled_{i}.jpg\"\n",
    "        \n",
    "        # Define o caminho completo do arquivo de saída\n",
    "        output_path = os.path.join(output_dir, output_file)\n",
    "        \n",
    "        # Salva a imagem reamostrada\n",
    "        image.save(output_path)\n",
    "\n",
    "print(\"Imagens reamostradas salvas com sucesso!\")"
   ]
  },
  {
   "cell_type": "code",
   "execution_count": null,
   "id": "07d860a9-2165-47da-b714-deff75155047",
   "metadata": {},
   "outputs": [],
   "source": []
  }
 ],
 "metadata": {
  "kernelspec": {
   "display_name": "Python 3 (ipykernel)",
   "language": "python",
   "name": "python3"
  },
  "language_info": {
   "codemirror_mode": {
    "name": "ipython",
    "version": 3
   },
   "file_extension": ".py",
   "mimetype": "text/x-python",
   "name": "python",
   "nbconvert_exporter": "python",
   "pygments_lexer": "ipython3",
   "version": "3.8.10"
  }
 },
 "nbformat": 4,
 "nbformat_minor": 5
}
