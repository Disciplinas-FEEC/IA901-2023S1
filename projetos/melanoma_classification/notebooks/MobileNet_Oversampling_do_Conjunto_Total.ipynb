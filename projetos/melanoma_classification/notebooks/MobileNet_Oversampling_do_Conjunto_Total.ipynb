{
  "nbformat": 4,
  "nbformat_minor": 0,
  "metadata": {
    "colab": {
      "provenance": [],
      "machine_shape": "hm",
      "gpuType": "T4"
    },
    "kernelspec": {
      "name": "python3",
      "display_name": "Python 3"
    },
    "language_info": {
      "name": "python"
    },
    "accelerator": "GPU"
  },
  "cells": [
    {
      "cell_type": "markdown",
      "source": [
        "Observação: Apesar das várias tentativas, não conseguimos executar este notebook por mais de três épocas devido à falta de recurso computacional. No entanto, para apenas três épocas, a metodologia apresentou resultados interessantes."
      ],
      "metadata": {
        "id": "AxzIarO1z-dd"
      }
    },
    {
      "cell_type": "code",
      "execution_count": 1,
      "metadata": {
        "id": "OGrEwqc093dv"
      },
      "outputs": [],
      "source": [
        "import os\n",
        "import numpy as np\n",
        "import matplotlib.pyplot as plt\n",
        "import seaborn as sns\n",
        "import pandas as pd\n",
        "\n",
        "import tensorflow as tf\n",
        "from tensorflow.keras.preprocessing.image import load_img, img_to_array\n",
        "from tensorflow.keras.preprocessing.image import ImageDataGenerator\n",
        "from tensorflow.keras import layers\n",
        "from tensorflow.keras.applications import MobileNetV2\n",
        "from tensorflow.keras.layers import Reshape, GlobalAveragePooling2D, Dense\n",
        "from tensorflow.keras.callbacks import Callback\n",
        "from tensorflow.keras.optimizers import Adam\n",
        "from tensorflow.keras.models import load_model\n",
        "from sklearn.utils.class_weight import compute_class_weight\n",
        "from tensorflow.keras.applications.resnet50 import preprocess_input\n",
        "import cv2\n",
        "import random\n",
        "import pickle\n",
        "from sklearn.metrics import confusion_matrix"
      ]
    },
    {
      "cell_type": "code",
      "source": [
        "from google.colab import drive\n",
        "drive.mount('/content/drive')"
      ],
      "metadata": {
        "colab": {
          "base_uri": "https://localhost:8080/"
        },
        "id": "2uFJ76E3-CRs",
        "outputId": "91225c56-e507-4184-ec39-60f36567f7f7"
      },
      "execution_count": 2,
      "outputs": [
        {
          "output_type": "stream",
          "name": "stdout",
          "text": [
            "Mounted at /content/drive\n"
          ]
        }
      ]
    },
    {
      "cell_type": "code",
      "source": [
        "# Caminhos das pastas contendo as imagens de treinamento e validação\n",
        "train_data_dir = \"/content/drive/Shareddrives/IA901/dados melanoma/data/interim4/interim4/treino\"\n",
        "validation_data_dir = \"/content/drive/Shareddrives/IA901/dados melanoma/data/data/interim/validacao\"\n",
        "\n",
        "batch_size = 4\n",
        "\n",
        "def preprocess_image(image):\n",
        "    standardized_image = preprocess_input(image)\n",
        "    return standardized_image\n",
        "\n",
        "train_datagen = tf.keras.preprocessing.image.ImageDataGenerator(\n",
        "    #width_shift_range=0.3,\n",
        "    height_shift_range=0.1,\n",
        "    #shear_range=0.1,\n",
        "    #zoom_range=0.1,\n",
        "    #brightness_range=[0.7, 1.3],\n",
        "    fill_mode='nearest',\n",
        "    preprocessing_function=preprocess_image,\n",
        ")\n",
        "\n",
        "train_generator = train_datagen.flow_from_directory(\n",
        "    train_data_dir,\n",
        "    target_size=(224, 224),\n",
        "    batch_size=batch_size,\n",
        "    shuffle=True,\n",
        "    seed=42\n",
        ")\n",
        "\n",
        "train_dataset = tf.data.Dataset.from_generator(\n",
        "    lambda: train_generator,\n",
        "    output_signature=(\n",
        "        tf.TensorSpec(shape=(None, 224, 224, 3), dtype=tf.float32),\n",
        "        tf.TensorSpec(shape=(None, train_generator.num_classes), dtype=tf.float32)\n",
        "    )\n",
        ")\n",
        "\n",
        "test_datagen = tf.keras.preprocessing.image.ImageDataGenerator(\n",
        "    #width_shift_range=0.3,\n",
        "    height_shift_range=0.1,\n",
        "    #shear_range=0.1,\n",
        "    #zoom_range=0.1,\n",
        "    #brightness_range=[0.7, 1.3],\n",
        "    fill_mode='nearest',\n",
        "    preprocessing_function=preprocess_image\n",
        "\n",
        ")\n",
        "\n",
        "validation_generator = test_datagen.flow_from_directory(\n",
        "    validation_data_dir,\n",
        "    target_size=(224, 224),\n",
        "    batch_size=batch_size,\n",
        "    class_mode='categorical'\n",
        ")\n",
        "\n",
        "validation_dataset = tf.data.Dataset.from_generator(\n",
        "    lambda: validation_generator,\n",
        "    output_signature=(\n",
        "        tf.TensorSpec(shape=(None, 224, 224, 3), dtype=tf.float32),\n",
        "        tf.TensorSpec(shape=(None, validation_generator.num_classes), dtype=tf.float32)\n",
        "    )\n",
        ")\n",
        "\n",
        "train_dataset = train_dataset.cache().prefetch(buffer_size=tf.data.AUTOTUNE)\n",
        "validation_dataset = validation_dataset.cache().prefetch(buffer_size=tf.data.AUTOTUNE)"
      ],
      "metadata": {
        "colab": {
          "base_uri": "https://localhost:8080/"
        },
        "id": "N-p8Bf2i-GHT",
        "outputId": "989893dd-5b05-4d65-f4dc-a1adb2db3036"
      },
      "execution_count": 6,
      "outputs": [
        {
          "output_type": "stream",
          "name": "stdout",
          "text": [
            "Found 48456 images belonging to 2 classes.\n"
          ]
        },
        {
          "output_type": "stream",
          "name": "stderr",
          "text": [
            "/usr/local/lib/python3.10/dist-packages/tensorflow/python/data/ops/structured_function.py:254: UserWarning: Even though the `tf.config.experimental_run_functions_eagerly` option is set, this option does not apply to tf.data functions. To force eager execution of tf.data functions, please use `tf.data.experimental.enable_debug_mode()`.\n",
            "  warnings.warn(\n"
          ]
        },
        {
          "output_type": "stream",
          "name": "stdout",
          "text": [
            "Found 8608 images belonging to 2 classes.\n"
          ]
        }
      ]
    },
    {
      "cell_type": "code",
      "source": [
        "# Define a arquitetura do modelo\n",
        "base_model = MobileNetV2(\n",
        "    input_shape=(224, 224, 3),\n",
        "    weights='imagenet',\n",
        "    include_top=False\n",
        ")\n",
        "x = base_model.output\n",
        "x = tf.keras.layers.GlobalAveragePooling2D()(x)\n",
        "x = tf.keras.layers.Dense(128, activation='relu')(x)\n",
        "outputs = tf.keras.layers.Dense(2, activation='sigmoid')(x)\n",
        "model = tf.keras.Model(inputs=base_model.input, outputs=outputs)\n",
        "\n",
        "# Congela todas as camadas do modelo base\n",
        "for layer in base_model.layers:\n",
        "    layer.trainable = False\n",
        "tf.config.run_functions_eagerly(True)  # Otherwise error\n",
        "\n",
        "# Callbacks\n",
        "cb_early_stopper = tf.keras.callbacks.EarlyStopping(monitor='val_loss', patience=300)\n",
        "\n",
        "# Define o caminho para salvar os checkpoints\n",
        "checkpoint_path = \"/content/drive/MyDrive/Colab Notebooks/models/checkpoints/mobilenet_oversampling.{epoch:02d}.h5\"\n",
        "\n",
        "# Callback para salvar os checkpoints\n",
        "checkpoint_callback = tf.keras.callbacks.ModelCheckpoint(\n",
        "    filepath=checkpoint_path,\n",
        "    monitor='val_loss',\n",
        "    save_best_only=True,\n",
        "    save_weights_only=True,\n",
        "    verbose=1\n",
        ")\n",
        "\n",
        "callbacks_list = [checkpoint_callback, cb_early_stopper]\n",
        "\n",
        "# Define o otimizador como AdamW com os pesos de classe\n",
        "optimizer = tf.keras.optimizers.Adam(learning_rate=0.0001)\n",
        "model.compile(optimizer=optimizer, loss='binary_crossentropy', metrics=[tf.keras.metrics.Recall(), 'AUC'])\n",
        "\n",
        "# Verifica se há um checkpoint existente para carregar\n",
        "latest_checkpoint = tf.train.latest_checkpoint(checkpoint_path)\n",
        "if latest_checkpoint is not None:\n",
        "    print(\"Carregando checkpoint existente:\", latest_checkpoint)\n",
        "    model.load_weights(latest_checkpoint)"
      ],
      "metadata": {
        "id": "OLU3aJ0u-O5r"
      },
      "execution_count": 7,
      "outputs": []
    },
    {
      "cell_type": "code",
      "source": [
        "history = model.fit(\n",
        "    train_dataset,\n",
        "    steps_per_epoch=train_generator.n // batch_size,\n",
        "    epochs=5,\n",
        "    validation_data=validation_dataset,\n",
        "    callbacks=callbacks_list,\n",
        "    validation_steps=validation_generator.n // batch_size\n",
        ")"
      ],
      "metadata": {
        "colab": {
          "base_uri": "https://localhost:8080/"
        },
        "id": "hP0s5ynK_Rz-",
        "outputId": "ebd9f0c9-da53-49dd-fae5-59e20b5c353c"
      },
      "execution_count": null,
      "outputs": [
        {
          "output_type": "stream",
          "name": "stdout",
          "text": [
            "Epoch 1/5\n",
            "  719/12114 [>.............................] - ETA: 8:11:15 - loss: 0.5422 - recall_1: 0.7138 - auc: 0.7957"
          ]
        }
      ]
    }
  ]
}