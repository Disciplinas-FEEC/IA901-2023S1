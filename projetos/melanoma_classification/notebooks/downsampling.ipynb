{
 "cells": [
  {
   "cell_type": "code",
   "execution_count": 3,
   "id": "f4376101-05b5-4d32-b4f5-618a507b4f73",
   "metadata": {},
   "outputs": [
    {
     "name": "stdout",
     "output_type": "stream",
     "text": [
      "Apagadas 19489 imagens de forma aleatória.\n"
     ]
    }
   ],
   "source": [
    "import os\n",
    "import random\n",
    "\n",
    "pasta = \"../data/subset/treino/benigno\"\n",
    "numero_imagens_a_apagar = 19489\n",
    "seed = 42  # Semente para reproduzibilidade\n",
    "\n",
    "# Define a semente do gerador de números aleatórios\n",
    "random.seed(seed)\n",
    "\n",
    "# Obtém a lista de todos os arquivos na pasta\n",
    "arquivos = os.listdir(pasta)\n",
    "\n",
    "# Seleciona aleatoriamente as imagens a serem apagadas\n",
    "imagens_a_apagar = random.sample(arquivos, numero_imagens_a_apagar)\n",
    "\n",
    "# Apaga as imagens selecionadas\n",
    "for imagem in imagens_a_apagar:\n",
    "    caminho_imagem = os.path.join(pasta, imagem)\n",
    "    os.remove(caminho_imagem)\n",
    "\n",
    "print(f\"Apagadas {numero_imagens_a_apagar} imagens de forma aleatória.\")"
   ]
  },
  {
   "cell_type": "code",
   "execution_count": null,
   "id": "2b5a22c7-8ec0-4f42-b025-60a6d77300d7",
   "metadata": {},
   "outputs": [],
   "source": []
  }
 ],
 "metadata": {
  "kernelspec": {
   "display_name": "Python 3 (ipykernel)",
   "language": "python",
   "name": "python3"
  },
  "language_info": {
   "codemirror_mode": {
    "name": "ipython",
    "version": 3
   },
   "file_extension": ".py",
   "mimetype": "text/x-python",
   "name": "python",
   "nbconvert_exporter": "python",
   "pygments_lexer": "ipython3",
   "version": "3.8.10"
  }
 },
 "nbformat": 4,
 "nbformat_minor": 5
}
