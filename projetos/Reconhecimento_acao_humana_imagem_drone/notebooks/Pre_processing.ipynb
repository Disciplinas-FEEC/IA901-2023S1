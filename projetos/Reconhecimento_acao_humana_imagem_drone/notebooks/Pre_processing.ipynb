{
  "nbformat": 4,
  "nbformat_minor": 0,
  "metadata": {
    "colab": {
      "provenance": [],
      "gpuType": "T4",
      "authorship_tag": "ABX9TyOmH/8AEUzlXmHSyph32kdC",
      "include_colab_link": true
    },
    "kernelspec": {
      "name": "python3",
      "display_name": "Python 3"
    },
    "language_info": {
      "name": "python"
    },
    "gpuClass": "standard",
    "accelerator": "GPU"
  },
  "cells": [
    {
      "cell_type": "markdown",
      "metadata": {
        "id": "view-in-github",
        "colab_type": "text"
      },
      "source": [
        "<a href=\"https://colab.research.google.com/github/Debora-Simoes/IA901-2023S1/blob/main/projetos/Reconhecimento_acao_humana_imagem_drone/notebooks/Pre_processing.ipynb\" target=\"_parent\"><img src=\"https://colab.research.google.com/assets/colab-badge.svg\" alt=\"Open In Colab\"/></a>"
      ]
    },
    {
      "cell_type": "code",
      "source": [
        "import numpy as np\n",
        "import matplotlib.image as mpimg\n",
        "import matplotlib.pyplot as plt\n",
        "from PIL import Image\n",
        "import os\n",
        "import shutil\n",
        "from scipy import ndimage\n",
        "from scipy.ndimage import convolve"
      ],
      "metadata": {
        "id": "XYaZHhvWVfmm"
      },
      "execution_count": null,
      "outputs": []
    },
    {
      "cell_type": "code",
      "source": [
        "# Montando o drive\n",
        "from google.colab import drive \n",
        "drive.mount('/content/gdrive')"
      ],
      "metadata": {
        "colab": {
          "base_uri": "https://localhost:8080/"
        },
        "id": "sBwIuHimgfYo",
        "outputId": "41c2e0dc-3d4a-4c6d-fa27-9b673c4c235b"
      },
      "execution_count": null,
      "outputs": [
        {
          "output_type": "stream",
          "name": "stdout",
          "text": [
            "Mounted at /content/gdrive\n"
          ]
        }
      ]
    },
    {
      "cell_type": "markdown",
      "source": [
        "###Funções para filtragem:\n",
        "\n",
        "- Filtro de Sobel\n",
        "- Filtro de Laplace\n",
        "- Filtro de Prewitt"
      ],
      "metadata": {
        "id": "33ubIqriRf9N"
      }
    },
    {
      "cell_type": "code",
      "source": [
        "# Filtro de Sobel\n",
        "\n",
        "# Definindo a função \"MagSobel\"\n",
        "# Parâmetro da função: img - imagem a ser filtrada (array)\n",
        "\n",
        "def MagSobel(img): \n",
        "  img = np.asarray(img).astype('float32') # Convertendo os elementos do array para float\n",
        "  Sv = np.array([[1,0,-1],[2,0,-2],[1,0,-1]]) # Filtro de Sobel vertical\n",
        "  Sh = np.array([[1,2,1],[0,0,0],[-1,-2,-1]]) # Filtro de Sobel horizontal\n",
        "  fv = ndimage.convolve(img, Sv) # Imagem fitrada pelo Filtro de Sobel vertical c\n",
        "  fh = ndimage.convolve(img, Sh) # Imagem fitrada pelo Filtro de Sobel horizontal \n",
        "  Magnitude_Sobel = (fh**2 + fv**2)**0.5 # Magnitude Sobel: MagSobel = √(fh^2 +fv^2) \n",
        "  return Magnitude_Sobel"
      ],
      "metadata": {
        "id": "Mb55Gm0BTg5P"
      },
      "execution_count": null,
      "outputs": []
    },
    {
      "cell_type": "code",
      "source": [
        "# Filtro de Laplace\n",
        "\n",
        "# Definindo a função \"Laplace\"\n",
        "# Parâmetro da função: img - imagem a ser filtrada (array)\n",
        "\n",
        "def Laplace(img): \n",
        "  img = np.asarray(img).astype('float32') # Convertendo os elementos do array para float\n",
        "  laplace = np.array([[0,-1,0],[-1,4,-1],[0,-1,0]]) # Filtro Laplaciano (Gonzales e Woods, 2009)\n",
        "  img_laplace = ndimage.convolve(img, laplace) # Imagem fitrada pelo Filtro Laplaciano\n",
        "  return img_laplace"
      ],
      "metadata": {
        "id": "J2FwyABYTnm5"
      },
      "execution_count": null,
      "outputs": []
    },
    {
      "cell_type": "code",
      "source": [
        "# Filtro de Prewitt\n",
        "\n",
        "# Definindo a função \"MagPrewitt\"\n",
        "# Parâmetro da função: img - imagem a ser filtrada (array)\n",
        "\n",
        "def MagPrewitt(img): \n",
        "  img = np.asarray(img).astype('float32') # Convertendo os elementos do array para float\n",
        "  Pv = np.array([[-1,0,1],[-1,0,1],[-1,0,1]]) # Filtro de Prewitt vertical (Gonzales; Woods, 2009)\n",
        "  Ph = np.array([[-1,-1,-1],[0,0,0],[1,1,1]]) # Filtro de Prewitt horizontal (Gonzales; Woods, 2009)\n",
        "  fv = ndimage.convolve(img, Pv) # Imagem fitrada pelo Filtro de Prewitt vertical\n",
        "  fh = ndimage.convolve(img, Ph) # Imagem fitrada pelo Filtro de Prewitt horizontal \n",
        "  Magnitude_Prewitt = (fh**2 + fv**2)**0.5 # Magnitude Prewitt: MagPrewitt = √(fh^2 +fv^2) \n",
        "  return Magnitude_Prewitt"
      ],
      "metadata": {
        "id": "Jfm7535AUDl-"
      },
      "execution_count": null,
      "outputs": []
    },
    {
      "cell_type": "markdown",
      "source": [
        "###Pré-processamento dos dados de Treino"
      ],
      "metadata": {
        "id": "szfr7woyRpxG"
      }
    },
    {
      "cell_type": "code",
      "source": [
        "# Dados de treino\n",
        "\n",
        "path = \"gdrive/MyDrive/IA901_Projeto/Dados_filtrados/train/images/\"\n",
        "list_files = os.listdir(\"gdrive/MyDrive/IA901_Projeto/Dados_filtrados/train/images\")\n",
        "path_saida_NC = '/content/gdrive/My Drive/IA901_Projeto/Dados_pre_processing/NC/train/images'\n",
        "path_saida_sobel = '/content/gdrive/My Drive/IA901_Projeto/Dados_pre_processing/Filtro_Sobel/train/images'\n",
        "path_saida_laplace = '/content/gdrive/My Drive/IA901_Projeto/Dados_pre_processing/Filtro_Laplaciano/train/images'\n",
        "path_saida_prewitt = '/content/gdrive/My Drive/IA901_Projeto/Dados_pre_processing/Filtro_Prewitt/train/images'\n",
        "\n",
        "\n",
        "#  CONVERSÃO PARA N.C.\n",
        "for i, file in enumerate(list_files):\n",
        "  \n",
        "  img = Image.open(path+file)\n",
        "  img_nc = img.convert(\"L\") # Conversão para níveis de cinza \n",
        "  img_nc.save(os.path.join(path_saida_NC, file))"
      ],
      "metadata": {
        "id": "YpxeU2rCMl3J"
      },
      "execution_count": null,
      "outputs": []
    },
    {
      "cell_type": "code",
      "source": [
        "for i, file in enumerate(list_files):\n",
        "  \n",
        "  img = Image.open(path+file).convert(\"L\") # Lê a imagem e converte para n.c.\n",
        "  img_array = np.asarray(img) # Salvando a imagem como array \n",
        "\n",
        "  # APLICANDO O FILTRO DE SOBEL\n",
        "  sobel = np.asarray(MagSobel(img_array), np.uint8) # Aplicando o filtro de Sobel\n",
        "  img_sobel = Image.fromarray(sobel) # Transformando o array numpy para imagem PIL\n",
        "  img_sobel.save(os.path.join(path_saida_sobel, file))\n",
        "\n",
        "  # APLICANDO O FILTRO DE LAPLACE\n",
        "  laplace = np.asarray(Laplace(img_array), np.uint8) # Aplicando o filtro Laplaciano\n",
        "  img_laplace = Image.fromarray(laplace) # Transformando o array numpy para imagem PIL\n",
        "  img_laplace.save(os.path.join(path_saida_laplace, file))\n",
        "\n",
        "  # APLICANDO O FILTRO DE PREWITT\n",
        "  prewitt = np.asarray(MagPrewitt(img_array), np.uint8) # Aplicando o filtro de Prewitt\n",
        "  img_prewitt = Image.fromarray(prewitt) # Transformando o array numpy para imagem PIL\n",
        "  img_prewitt.save(os.path.join(path_saida_prewitt, file))"
      ],
      "metadata": {
        "id": "jvsj39CjYJDl"
      },
      "execution_count": null,
      "outputs": []
    },
    {
      "cell_type": "markdown",
      "source": [
        "###Pré-processamento dos dados de Validação"
      ],
      "metadata": {
        "id": "FS_-G6dOR-Rl"
      }
    },
    {
      "cell_type": "code",
      "source": [
        "# Dados de validação\n",
        "\n",
        "path = \"gdrive/MyDrive/IA901_Projeto/Dados_filtrados/val/images/\"\n",
        "list_files = os.listdir(\"gdrive/MyDrive/IA901_Projeto/Dados_filtrados/val/images\")\n",
        "path_saida_NC = '/content/gdrive/My Drive/IA901_Projeto/Dados_pre_processing/NC/val/images'\n",
        "path_saida_sobel = '/content/gdrive/My Drive/IA901_Projeto/Dados_pre_processing/Filtro_Sobel/val/images'\n",
        "path_saida_laplace = '/content/gdrive/My Drive/IA901_Projeto/Dados_pre_processing/Filtro_Laplaciano/val/images'\n",
        "path_saida_prewitt = '/content/gdrive/My Drive/IA901_Projeto/Dados_pre_processing/Filtro_Prewitt/val/images'\n",
        "\n",
        "# CONVERSÃO PARA N.C.\n",
        "for i, file in enumerate(list_files):\n",
        "  \n",
        "  img = Image.open(path+file)\n",
        "  img_nc = img.convert(\"L\") # Conversão para níveis de cinza \n",
        "  img_nc.save(os.path.join(path_saida_NC, file))"
      ],
      "metadata": {
        "id": "0pGWJ3rYX363"
      },
      "execution_count": null,
      "outputs": []
    },
    {
      "cell_type": "code",
      "source": [
        "for i, file in enumerate(list_files):\n",
        "  \n",
        "  img = Image.open(path+file).convert(\"L\") # Lê a imagem e converte para n.c.\n",
        "  img_array = np.asarray(img) # Salvando a imagem como array \n",
        "\n",
        "  # APLICANDO O FILTRO DE SOBEL\n",
        "  sobel = np.asarray(MagSobel(img_array), np.uint8) # Aplicando o filtro de Sobel\n",
        "  img_sobel = Image.fromarray(sobel) # Transformando o array numpy para imagem PIL\n",
        "  img_sobel.save(os.path.join(path_saida_sobel, file))\n",
        "\n",
        "  # APLICANDO O FILTRO DE LAPLACE\n",
        "  laplace = np.asarray(Laplace(img_array), np.uint8) # Aplicando o filtro Laplaciano\n",
        "  img_laplace = Image.fromarray(laplace) # Transformando o array numpy para imagem PIL\n",
        "  img_laplace.save(os.path.join(path_saida_laplace, file))\n",
        "\n",
        "  # APLICANDO O FILTRO DE PREWITT\n",
        "  prewitt = np.asarray(MagPrewitt(img_array), np.uint8) # Aplicando o filtro de Prewitt\n",
        "  img_prewitt = Image.fromarray(prewitt) # Transformando o array numpy para imagem PIL\n",
        "  img_prewitt.save(os.path.join(path_saida_prewitt, file))"
      ],
      "metadata": {
        "id": "iExHkBrkeudd"
      },
      "execution_count": null,
      "outputs": []
    },
    {
      "cell_type": "markdown",
      "source": [
        "###Pré-processamento dos dados de Teste"
      ],
      "metadata": {
        "id": "8bBUlhyWSNkE"
      }
    },
    {
      "cell_type": "code",
      "source": [
        "# Dados de teste\n",
        "\n",
        "path = \"gdrive/MyDrive/IA901_Projeto/Dados_filtrados/Teste/images/\"\n",
        "list_files = os.listdir(\"gdrive/MyDrive/IA901_Projeto/Dados_filtrados/Teste/images\")\n",
        "path_saida_NC = '/content/gdrive/My Drive/IA901_Projeto/Dados_pre_processing/NC/Teste/images'\n",
        "path_saida_sobel = '/content/gdrive/My Drive/IA901_Projeto/Dados_pre_processing/Filtro_Sobel/Teste/images'\n",
        "path_saida_laplace = '/content/gdrive/My Drive/IA901_Projeto/Dados_pre_processing/Filtro_Laplaciano/Teste/images'\n",
        "path_saida_prewitt = '/content/gdrive/My Drive/IA901_Projeto/Dados_pre_processing/Filtro_Prewitt/Teste/images'\n",
        "\n",
        "# CONVERSÃO PARA N.C.\n",
        "for i, file in enumerate(list_files):\n",
        "  \n",
        "  img = Image.open(path+file)\n",
        "  img_nc = img.convert(\"L\") # Conversão para níveis de cinza \n",
        "  img_nc.save(os.path.join(path_saida_NC, file))"
      ],
      "metadata": {
        "id": "zcO8oQPOW6Kw"
      },
      "execution_count": null,
      "outputs": []
    },
    {
      "cell_type": "code",
      "source": [
        "for i, file in enumerate(list_files):\n",
        "  \n",
        "  img = Image.open(path+file).convert(\"L\") # Lê a imagem e converte para n.c.\n",
        "  img_array = np.asarray(img) # Salvando a imagem como array \n",
        "\n",
        "  # APLICANDO O FILTRO DE SOBEL\n",
        "  sobel = np.asarray(MagSobel(img_array), np.uint8) # Aplicando o filtro de Sobel\n",
        "  img_sobel = Image.fromarray(sobel) # Transformando o array numpy para imagem PIL\n",
        "  img_sobel.save(os.path.join(path_saida_sobel, file))\n",
        "\n",
        "  # APLICANDO O FILTRO DE LAPLACE\n",
        "  laplace = np.asarray(Laplace(img_array), np.uint8) # Aplicando o filtro Laplaciano\n",
        "  img_laplace = Image.fromarray(laplace) # Transformando o array numpy para imagem PIL\n",
        "  img_laplace.save(os.path.join(path_saida_laplace, file))\n",
        "\n",
        "  # APLICANDO O FILTRO DE PREWITT\n",
        "  prewitt = np.asarray(MagPrewitt(img_array), np.uint8) # Aplicando o filtro de Prewitt\n",
        "  img_prewitt = Image.fromarray(prewitt) # Transformando o array numpy para imagem PIL\n",
        "  img_prewitt.save(os.path.join(path_saida_prewitt, file))"
      ],
      "metadata": {
        "id": "zxCqLa7ve4ef"
      },
      "execution_count": null,
      "outputs": []
    },
    {
      "cell_type": "markdown",
      "source": [
        "### Cópia dos arquivos de \"label\""
      ],
      "metadata": {
        "id": "r9bLpdqGSepN"
      }
    },
    {
      "cell_type": "code",
      "source": [
        "# Copiando os arquivos label - Treino\n",
        "\n",
        "src_dir = '/content/gdrive/My Drive/IA901_Projeto/Dados_filtrados/train/label_train.txt' # diretório de origem\n",
        "dest_dir_NC = '/content/gdrive/My Drive/IA901_Projeto/Dados_pre_processing/NC/train/label_train.txt' # diretório de saída\n",
        "dest_dir_Sobel = '/content/gdrive/My Drive/IA901_Projeto/Dados_pre_processing/Filtro_Sobel/train/label_train.txt' # diretório de saída\n",
        "dest_dir_Laplace = '/content/gdrive/My Drive/IA901_Projeto/Dados_pre_processing/Filtro_Laplaciano/train/label_train.txt' # diretório de saída\n",
        "dest_dir_Prewitt = '/content/gdrive/My Drive/IA901_Projeto/Dados_pre_processing/Filtro_Prewitt/train/label_train.txt' # diretório de saída\n",
        "\n",
        "shutil.copyfile(src_dir, dest_dir_NC)\n",
        "shutil.copyfile(src_dir, dest_dir_Sobel)\n",
        "shutil.copyfile(src_dir, dest_dir_Laplace)\n",
        "shutil.copyfile(src_dir, dest_dir_Prewitt)\n",
        "\n",
        "# Copiando os arquivos label - Teste\n",
        "\n",
        "src_dir = '/content/gdrive/My Drive/IA901_Projeto/Dados_filtrados/Teste/label_test.txt' # diretório de origem\n",
        "dest_dir_NC = '/content/gdrive/My Drive/IA901_Projeto/Dados_pre_processing/NC/Teste/label_test.txt' # diretório de saída\n",
        "dest_dir_Sobel = '/content/gdrive/My Drive/IA901_Projeto/Dados_pre_processing/Filtro_Sobel/Teste/label_test.txt' # diretório de saída\n",
        "dest_dir_Laplace = '/content/gdrive/My Drive/IA901_Projeto/Dados_pre_processing/Filtro_Laplaciano/Teste/label_test.txt' # diretório de saída\n",
        "dest_dir_Prewitt = '/content/gdrive/My Drive/IA901_Projeto/Dados_pre_processing/Filtro_Prewitt/Teste/label_test.txt' # diretório de saída\n",
        "\n",
        "shutil.copyfile(src_dir, dest_dir_NC)\n",
        "shutil.copyfile(src_dir, dest_dir_Sobel)\n",
        "shutil.copyfile(src_dir, dest_dir_Laplace)\n",
        "shutil.copyfile(src_dir, dest_dir_Prewitt)\n",
        "\n",
        "# Copiando os arquivos label - Validação\n",
        "\n",
        "src_dir = '/content/gdrive/My Drive/IA901_Projeto/Dados_filtrados/val/label_val.txt' # diretório de origem\n",
        "dest_dir_NC = '/content/gdrive/My Drive/IA901_Projeto/Dados_pre_processing/NC/val/label_val.txt' # diretório de saída\n",
        "dest_dir_Sobel = '/content/gdrive/My Drive/IA901_Projeto/Dados_pre_processing/Filtro_Sobel/val/label_val.txt' # diretório de saída\n",
        "dest_dir_Laplace = '/content/gdrive/My Drive/IA901_Projeto/Dados_pre_processing/Filtro_Laplaciano/val/label_val.txt' # diretório de saída\n",
        "dest_dir_Prewitt = '/content/gdrive/My Drive/IA901_Projeto/Dados_pre_processing/Filtro_Prewitt/val/label_val.txt' # diretório de saída\n",
        "\n",
        "shutil.copyfile(src_dir, dest_dir_NC)\n",
        "shutil.copyfile(src_dir, dest_dir_Sobel)\n",
        "shutil.copyfile(src_dir, dest_dir_Laplace)\n",
        "shutil.copyfile(src_dir, dest_dir_Prewitt)"
      ],
      "metadata": {
        "id": "1uu4PPOSYUV8",
        "colab": {
          "base_uri": "https://localhost:8080/",
          "height": 35
        },
        "outputId": "7530ef98-28da-4301-cea5-4535e7db3b1c"
      },
      "execution_count": null,
      "outputs": [
        {
          "output_type": "execute_result",
          "data": {
            "text/plain": [
              "'/content/gdrive/My Drive/IA901_Projeto/Dados_pre_processing/Filtro_Prewitt/val/label_val.txt'"
            ],
            "application/vnd.google.colaboratory.intrinsic+json": {
              "type": "string"
            }
          },
          "metadata": {},
          "execution_count": 8
        }
      ]
    },
    {
      "cell_type": "markdown",
      "source": [
        "## Verificando os pré-processamentos\n"
      ],
      "metadata": {
        "id": "dyNapWfiTUmt"
      }
    },
    {
      "cell_type": "code",
      "source": [
        "%cd /content/gdrive/MyDrive/IA901_Projeto/Dados_pre_processing/"
      ],
      "metadata": {
        "colab": {
          "base_uri": "https://localhost:8080/"
        },
        "id": "k1-jOa2pTYNU",
        "outputId": "7393a8e2-f6fc-49e6-8a87-ec797c81814b"
      },
      "execution_count": null,
      "outputs": [
        {
          "output_type": "stream",
          "name": "stdout",
          "text": [
            "/content/gdrive/.shortcut-targets-by-id/1r9oHXQ5JU33TQMJZYU2USd04KCn98S1_/IA901_Projeto/Dados_pre_processing\n"
          ]
        }
      ]
    },
    {
      "cell_type": "markdown",
      "source": [
        "###Imagens em níveis de cinza"
      ],
      "metadata": {
        "id": "gB7ajR_UVZiH"
      }
    },
    {
      "cell_type": "code",
      "source": [
        "# Caminho para os dados pré-processados (pasta onde tem o treino/val/test)\n",
        "DATA_DIR = \"NC\""
      ],
      "metadata": {
        "id": "tSZtP-1VT0Dl"
      },
      "execution_count": null,
      "outputs": []
    },
    {
      "cell_type": "code",
      "source": [
        "os.listdir(DATA_DIR)\n",
        "\n",
        "lens = {}\n",
        "\n",
        "for split in os.listdir(DATA_DIR):\n",
        "  lens[split] = len(os.listdir(DATA_DIR + '/' + split + '/images/'))\n",
        "  print(f'Na pasta de {split} temos {lens[split]} imagens.')"
      ],
      "metadata": {
        "colab": {
          "base_uri": "https://localhost:8080/"
        },
        "id": "g4fD0yj9T-K9",
        "outputId": "064f09ea-3b45-42b4-a255-4e57613f893e"
      },
      "execution_count": null,
      "outputs": [
        {
          "output_type": "stream",
          "name": "stdout",
          "text": [
            "Na pasta de val temos 1006 imagens.\n",
            "Na pasta de Teste temos 1266 imagens.\n",
            "Na pasta de train temos 1677 imagens.\n"
          ]
        }
      ]
    },
    {
      "cell_type": "markdown",
      "source": [
        "###Imagens filtradas - Filtro de Sobel"
      ],
      "metadata": {
        "id": "KA9ncx9GVyX1"
      }
    },
    {
      "cell_type": "code",
      "source": [
        "# Caminho para os dados pré-processados (pasta onde tem o treino/val/test)\n",
        "DATA_DIR = \"Filtro_Sobel\""
      ],
      "metadata": {
        "id": "Yiy6N-UMV7BV"
      },
      "execution_count": null,
      "outputs": []
    },
    {
      "cell_type": "code",
      "source": [
        "os.listdir(DATA_DIR)\n",
        "\n",
        "lens = {}\n",
        "\n",
        "for split in os.listdir(DATA_DIR):\n",
        "  lens[split] = len(os.listdir(DATA_DIR + '/' + split + '/images/'))\n",
        "  print(f'Na pasta de {split} temos {lens[split]} imagens.')"
      ],
      "metadata": {
        "colab": {
          "base_uri": "https://localhost:8080/"
        },
        "id": "5pZEAvoZWD8l",
        "outputId": "ac3dfc15-61e3-4af1-840a-8d8e61ccac40"
      },
      "execution_count": null,
      "outputs": [
        {
          "output_type": "stream",
          "name": "stdout",
          "text": [
            "Na pasta de Teste temos 1266 imagens.\n",
            "Na pasta de train temos 1677 imagens.\n",
            "Na pasta de val temos 1006 imagens.\n"
          ]
        }
      ]
    },
    {
      "cell_type": "markdown",
      "source": [
        "###Imagens filtradas - Filtro de Laplace"
      ],
      "metadata": {
        "id": "oKNhX9FfV041"
      }
    },
    {
      "cell_type": "code",
      "source": [
        "# Caminho para os dados pré-processados (pasta onde tem o treino/val/test)\n",
        "DATA_DIR = \"Filtro_Laplaciano\""
      ],
      "metadata": {
        "id": "211peDRGV_Dl"
      },
      "execution_count": null,
      "outputs": []
    },
    {
      "cell_type": "code",
      "source": [
        "os.listdir(DATA_DIR)\n",
        "\n",
        "lens = {}\n",
        "\n",
        "for split in os.listdir(DATA_DIR):\n",
        "  lens[split] = len(os.listdir(DATA_DIR + '/' + split + '/images/'))\n",
        "  print(f'Na pasta de {split} temos {lens[split]} imagens.')"
      ],
      "metadata": {
        "colab": {
          "base_uri": "https://localhost:8080/"
        },
        "id": "MhzuXc7VWNf1",
        "outputId": "7b056df0-6dbb-415b-ade0-524a3ade8621"
      },
      "execution_count": null,
      "outputs": [
        {
          "output_type": "stream",
          "name": "stdout",
          "text": [
            "Na pasta de Teste temos 1266 imagens.\n",
            "Na pasta de train temos 1677 imagens.\n",
            "Na pasta de val temos 1006 imagens.\n"
          ]
        }
      ]
    },
    {
      "cell_type": "markdown",
      "source": [
        "###Imagens filtradas - Filtro de Prewitt"
      ],
      "metadata": {
        "id": "vLyVIkgkV2Ul"
      }
    },
    {
      "cell_type": "code",
      "source": [
        "# Caminho para os dados pré-processados (pasta onde tem o treino/val/test)\n",
        "DATA_DIR = \"Filtro_Prewitt\""
      ],
      "metadata": {
        "id": "WenDQVPrWBoV"
      },
      "execution_count": null,
      "outputs": []
    },
    {
      "cell_type": "code",
      "source": [
        "os.listdir(DATA_DIR)\n",
        "\n",
        "lens = {}\n",
        "\n",
        "for split in os.listdir(DATA_DIR):\n",
        "  lens[split] = len(os.listdir(DATA_DIR + '/' + split + '/images/'))\n",
        "  print(f'Na pasta de {split} temos {lens[split]} imagens.')"
      ],
      "metadata": {
        "colab": {
          "base_uri": "https://localhost:8080/"
        },
        "id": "1ATlFM-lWUNk",
        "outputId": "ecd7a2b9-d71a-4c5a-98bd-a969cbb527a3"
      },
      "execution_count": null,
      "outputs": [
        {
          "output_type": "stream",
          "name": "stdout",
          "text": [
            "Na pasta de Teste temos 1266 imagens.\n",
            "Na pasta de train temos 1677 imagens.\n",
            "Na pasta de val temos 1006 imagens.\n"
          ]
        }
      ]
    },
    {
      "cell_type": "markdown",
      "source": [
        "### Copiando os arquivos de labels\n",
        "\n",
        "Cada imagem tem que ter um .txt correspondente ao arquivo de labels da referida imagem. Assim, copiou-se o arquivo de treino gerado a partir do processamento do notebook \"Creating labels from folders\" para a pasta com os arquivos de treino das imagens em níveis de cinza."
      ],
      "metadata": {
        "id": "S0xhtvPkCx0S"
      }
    },
    {
      "cell_type": "code",
      "source": [
        "src_dir = '/content/gdrive/My Drive/IA901_Projeto/Dados_filtrados/train/labels' # diretório de origem\n",
        "dest_dir_NC = '/content/gdrive/My Drive/IA901_Projeto/Dados_pre_processing/NC/train/labels' # diretório de saída\n",
        "dest_dir_Sobel = '/content/gdrive/My Drive/IA901_Projeto/Dados_pre_processing/Filtro_Sobel/train/labels' # diretório de saída\n",
        "dest_dir_Prewitt = '/content/gdrive/My Drive/IA901_Projeto/Dados_pre_processing/Filtro_Prewitt/train/labels' # diretório de saída\n",
        "\n",
        "shutil.copytree(src_dir, dest_dir_NC)\n",
        "shutil.copytree(src_dir, dest_dir_Sobel)\n",
        "shutil.copytree(src_dir, dest_dir_Prewitt)"
      ],
      "metadata": {
        "colab": {
          "base_uri": "https://localhost:8080/",
          "height": 35
        },
        "id": "bkVhiel5Adzz",
        "outputId": "2e178fb5-df51-4710-b6f6-d31810dd132e"
      },
      "execution_count": null,
      "outputs": [
        {
          "output_type": "execute_result",
          "data": {
            "text/plain": [
              "'/content/gdrive/My Drive/IA901_Projeto/Dados_pre_processing/Filtro_Prewitt/train/labels'"
            ],
            "application/vnd.google.colaboratory.intrinsic+json": {
              "type": "string"
            }
          },
          "metadata": {},
          "execution_count": 7
        }
      ]
    },
    {
      "cell_type": "code",
      "source": [
        "src_dir = '/content/gdrive/My Drive/IA901_Projeto/Dados_filtrados/val/labels' # diretório de origem\n",
        "dest_dir_NC = '/content/gdrive/My Drive/IA901_Projeto/Dados_pre_processing/NC/val/labels' # diretório de saída\n",
        "dest_dir_Sobel = '/content/gdrive/My Drive/IA901_Projeto/Dados_pre_processing/Filtro_Sobel/val/labels' # diretório de saída\n",
        "dest_dir_Prewitt = '/content/gdrive/My Drive/IA901_Projeto/Dados_pre_processing/Filtro_Prewitt/val/labels' # diretório de saída\n",
        "\n",
        "shutil.copytree(src_dir, dest_dir_NC)\n",
        "shutil.copytree(src_dir, dest_dir_Sobel)\n",
        "shutil.copytree(src_dir, dest_dir_Prewitt)"
      ],
      "metadata": {
        "id": "_TGWwXU1GTCW"
      },
      "execution_count": null,
      "outputs": []
    }
  ]
}