{
  "nbformat": 4,
  "nbformat_minor": 0,
  "metadata": {
    "colab": {
      "provenance": [],
      "gpuType": "T4",
      "toc_visible": true
    },
    "kernelspec": {
      "name": "python3",
      "display_name": "Python 3"
    },
    "language_info": {
      "name": "python"
    },
    "gpuClass": "standard"
  },
  "cells": [
    {
      "cell_type": "markdown",
      "source": [
        "# Segmentação e estimação da potência de painéis solares utilizando imagens de satélite\n",
        "---\n",
        "# Solar Panel Segmentation and Power Estimation Using Satellite Imagery"
      ],
      "metadata": {
        "id": "dymA_7bPRrKe"
      }
    },
    {
      "cell_type": "markdown",
      "source": [
        "## Library Imports"
      ],
      "metadata": {
        "id": "CqVUHnV_qram"
      }
    },
    {
      "cell_type": "code",
      "source": [
        "from google.colab import drive\n",
        "import random\n",
        "import zipfile\n",
        "from io import BytesIO\n",
        "from PIL import Image\n",
        "\n",
        "# Mount your Google Drive\n",
        "drive.mount('/content/drive')\n",
        "\n",
        "# Specify the path to the zip file in your Google Drive\n",
        "zip_path = '/content/drive/MyDrive/bdappv/google.zip'\n",
        "\n",
        "# Open the zip file\n",
        "with zipfile.ZipFile(zip_path, 'r') as zip_ref:\n",
        "    # Get a list of all file names in the zip\n",
        "    file_names = zip_ref.namelist()\n",
        "\n",
        "    # Select a random file from the list\n",
        "    random_file_name = random.choice(file_names)\n",
        "\n",
        "    # Extract the random file as a BytesIO object\n",
        "    file_data = BytesIO(zip_ref.read(random_file_name))\n",
        "\n",
        "# Open and display the image using Pillow\n",
        "image = Image.open(file_data)\n",
        "image.show()\n"
      ],
      "metadata": {
        "colab": {
          "base_uri": "https://localhost:8080/",
          "height": 434
        },
        "id": "05D_2lDpVHKw",
        "outputId": "e4e56945-bead-44f3-c9a0-be8e5ddf099a"
      },
      "execution_count": 51,
      "outputs": [
        {
          "output_type": "stream",
          "name": "stdout",
          "text": [
            "Drive already mounted at /content/drive; to attempt to forcibly remount, call drive.mount(\"/content/drive\", force_remount=True).\n"
          ]
        },
        {
          "output_type": "display_data",
          "data": {
            "text/plain": [
              "<PIL.PngImagePlugin.PngImageFile image mode=L size=400x400 at 0x7F4B6B61A890>"
            ],
            "image/png": "[encoded data removed]"
          },
          "metadata": {}
        }
      ]
    },
    {
      "cell_type": "markdown",
      "source": [
        "Pick a random image from folder to create the \"black mask\""
      ],
      "metadata": {
        "id": "tjtEceEuTWSy"
      }
    },
    {
      "cell_type": "code",
      "source": [
        "type(image), Image.Image.getbands(image)"
      ],
      "metadata": {
        "colab": {
          "base_uri": "https://localhost:8080/"
        },
        "id": "dYmaY3X6RZg-",
        "outputId": "1fb15021-8bc4-4ea2-ec56-7eb3e5e54746"
      },
      "execution_count": 52,
      "outputs": [
        {
          "output_type": "execute_result",
          "data": {
            "text/plain": [
              "(PIL.PngImagePlugin.PngImageFile, ('L',))"
            ]
          },
          "metadata": {},
          "execution_count": 52
        }
      ]
    },
    {
      "cell_type": "code",
      "source": [
        "black_mask = Image.new(\"L\", image.size, 0)\n",
        "\n",
        "# Display the black image\n",
        "black_mask.show()"
      ],
      "metadata": {
        "colab": {
          "base_uri": "https://localhost:8080/",
          "height": 417
        },
        "id": "WcoAYDkzNqDa",
        "outputId": "e2c90582-ad6c-410d-e656-a1a9a69376dd"
      },
      "execution_count": 53,
      "outputs": [
        {
          "output_type": "display_data",
          "data": {
            "text/plain": [
              "<PIL.Image.Image image mode=L size=400x400 at 0x7F4B6B61B850>"
            ],
            "image/png": "[encoded data removed]"
          },
          "metadata": {}
        }
      ]
    },
    {
      "cell_type": "code",
      "source": [
        "folder_path = '/content/drive/MyDrive/bdappv/'\n",
        "\n",
        "# Save the black image as a PNG file to the specified folder\n",
        "black_mask.save(folder_path + 'black_mask.png', 'PNG')"
      ],
      "metadata": {
        "id": "WFTtiteLS322"
      },
      "execution_count": 55,
      "outputs": []
    }
  ]
}