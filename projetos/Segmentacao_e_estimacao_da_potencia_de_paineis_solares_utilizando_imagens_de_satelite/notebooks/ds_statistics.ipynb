{
  "cells": [
    {
      "cell_type": "markdown",
      "metadata": {
        "id": "UbN_T9Tuz0fZ"
      },
      "source": [
        "## **Segmentação e determinação da potência de painéis solares utilizando imagens de satélite**\n",
        "\n",
        "Devs:\n",
        "*   Juan Carlos Cortez Aucapiña - 265568\n",
        "*   Luiza Higino Silva Santos - 264535\n",
        "*   Sergio Augusto de Almeida Christoforo - 249522"
      ]
    },
    {
      "cell_type": "markdown",
      "metadata": {
        "id": "SIIK-Q0q06Rj"
      },
      "source": [
        "#### **Objetivo**\n",
        "\n",
        "O objetivo deste projeto é utilizar ferramentas de análise de imagens e reconhecimento de padrões para segmentar painéis solares em imagens de satélite. A partir da segmentação, estimar a potência dos painéis com uma rede neural."
      ]
    },
    {
      "cell_type": "markdown",
      "metadata": {
        "id": "8l0piNBy1jSl"
      },
      "source": [
        "## **Bibliotecas e Imports**"
      ]
    },
    {
      "cell_type": "code",
      "execution_count": null,
      "metadata": {
        "id": "7I4b2moF1iU3"
      },
      "outputs": [],
      "source": [
        "import pandas as pd\n",
        "import os\n",
        "from google.colab import drive \n",
        "import numpy as np\n",
        "import json\n",
        "import random\n",
        "import math\n",
        "from sklearn.model_selection import train_test_split\n",
        "\n",
        "from PIL import Image"
      ]
    },
    {
      "cell_type": "code",
      "execution_count": null,
      "metadata": {
        "colab": {
          "base_uri": "https://localhost:8080/"
        },
        "id": "IVWU8iVwzk-s",
        "outputId": "80991f88-dd94-49da-f782-c3e9a192cf29"
      },
      "outputs": [
        {
          "output_type": "stream",
          "name": "stdout",
          "text": [
            "Drive already mounted at /content/gdrive; to attempt to forcibly remount, call drive.mount(\"/content/gdrive\", force_remount=True).\n"
          ]
        }
      ],
      "source": [
        "drive.mount('/content/gdrive')\n",
        "data_dir = \"/content/gdrive/MyDrive/bdappv/\""
      ]
    },
    {
      "cell_type": "markdown",
      "metadata": {
        "id": "LrW6pg5812iv"
      },
      "source": [
        "## **Funções**"
      ]
    },
    {
      "cell_type": "code",
      "execution_count": null,
      "metadata": {
        "id": "ZIjDPTsx18sP"
      },
      "outputs": [],
      "source": [
        "#______________________________________________________________________________#\n",
        "#  Function to obtain a list of files\n",
        "#______________________________________________________________________________#\n",
        "def get_list(GoogleOrIgn, MaskOrImg):\n",
        "    \"\"\"\n",
        "    GoogleOrIgn: A string that can be 'Google' or 'Ign' to indicate the path of the \n",
        "    files.\n",
        "\n",
        "    MaskOrImg: A string that can be 'mask' or 'img' to indicate which file to load.\n",
        "\n",
        "    Returns a list with all the file names from a directory on the drive.\n",
        "    \"\"\"\n",
        "\n",
        "    if GoogleOrIgn == 'Google':\n",
        "        path = '/content/gdrive/MyDrive/bdappv/google'\n",
        "\n",
        "    elif GoogleOrIgn == 'Ign':\n",
        "        path = '/content/gdrive/MyDrive/bdappv/ign'\n",
        "\n",
        "    else:\n",
        "        raise ValueError(\"GoogleOrIgn deve ser 'Google' ou 'Ign'.\")\n",
        "\n",
        "    if MaskOrImg == 'Mask':\n",
        "        files_path = path+'/mask'\n",
        "\n",
        "    elif MaskOrImg == 'Img':\n",
        "        files_path = path+'/img'\n",
        "\n",
        "    else:\n",
        "        raise ValueError(\"MaskOrImg deve ser 'Mask' ou 'Img'.\")\n",
        "\n",
        "    files_list = os.listdir(files_path)\n",
        "\n",
        "    return files_list\n",
        "#______________________________________________________________________________#\n",
        "#  Function to save a list of files\n",
        "#______________________________________________________________________________#\n",
        "def save_list(files_list, GoogleOrIgn, MaskOrImg):\n",
        "    \"\"\"\n",
        "    GoogleOrIgn: A string that can be 'Google' or 'Ign' to indicate the path where \n",
        "    the files will be saved.\n",
        "\n",
        "    MaskOrImg: A string that can be 'mask' or 'img' to indicate the name of the file\n",
        "    to be saved.\n",
        "\n",
        "    Saves a list of files obtained with the get_list command.\n",
        "    \"\"\"\n",
        "\n",
        "    if GoogleOrIgn == 'Google':\n",
        "        path = '/content/gdrive/MyDrive/bdappv/google'\n",
        "\n",
        "    elif GoogleOrIgn == 'Ign':\n",
        "        path = '/content/gdrive/MyDrive/bdappv/ign'\n",
        "\n",
        "    else:\n",
        "        raise ValueError(\"GoogleOrIgn deve ser 'Google' ou 'Ign'.\")\n",
        "\n",
        "    if MaskOrImg == 'Mask':\n",
        "        file_name = path+'/listed_masks.txt'\n",
        "\n",
        "    elif MaskOrImg == 'Img':\n",
        "        file_name = path+'/listed_imgs.txt'\n",
        "\n",
        "    else:\n",
        "        raise ValueError(\"MaskOrImg deve ser 'Mask' ou 'Img'.\")\n",
        "\n",
        "#   print(file_name)\n",
        "    np.savetxt(file_name, files_list, fmt='%s')\n",
        "#______________________________________________________________________________#\n",
        "#  Function to read an image file\n",
        "#______________________________________________________________________________#\n",
        "def read_list(GoogleOrIgn, MaskOrImg):\n",
        "    \"\"\"\n",
        "    GoogleOrIgn: A string that can be 'Google' or 'Ign' to indicate the path where \n",
        "    the file to be read is located.\n",
        "\n",
        "    MaskOrImg: A string that can be 'mask' or 'img' to indicate the name of the file\n",
        "    to be read.\n",
        "\n",
        "    Reads a list that contains all the files obtained with the get_list command and \n",
        "    saved with save_list.\n",
        "    \"\"\"\n",
        "\n",
        "    if GoogleOrIgn == 'Google':\n",
        "        path = '/content/gdrive/MyDrive/bdappv/google'\n",
        "\n",
        "    elif GoogleOrIgn == 'Ign':\n",
        "        path = '/content/gdrive/MyDrive/bdappv/ign'\n",
        "\n",
        "    else:\n",
        "        raise ValueError(\"GoogleOrIgn deve ser 'Google' ou 'Ign'.\")\n",
        "\n",
        "    if MaskOrImg == 'Mask':\n",
        "        file_name = path+'/listed_masks.txt'\n",
        "\n",
        "    elif MaskOrImg == 'Img':\n",
        "        file_name = path+'/listed_imgs.txt'\n",
        "\n",
        "    else:\n",
        "        raise ValueError(\"MaskOrImg deve ser 'Mask' ou 'Img'.\")\n",
        "\n",
        "#    with open(file_name, 'r') as file:\n",
        "#        lines = file.readlines()\n",
        "#        files_list = np.loadtxt(lines, dtype=str, delimiter='\\n', comments=None)\n",
        "#    return files_list\n",
        "\n",
        "    #files_list = np.loadtxt(file_name, dtype=str)\n",
        "    files_list = np.genfromtxt(file_name, dtype=str, delimiter='\\n', invalid_raise=False, filling_values=\"\")\n",
        "\n",
        "    return files_list\n",
        "#______________________________________________________________________________#\n",
        "#  Function to categorize the dataset\n",
        "#______________________________________________________________________________#\n",
        "def categorize_data(google_img_list, ign_img_list, google_mask_list, ign_mask_list):\n",
        "    \"\"\"\n",
        "    google_img_list: List of images captured from the Google database;\n",
        "\n",
        "    ign_img_list: List of images captured from the IGN database;\n",
        "\n",
        "    google_mask_list: List of masks associated with the Google images;\n",
        "\n",
        "    ign_mask_list: List of masks associated with the IGN images;\n",
        "\n",
        "    Returns two category dictionaries with the occurrence count of 'masked' and \n",
        "    'unmasked' in the Google and IGN databases. It also returns two dictionaries, \n",
        "    google_data and ign_data, that store the categories for each image in their \n",
        "    respective databases.\n",
        "    \"\"\"\n",
        "\n",
        "    google_categories = {'masked': 0, 'unmasked': 0}\n",
        "    ign_categories = {'masked': 0, 'unmasked': 0}\n",
        "\n",
        "    google_data = {}\n",
        "    ign_data = {}\n",
        "\n",
        "    for img in google_img_list:\n",
        "        if img in google_mask_list:\n",
        "            google_data[img] = 'masked'\n",
        "            google_categories['masked'] += 1\n",
        "        else:\n",
        "            google_data[img] = 'unmasked'\n",
        "            google_categories['unmasked'] += 1\n",
        "\n",
        "    for img in ign_img_list:\n",
        "        if img in ign_mask_list:\n",
        "            ign_data[img] = 'masked'\n",
        "            ign_categories['masked'] += 1\n",
        "        else:\n",
        "            ign_data[img] = 'unmasked'\n",
        "            ign_categories['unmasked'] += 1\n",
        "\n",
        "    return google_categories, ign_categories, google_data, ign_data\n",
        "\n",
        "\n",
        "#______________________________________________________________________________#\n",
        "#  Function to filter data with and without masks\n",
        "#______________________________________________________________________________#\n",
        "def filter_dictionary(dictionary, value):\n",
        "    \"\"\"\n",
        "    dictionary: Input data, dictionary of values with and without masks \n",
        "    (google_data or ign_data).\n",
        "\n",
        "    value: Desired rule ('masked' or 'unmasked').\n",
        "\n",
        "    Returns a data vector that adheres to the established rule.\n",
        "    \"\"\"\n",
        "\n",
        "    filtered_dictionary = [key for key, val in dictionary.items() if val == value]\n",
        "\n",
        "    return filtered_dictionary\n",
        "#______________________________________________________________________________#\n",
        "#  Function to randomly select elements from the list of images\n",
        "#______________________________________________________________________________#\n",
        "def select_random_percentage(list, percentage):\n",
        "    \"\"\"\n",
        "    list: A list of any elements.\n",
        "\n",
        "    percentage: The percentage of randomly selected elements from the list.\n",
        "\n",
        "    Returns a new list with randomly chosen elements.\n",
        "    \"\"\"\n",
        "    # Define a seed\n",
        "    random.seed(42)\n",
        "    \n",
        "    # Calcula quantos elementos correspondem a porcentagem\n",
        "    n_elements = int(len(data_list) * (percentage / 100))\n",
        "    \n",
        "    # Seleciona aleatoriamente n elementos\n",
        "    selected_elements = random.sample(data_list, n_elements)\n",
        "    \n",
        "    # Retorna a lista de elementos selecionados\n",
        "    return selected_elements\n",
        "#______________________________________________________________________________#\n",
        "#  Function to select images based on uniformity criterion\n",
        "#______________________________________________________________________________#\n",
        "def list_threshold(GoogleOrIgn, threshold=0.95):\n",
        "    \"\"\"\n",
        "    GoogleOrIgn: A string that can be 'Google' or 'Ign' to indicate the path where \n",
        "    the file to be read is located.\n",
        "\n",
        "    threshold (float): Threshold for the percentage of pixels with the same value.\n",
        "\n",
        "    Returns a dictionary containing the paths of the images that meet the selection \n",
        "    criteria.\n",
        "    \"\"\"\n",
        "\n",
        "    if GoogleOrIgn == 'Google':\n",
        "        path = '/content/gdrive/MyDrive/bdappv/google/'\n",
        "    elif GoogleOrIgn == 'Ign':\n",
        "        path = '/content/gdrive/MyDrive/bdappv/ign/'\n",
        "    else:\n",
        "        raise ValueError(\"GoogleOrIgn deve ser 'Google' ou 'Ign'.\")\n",
        "\n",
        "    results = {}\n",
        "    img_list = read_list(GoogleOrIgn, 'Img')\n",
        "    img_path = path + 'img'\n",
        "\n",
        "    for filename in img_list:\n",
        "        filepath = os.path.join(img_path, filename)\n",
        "        print(i)\n",
        "        img = Image.open(filepath)\n",
        "        img_np = np.array(img)\n",
        "        counts = np.bincount(img_np.ravel())\n",
        "        max_val = np.argmax(counts)\n",
        "        count_max = counts[max_val]\n",
        "\n",
        "        if (count_max / img_np.size) >= threshold:\n",
        "            results[filename] = True\n",
        "        else:\n",
        "            results[filename] = False\n",
        "    return results\n",
        "#______________________________________________________________________________#\n",
        "#  Function to clear the dictionary\n",
        "#______________________________________________________________________________#\n",
        "def clean_dictionary(dictionary, vector):\n",
        "    \"\"\"\n",
        "    dictionary: Dictionary with the list of images.\n",
        "\n",
        "    vector: Vector with all the terms to be removed.\n",
        "\n",
        "    Returns a dictionary containing only the terms that are not present in the \n",
        "    vector.\n",
        "    \"\"\"\n",
        "    for key in vector:\n",
        "        dictionary.pop(key)\n",
        "\n",
        "    return clean_dictionary\n",
        "#______________________________________________________________________________#\n",
        "#  Function to save the dictionary\n",
        "#______________________________________________________________________________#\n",
        "def save_dictionary(dictionary, path_filename):    \n",
        "    \"\"\"\n",
        "    dictionary: Dictionary with the list of images.\n",
        "\n",
        "    path_filename: Path where the file will be saved along with the file name.\n",
        "\n",
        "    Saves the dictionary at the chosen path.\n",
        "    \"\"\"\n",
        "\n",
        "    with open(path_filename, 'w') as file:\n",
        "        json.dump(dictionary, file)\n",
        "#______________________________________________________________________________#\n",
        "#  Function to read the dictionary\n",
        "#______________________________________________________________________________#\n",
        "def read_dictionary(path_filename):\n",
        "    \"\"\"\n",
        "    path_filename: Path where the dictionary file is saved, along with the file name\n",
        "\n",
        "    Return the saved dictionary.\n",
        "    \"\"\"\n",
        "\n",
        "    with open(path_filename, 'r') as file:\n",
        "        content = file.read()\n",
        "\n",
        "    dictionary = json.loads(content)\n",
        "\n",
        "    return(dictionary)"
      ]
    },
    {
      "cell_type": "markdown",
      "metadata": {
        "id": "q0KKS6Vz71Hq"
      },
      "source": [
        "## **Código**\n"
      ]
    },
    {
      "cell_type": "code",
      "execution_count": null,
      "metadata": {
        "id": "IecAwPOr7873"
      },
      "outputs": [],
      "source": [
        "#google_img_list = get_list('Google','Img'); save_list(google_img_list,'Google','Img');\n",
        "#ign_img_list = get_list('Ign','Img'); save_list(ign_img_list,'Ign','Img');\n",
        "#google_mask_list = get_list('Google','Mask'); save_list(google_mask_list,'Google','Mask');\n",
        "#ign_mask_list = get_list('Ign','Mask'); save_list(ign_mask_list,'Ign','Mask');"
      ]
    },
    {
      "cell_type": "code",
      "source": [
        "google_img_list = read_list('Google', 'Img').tolist();\n",
        "google_mask_list = read_list('Google', 'Mask').tolist();\n",
        "ign_img_list = read_list('Ign', 'Img').tolist();\n",
        "ign_mask_list = read_list('Ign', 'Mask').tolist();"
      ],
      "metadata": {
        "id": "G9bmu7i8AeGT"
      },
      "execution_count": null,
      "outputs": []
    },
    {
      "cell_type": "code",
      "execution_count": null,
      "metadata": {
        "id": "Gzo_2kQ1Ejg4"
      },
      "outputs": [],
      "source": [
        "google_categories, ign_categories, google_data, ign_data = categorize_data(google_img_list, ign_img_list, google_mask_list, ign_mask_list);"
      ]
    },
    {
      "cell_type": "code",
      "execution_count": null,
      "metadata": {
        "colab": {
          "base_uri": "https://localhost:8080/"
        },
        "id": "dT8UwvTrM6Pq",
        "outputId": "467f1091-c119-4e69-ea20-fa74e7ee899b"
      },
      "outputs": [
        {
          "output_type": "stream",
          "name": "stdout",
          "text": [
            "Imagens na base de dados obtida com Google:  {'masked': 13303, 'unmasked': 15522}\n",
            "Imagens na base de dados obtida com IGN:  {'masked': 7685, 'unmasked': 9649}\n"
          ]
        }
      ],
      "source": [
        "print('Imagens na base de dados obtida com Google: ',google_categories);\n",
        "print('Imagens na base de dados obtida com IGN: ',ign_categories);"
      ]
    },
    {
      "cell_type": "code",
      "execution_count": null,
      "metadata": {
        "id": "Tbz3Nl2TiV4-"
      },
      "outputs": [],
      "source": [
        "google_masked = filter_dictionary(google_data, 'masked');\n",
        "google_unmasked = filter_dictionary(google_data, 'unmasked');\n",
        "ign_masked = filter_dictionary(ign_data, 'masked');\n",
        "ign_unmasked = filter_dictionary(ign_data, 'unmasked');"
      ]
    },
    {
      "cell_type": "code",
      "execution_count": null,
      "metadata": {
        "id": "txcfLtHFhzls"
      },
      "outputs": [],
      "source": [
        "# Só é necessário roda uma vez para obter os dicionários.\n",
        "#threshold_list_google = list_threshold('Google', threshold=0.95);\n",
        "#save_dictionary(threshold_list_google, '/content/gdrive/MyDrive/bdappv/google/threshold_data_google.txt')\n",
        "#threshold_list_google = list_threshold('Ign', threshold=0.95);\n",
        "#save_dictionary(threshold_list_ign, '/content/gdrive/MyDrive/bdappv/ign/threshold_data_ign.txt')"
      ]
    },
    {
      "cell_type": "code",
      "execution_count": null,
      "metadata": {
        "id": "DtsvuLhzJs0c"
      },
      "outputs": [],
      "source": [
        "#threshold_array_google =np.loadtxt('/content/gdrive/MyDrive/bdappv/google/threshold_data_google.txt', delimiter=',', dtype=str)\n",
        "#threshold_array_ign = np.loadtxt('/content/gdrive/MyDrive/bdappv/ign/threshold_data_ign.txt', delimiter=',', dtype=str)\n",
        "\n",
        "threshold_list_google = read_dictionary('/content/gdrive/MyDrive/bdappv/google/threshold_data_google.txt');\n",
        "threshold_list_ign = read_dictionary('/content/gdrive/MyDrive/bdappv/ign/threshold_data_ign.txt');"
      ]
    },
    {
      "cell_type": "code",
      "execution_count": null,
      "metadata": {
        "colab": {
          "base_uri": "https://localhost:8080/"
        },
        "id": "QPNOD87kMWZx",
        "outputId": "589835cd-6403-45a8-e187-c33e33b06cbd"
      },
      "outputs": [
        {
          "output_type": "stream",
          "name": "stdout",
          "text": [
            "Quatidade de imagens com sinalização de erro - Google:  177\n",
            "Quatidade de imagens com sinalização de erro - Google:  95\n"
          ]
        }
      ],
      "source": [
        "trash_data_google = filter_dictionary(threshold_list_google, True);\n",
        "print('Quatidade de imagens com sinalização de erro - Google: ',len(trash_data_google));\n",
        "trash_data_ign = filter_dictionary(threshold_list_ign, True);\n",
        "print('Quatidade de imagens com sinalização de erro - Google: ',len(trash_data_ign));"
      ]
    },
    {
      "cell_type": "markdown",
      "metadata": {
        "id": "jLWiFzFhPEhM"
      },
      "source": [
        "## **Seleção do conjunto de testes**"
      ]
    },
    {
      "cell_type": "code",
      "execution_count": null,
      "metadata": {
        "id": "5yieDxPFPO4V"
      },
      "outputs": [],
      "source": [
        "cleaned_list_masked = [term for term in google_masked if term not in trash_data_google];\n",
        "cleaned_list_unmasked = [term for term in google_unmasked if term not in trash_data_google];\n",
        "\n",
        "# Conjunto total de dados:\n",
        "random.seed(42);\n",
        "selected_google_masked = cleaned_list_masked;\n",
        "selected_google_unmasked = random.sample(cleaned_list_unmasked, math.ceil((0.3*len(selected_google_masked))/0.7))"
      ]
    },
    {
      "cell_type": "code",
      "source": [
        "train_validation_set_masked, test_set_masked = train_test_split(selected_google_masked, train_size=0.8, random_state=42)\n",
        "train_set_masked, validation_set_masked = train_test_split(train_validation_set_masked, train_size=0.75, random_state=42)"
      ],
      "metadata": {
        "id": "CLRS0zpTKgx2"
      },
      "execution_count": null,
      "outputs": []
    },
    {
      "cell_type": "markdown",
      "metadata": {
        "id": "XpaADqd3Xmz8"
      },
      "source": [
        "## **Alguns testes**"
      ]
    },
    {
      "cell_type": "code",
      "source": [
        "cleaned_list_masked_ign = [term for term in ign_masked if term not in trash_data_ign];\n",
        "cleaned_list_unmasked_ign = [term for term in ign_unmasked if term not in trash_data_ign];"
      ],
      "metadata": {
        "id": "RUQ6DtWjJ6Fq"
      },
      "execution_count": null,
      "outputs": []
    },
    {
      "cell_type": "code",
      "execution_count": null,
      "metadata": {
        "id": "nursymoZXlwN",
        "colab": {
          "base_uri": "https://localhost:8080/"
        },
        "outputId": "967185f9-e42a-41bf-f90e-ac393d0961b3"
      },
      "outputs": [
        {
          "output_type": "stream",
          "name": "stdout",
          "text": [
            "['GVTSI1CBEVTYEX.png']\n"
          ]
        }
      ],
      "source": [
        "A = random.sample(cleaned_list_unmasked_ign, 1)\n",
        "print(A)"
      ]
    },
    {
      "cell_type": "code",
      "source": [
        "def check_common_terms(list1, list2):\n",
        "    set1 = set(list1)\n",
        "    set2 = set(list2)\n",
        "\n",
        "    if set1 & set2:\n",
        "        return True\n",
        "    else:\n",
        "        return False"
      ],
      "metadata": {
        "id": "MxqaYWlmHAzH"
      },
      "execution_count": null,
      "outputs": []
    },
    {
      "cell_type": "code",
      "source": [
        "check_common_terms(train_set_masked,validation_set_masked)"
      ],
      "metadata": {
        "colab": {
          "base_uri": "https://localhost:8080/"
        },
        "id": "u-nEZOfFHDZO",
        "outputId": "371c27f5-d153-49f1-b492-ca963ec3ae2e"
      },
      "execution_count": null,
      "outputs": [
        {
          "output_type": "execute_result",
          "data": {
            "text/plain": [
              "False"
            ]
          },
          "metadata": {},
          "execution_count": 16
        }
      ]
    },
    {
      "cell_type": "code",
      "execution_count": null,
      "metadata": {
        "id": "vdU-l6mjRqOP"
      },
      "outputs": [],
      "source": [
        "import matplotlib.pyplot as plt\n",
        "image_list = trash_data_google\n",
        "image_size=(2, 2)\n",
        "num_images = len(image_list)\n",
        "fig, axes = plt.subplots(1, num_images,figsize=(num_images * image_size[0], image_size[1]))\n",
        "\n",
        "for i, filename in enumerate(image_list):\n",
        "    image_path = os.path.join('/content/gdrive/MyDrive/bdappv/google/img/', filename)\n",
        "    image = Image.open(image_path)\n",
        "    axes[i].imshow(image)\n",
        "    axes[i].axis('off')\n",
        "\n",
        "plt.show()"
      ]
    },
    {
      "cell_type": "markdown",
      "metadata": {
        "id": "16uo0KeZX6JX"
      },
      "source": [
        "## **Algumas Referências**\n",
        "\n",
        "\"Segmentation of Satellite Images of Solar Panels Using Fast Deep Learning Model\" - https://www.ijrer.org/ijrer/index.php/ijrer/article/view/11607/pdf\n",
        "(80%/20%)\n",
        "\n",
        "\"Estimation of rooftop solar energy generation using Satellite Image Segmentation\" - https://ieeexplore.ieee.org/document/8971578 (80/10/10)\n",
        "\n",
        "\"Panel Segmentation: A Python Package for Automated Solar Array Metadata Extraction Using Satellite Imagery\" - https://ieeexplore.ieee.org/document/10008194 (63/25/12)\n",
        "\n",
        "\"SolarFinder: Automatic Detection of Solar Photovoltaic Arrays\" - https://ieeexplore.ieee.org/abstract/document/9111006?casa_token=BRGGve63_NgAAAAA:hV2kmVbSGPzD9zfckkhISndDHbweEyD1FR4axwkAbxfs6EhkRfY2yR5Y0expG1xTn7-3nbiymck (70/30)\n",
        "\n",
        "\"Multi-resolution dataset for photovoltaic panel segmentation from satellite and aerial imagery\" - https://essd.copernicus.org/articles/13/5389/2021/ (80/20)"
      ]
    },
    {
      "cell_type": "markdown",
      "metadata": {
        "id": "3RiPzFhPRtvN"
      },
      "source": [
        "### Rascunho"
      ]
    },
    {
      "cell_type": "code",
      "execution_count": null,
      "metadata": {
        "id": "gsYniGxtSR9q"
      },
      "outputs": [],
      "source": [
        "threshold_list_ign = list_threshold('Ign', threshold=0.95);"
      ]
    },
    {
      "cell_type": "code",
      "execution_count": null,
      "metadata": {
        "id": "pd9O_m2yt3CE"
      },
      "outputs": [],
      "source": [
        "trash_data_google = filter_dictionary(threshold_list_google, True);\n",
        "trash_data_ign = filter_dictionary(threshold_list_ign, True);"
      ]
    },
    {
      "cell_type": "code",
      "execution_count": null,
      "metadata": {
        "id": "S2s6edetu4Pd"
      },
      "outputs": [],
      "source": [
        "print('Quatidade de imagens que serão removidas - Google: ',len(trash_data_google));\n",
        "print('Quatidade de imagens que serão removidas - IGN: ',len(trash_data_ign));"
      ]
    },
    {
      "cell_type": "code",
      "execution_count": null,
      "metadata": {
        "id": "-s38zp262aYR"
      },
      "outputs": [],
      "source": [
        "np.savetxt('/content/gdrive/MyDrive/IA901_Projeto_PV/bdappv/google/trash_data_google.txt', trash_data_google, fmt='%s');\n",
        "np.savetxt('/content/gdrive/MyDrive/IA901_Projeto_PV/bdappv/google/trash_data_ign.txt', trash_data_google, fmt='%s')"
      ]
    },
    {
      "cell_type": "code",
      "execution_count": null,
      "metadata": {
        "id": "t1kFvA-S3LJR"
      },
      "outputs": [],
      "source": []
    },
    {
      "cell_type": "code",
      "execution_count": null,
      "metadata": {
        "id": "d-buOOj8txAZ"
      },
      "outputs": [],
      "source": [
        "print(trash_data)"
      ]
    },
    {
      "cell_type": "code",
      "execution_count": null,
      "metadata": {
        "id": "AHlugqBO0pYH"
      },
      "outputs": [],
      "source": [
        "from PIL import Image\n",
        "\n",
        "img = Image.open('/content/gdrive/MyDrive/IA901_Projeto_PV/bdappv/google/img/AASNS567FOZJTZ.png')\n",
        "img.show()"
      ]
    },
    {
      "cell_type": "code",
      "execution_count": null,
      "metadata": {
        "id": "8TjFInsp54YQ"
      },
      "outputs": [],
      "source": [
        "counts = np.bincount(img_np.ravel())\n",
        "max_val = np.argmax(counts)\n",
        "count_max = counts[max_val]\n",
        "\n",
        "if (count_max / img_np.size) >= 0.98:\n",
        "  results = True\n",
        "else:\n",
        "  results = False\n",
        "\n",
        "print(results)"
      ]
    },
    {
      "cell_type": "code",
      "execution_count": null,
      "metadata": {
        "id": "yCQJh36QdIc2"
      },
      "outputs": [],
      "source": [
        "print(A)\n"
      ]
    },
    {
      "cell_type": "code",
      "execution_count": null,
      "metadata": {
        "id": "6lxcY5UndV4g"
      },
      "outputs": [],
      "source": [
        "trash_data = filter_dictionary(threshold_list, True);\n",
        "len(trash_data)\n"
      ]
    }
  ],
  "metadata": {
    "colab": {
      "collapsed_sections": [
        "XpaADqd3Xmz8",
        "3RiPzFhPRtvN"
      ],
      "provenance": []
    },
    "kernelspec": {
      "display_name": "Python 3",
      "name": "python3"
    },
    "language_info": {
      "name": "python"
    }
  },
  "nbformat": 4,
  "nbformat_minor": 0
}