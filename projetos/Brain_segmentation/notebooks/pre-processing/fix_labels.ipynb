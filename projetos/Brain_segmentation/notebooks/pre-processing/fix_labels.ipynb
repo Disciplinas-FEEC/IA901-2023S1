{
 "cells": [
  {
   "cell_type": "markdown",
   "metadata": {},
   "source": [
    "# Padrinização das labels\n",
    "* A padronização das labels foi feita usando a biblioteca simpleITK, mantendo os valores das labels de todos os datasets binárias (0 e 1)."
   ]
  },
  {
   "cell_type": "code",
   "execution_count": 1,
   "metadata": {},
   "outputs": [
    {
     "name": "stderr",
     "output_type": "stream",
     "text": [
      "100%|██████████| 29/29 [00:05<00:00,  5.62it/s]\n"
     ]
    }
   ],
   "source": [
    "import SimpleITK as sitk\n",
    "import os\n",
    "import glob\n",
    "from tqdm import tqdm\n",
    "\n",
    "def fix_label(data_paths):\n",
    "    fixed_label = None\n",
    "    \n",
    "    for label in tqdm(data_paths):\n",
    "        original_label = sitk.ReadImage(label)\n",
    "        array = sitk.GetArrayFromImage(original_label)\n",
    "\n",
    "        fixed_array = (array > 0.5).astype(array.dtype)\n",
    "\n",
    "        fixed_label = sitk.GetImageFromArray(fixed_array)\n",
    "        fixed_label.CopyInformation(original_label)\n",
    "\n",
    "        out_name = 'fix_brainmask_T1w.nii.gz'\n",
    "\n",
    "        sitk.WriteImage(fixed_label, os.path.join(os.path.dirname(label), out_name))\n",
    "    \n",
    "    return fixed_label\n",
    "    \n",
    "folder_mri = \"/home/joany/brain_dataset/split_dataset/teste\"\n",
    "data_paths = glob.glob(os.path.join(folder_mri, \"*\", \"brainmask_T1w.nii.gz\"))\n",
    "\n",
    "label = fix_label(data_paths)"
   ]
  }
 ],
 "metadata": {
  "kernelspec": {
   "display_name": "Python 3.9.5 ('base')",
   "language": "python",
   "name": "python3"
  },
  "language_info": {
   "codemirror_mode": {
    "name": "ipython",
    "version": 3
   },
   "file_extension": ".py",
   "mimetype": "text/x-python",
   "name": "python",
   "nbconvert_exporter": "python",
   "pygments_lexer": "ipython3",
   "version": "3.9.5"
  },
  "orig_nbformat": 4,
  "vscode": {
   "interpreter": {
    "hash": "73410407538b4d1a0a852b396975eee7810ded8ec78d6fe740da53f5e1054182"
   }
  }
 },
 "nbformat": 4,
 "nbformat_minor": 2
}
