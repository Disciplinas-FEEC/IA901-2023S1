{
 "cells": [
  {
   "cell_type": "code",
   "execution_count": 2,
   "metadata": {},
   "outputs": [
    {
     "name": "stderr",
     "output_type": "stream",
     "text": [
      "100%|██████████| 392/392 [01:00<00:00,  6.43it/s]\n"
     ]
    }
   ],
   "source": [
    "import SimpleITK as sitk\n",
    "import os\n",
    "import glob\n",
    "from tqdm import tqdm\n",
    "\n",
    "def fix_label(data_paths):\n",
    "    fixed_label = None\n",
    "    \n",
    "    for label in tqdm(data_paths):\n",
    "        original_label = sitk.ReadImage(label)\n",
    "        array = sitk.GetArrayFromImage(original_label)\n",
    "\n",
    "        fixed_array = (array > 0.5).astype(array.dtype)\n",
    "\n",
    "        fixed_label = sitk.GetImageFromArray(fixed_array)\n",
    "        fixed_label.CopyInformation(original_label)\n",
    "\n",
    "        out_name = 'fix_brainmask_T1w.nii.gz'\n",
    "\n",
    "        sitk.WriteImage(fixed_label, os.path.join(os.path.dirname(label), out_name))\n",
    "    \n",
    "    return fixed_label\n",
    "    \n",
    "folder_mri = \"/home/joany/dataset_train/train\"\n",
    "data_paths = glob.glob(os.path.join(folder_mri, \"*\", \"brainmask_T1w.nii.gz\"))\n",
    "\n",
    "label = fix_label(data_paths)"
   ]
  },
  {
   "cell_type": "code",
   "execution_count": null,
   "metadata": {},
   "outputs": [],
   "source": []
  },
  {
   "cell_type": "code",
   "execution_count": null,
   "metadata": {},
   "outputs": [],
   "source": []
  }
 ],
 "metadata": {
  "kernelspec": {
   "display_name": "Python 3.9.5 ('base')",
   "language": "python",
   "name": "python3"
  },
  "language_info": {
   "codemirror_mode": {
    "name": "ipython",
    "version": 3
   },
   "file_extension": ".py",
   "mimetype": "text/x-python",
   "name": "python",
   "nbconvert_exporter": "python",
   "pygments_lexer": "ipython3",
   "version": "3.9.5"
  },
  "orig_nbformat": 4,
  "vscode": {
   "interpreter": {
    "hash": "73410407538b4d1a0a852b396975eee7810ded8ec78d6fe740da53f5e1054182"
   }
  }
 },
 "nbformat": 4,
 "nbformat_minor": 2
}
