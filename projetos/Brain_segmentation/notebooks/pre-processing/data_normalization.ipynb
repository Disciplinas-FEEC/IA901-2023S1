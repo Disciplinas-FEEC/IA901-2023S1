{
 "cells": [
  {
   "cell_type": "markdown",
   "metadata": {},
   "source": [
    "# Normalização dos dados (zscore normalization)\n",
    "* Essa normalização permite deixar os dados padronizados, uma vez que após a normalização a média do dado (volume) é 0 e o desvio padrão é 1.\n",
    "\n",
    "* A normalização foi feita ao implementar a seguinte fórmula:\n",
    "\n",
    "$$ X_{nor} =  (X - \\mu) / (\\sigma)$$\n",
    "\n",
    "* Onde X é a matriz e $\\mu$ e $\\sigma$ são a média e o desvio padrão da matriz, repectivamente.\n",
    "\n",
    "* Pode haver arredondamento nos cálculos ou uma pequena discrepância devido à precisão numérica. O que deixa os valores da média e desvio padrão próximo de 0 e 1 respectivamente, e não exatamente 0 e 1."
   ]
  },
  {
   "cell_type": "code",
   "execution_count": null,
   "metadata": {},
   "outputs": [],
   "source": [
    "import nibabel as nib\n",
    "import os\n",
    "import glob\n",
    "import numpy as np\n",
    "def zscore_normalization(input_paths: str):\n",
    "    '''\n",
    "    Documentação\n",
    "    '''\n",
    "    for input_path in input_paths:\n",
    "        patient_id = os.path.basename(input_path)\n",
    "        T1_file = 'iso_brain_T1w.nii.gz'\n",
    "\n",
    "        T1_data = nib.load(os.path.join(input_path, T1_file)).get_fdata().astype(np.float32)\n",
    "\n",
    "\n",
    "        print(f\"before normalization: mean de {np.mean(T1_data)} e standard deviation de {np.std(T1_data)}. Shape: {T1_data.shape}\")\n",
    "\n",
    "        T1_norm = (T1_data - T1_data.mean()) / (T1_data.std())\n",
    "\n",
    "        print(f\"after normalization: mean de {np.mean(T1_norm)} e standard deviation de {np.std(T1_norm)}. Shape: {T1_norm.shape}\")\n",
    "\n",
    "        label_file = 'iso_brainmask_T1w.nii.gz'\n",
    "\n",
    "        label = nib.load(os.path.join(input_path, label_file))\n",
    "        label_data = label.get_fdata().astype(np.uint8)\n",
    "        mask = label_data\n",
    "\n",
    "        out_name = patient_id + '.npz'\n",
    "        np.savez_compressed(os.path.join(input_path, out_name), data=T1_norm, mask=mask)\n",
    "    return T1_norm\n",
    "\n",
    "folder_mri = f\"/home/joany/dataset_train/train\"\n",
    "input_paths = glob.glob(os.path.join(folder_mri, \"*\"))\n",
    "\n",
    "image = zscore_normalization(input_paths)\n"
   ]
  },
  {
   "cell_type": "code",
   "execution_count": 1,
   "metadata": {},
   "outputs": [
    {
     "name": "stdout",
     "output_type": "stream",
     "text": [
      "before normalization: mean de 301.9602966308594 e standard deviation de 480.4152526855469. Shape: (150, 256, 256)\n",
      "after normalization: mean de 241.5648956298828 e standard deviation de 252.10777282714844. Shape: (256, 256)\n"
     ]
    }
   ],
   "source": [
    "import nibabel as nib\n",
    "import os\n",
    "import glob\n",
    "import numpy as np\n",
    "import scipy.stats as stats\n",
    "def zscore_normalization(input_paths: str):\n",
    "    '''\n",
    "    Documentação\n",
    "    '''\n",
    "    for input_path in input_paths:\n",
    "        patient_id = os.path.basename(input_path)\n",
    "        T1_file = 'iso_brain_T1w.nii.gz'\n",
    "\n",
    "\n",
    "        T1_data = nib.load(os.path.join(input_path, T1_file)).get_fdata().astype(np.float32)\n",
    "\n",
    "        zscores = stats.zscore(T1_data)\n",
    "        #print(zscores)\n",
    "\n",
    "        print(f\"before normalization: mean de {np.mean(T1_data)} e standard deviation de {np.std(T1_data)}. Shape: {T1_data.shape}\")\n",
    "\n",
    "        print(f\"after normalization: mean de {np.mean(zscores)} e standard deviation de {np.std(zscores)}. Shape: {zscores.shape}\")\n",
    "\n",
    "        label_file = 'iso_brainmask_T1w.nii.gz'\n",
    "\n",
    "        label = nib.load(os.path.join(input_path, label_file))\n",
    "        label_data = label.get_fdata().astype(np.uint8)\n",
    "        mask = label_data\n",
    "\n",
    "        #out_name = patient_id + '.npz'\n",
    "        #np.savez_compressed(os.path.join(input_path, out_name), data=T1_norm, mask=mask)\n",
    "    return zscores\n",
    "\n",
    "folder_mri = f\"/home/joany/dataset_train/train\"\n",
    "input_paths = glob.glob(os.path.join(folder_mri, \"*\"))\n",
    "\n",
    "image = zscore_normalization(input_paths)"
   ]
  },
  {
   "cell_type": "code",
   "execution_count": null,
   "metadata": {},
   "outputs": [],
   "source": []
  }
 ],
 "metadata": {
  "kernelspec": {
   "display_name": "Python 3.8.10 64-bit",
   "language": "python",
   "name": "python3"
  },
  "language_info": {
   "codemirror_mode": {
    "name": "ipython",
    "version": 3
   },
   "file_extension": ".py",
   "mimetype": "text/x-python",
   "name": "python",
   "nbconvert_exporter": "python",
   "pygments_lexer": "ipython3",
   "version": "3.8.10"
  },
  "orig_nbformat": 4,
  "vscode": {
   "interpreter": {
    "hash": "916dbcbb3f70747c44a77c7bcd40155683ae19c65e1c03b4aa3499c5328201f1"
   }
  }
 },
 "nbformat": 4,
 "nbformat_minor": 2
}
