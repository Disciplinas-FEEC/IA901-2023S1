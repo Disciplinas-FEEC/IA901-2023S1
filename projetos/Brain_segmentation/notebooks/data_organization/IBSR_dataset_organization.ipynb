{
 "cells": [
  {
   "cell_type": "markdown",
   "id": "6376f5a2",
   "metadata": {},
   "source": [
    "# Organização do conjunto de dados CC359\n",
    "**Este conjunto de dados foi usado apenas para teste**"
   ]
  },
  {
   "cell_type": "markdown",
   "id": "8bf0d26d",
   "metadata": {},
   "source": [
    "## Criar pasta para cada sujeito \n",
    "* Mover as os arquivos \"organized_dataset/IBSR\" criando pastas a partir das originais. "
   ]
  },
  {
   "cell_type": "code",
   "execution_count": 1,
   "id": "df190859",
   "metadata": {},
   "outputs": [
    {
     "name": "stdout",
     "output_type": "stream",
     "text": [
      "IBSR_09\n",
      "IBSR_16\n",
      "IBSR_03\n",
      "IBSR_02\n",
      "IBSR_17\n",
      "IBSR_06\n",
      "IBSR_01\n",
      "IBSR_10\n",
      "IBSR_14\n",
      "IBSR_15\n",
      "IBSR_13\n",
      "IBSR_11\n",
      "IBSR_18\n",
      "IBSR_12\n",
      "IBSR_05\n",
      "IBSR_04\n",
      "IBSR_08\n",
      "IBSR_07\n"
     ]
    }
   ],
   "source": [
    "import os\n",
    "import glob\n",
    "import shutil\n",
    "import os\n",
    "import numpy as np\n",
    "file_paths = list(glob.iglob(\"/home/joany/brain_dataset/raw_dataset/IBSR/*/*brainmask.nii.gz\", recursive=True)) \n",
    "#print(file_paths)\n",
    "for data_path in file_paths:\n",
    "    #print(data_path)\n",
    "    patient_id = os.path.dirname(data_path)\n",
    "    patient_id = patient_id.split('/')[-1]\n",
    "    print(patient_id)\n",
    "    \n",
    "    os.makedirs(\"/home/joany/brain_dataset/organized_dataset/IBSR/\" + patient_id, exist_ok=True)\n",
    "    try:\n",
    "        shutil.copy(data_path, \"/home/joany/brain_dataset/organized_dataset/IBSR/\" + patient_id)\n",
    "    except:\n",
    "        continue"
   ]
  },
  {
   "cell_type": "markdown",
   "id": "8240a2e9",
   "metadata": {},
   "source": [
    "# Mudar o nome dos arquivos \n",
    "* Os nomes dos arquivos foram mudados, as imagem foram mudadas de \"ana.nii.gz\" para \"brain_T1w.nii.gz\" e os das segmentações de \"brainmask.nii.gz\" para \"brainmask_T1w.nii.gz\"."
   ]
  },
  {
   "cell_type": "code",
   "execution_count": 2,
   "id": "8b58fac1",
   "metadata": {},
   "outputs": [
    {
     "name": "stdout",
     "output_type": "stream",
     "text": [
      "/home/joany/brain_dataset/organized_dataset/IBSR/IBSR_09\n",
      "Arquivo IBSR_09_ana_brainmask.nii.gz foi renomeado para brainmask_T1w.nii.gz.\n",
      "/home/joany/brain_dataset/organized_dataset/IBSR/IBSR_16\n",
      "Arquivo IBSR_16_ana_brainmask.nii.gz foi renomeado para brainmask_T1w.nii.gz.\n",
      "/home/joany/brain_dataset/organized_dataset/IBSR/IBSR_03\n",
      "Arquivo IBSR_03_ana_brainmask.nii.gz foi renomeado para brainmask_T1w.nii.gz.\n",
      "/home/joany/brain_dataset/organized_dataset/IBSR/IBSR_02\n",
      "Arquivo IBSR_02_ana_brainmask.nii.gz foi renomeado para brainmask_T1w.nii.gz.\n",
      "/home/joany/brain_dataset/organized_dataset/IBSR/IBSR_17\n",
      "Arquivo IBSR_17_ana_brainmask.nii.gz foi renomeado para brainmask_T1w.nii.gz.\n",
      "/home/joany/brain_dataset/organized_dataset/IBSR/IBSR_06\n",
      "Arquivo IBSR_06_ana_brainmask.nii.gz foi renomeado para brainmask_T1w.nii.gz.\n",
      "/home/joany/brain_dataset/organized_dataset/IBSR/IBSR_01\n",
      "Arquivo IBSR_01_ana_brainmask.nii.gz foi renomeado para brainmask_T1w.nii.gz.\n",
      "/home/joany/brain_dataset/organized_dataset/IBSR/IBSR_10\n",
      "Arquivo IBSR_10_ana_brainmask.nii.gz foi renomeado para brainmask_T1w.nii.gz.\n",
      "/home/joany/brain_dataset/organized_dataset/IBSR/IBSR_14\n",
      "Arquivo IBSR_14_ana_brainmask.nii.gz foi renomeado para brainmask_T1w.nii.gz.\n",
      "/home/joany/brain_dataset/organized_dataset/IBSR/IBSR_15\n",
      "Arquivo IBSR_15_ana_brainmask.nii.gz foi renomeado para brainmask_T1w.nii.gz.\n",
      "/home/joany/brain_dataset/organized_dataset/IBSR/IBSR_13\n",
      "Arquivo IBSR_13_ana_brainmask.nii.gz foi renomeado para brainmask_T1w.nii.gz.\n",
      "/home/joany/brain_dataset/organized_dataset/IBSR/IBSR_11\n",
      "Arquivo IBSR_11_ana_brainmask.nii.gz foi renomeado para brainmask_T1w.nii.gz.\n",
      "/home/joany/brain_dataset/organized_dataset/IBSR/IBSR_18\n",
      "Arquivo IBSR_18_ana_brainmask.nii.gz foi renomeado para brainmask_T1w.nii.gz.\n",
      "/home/joany/brain_dataset/organized_dataset/IBSR/IBSR_12\n",
      "Arquivo IBSR_12_ana_brainmask.nii.gz foi renomeado para brainmask_T1w.nii.gz.\n",
      "/home/joany/brain_dataset/organized_dataset/IBSR/IBSR_05\n",
      "Arquivo IBSR_05_ana_brainmask.nii.gz foi renomeado para brainmask_T1w.nii.gz.\n",
      "/home/joany/brain_dataset/organized_dataset/IBSR/IBSR_04\n",
      "Arquivo IBSR_04_ana_brainmask.nii.gz foi renomeado para brainmask_T1w.nii.gz.\n",
      "/home/joany/brain_dataset/organized_dataset/IBSR/IBSR_08\n",
      "Arquivo IBSR_08_ana_brainmask.nii.gz foi renomeado para brainmask_T1w.nii.gz.\n",
      "/home/joany/brain_dataset/organized_dataset/IBSR/IBSR_07\n",
      "Arquivo IBSR_07_ana_brainmask.nii.gz foi renomeado para brainmask_T1w.nii.gz.\n"
     ]
    }
   ],
   "source": [
    "import os\n",
    "import glob\n",
    "\n",
    "def padronizar_nomes_pasta(caminho_pasta):\n",
    "    \n",
    "    subjects = glob.glob(os.path.join(caminho_pasta, \"*\"))\n",
    "    \n",
    "    for subject in subjects:\n",
    "        if os.path.isdir(subject):\n",
    "            print(subject)\n",
    "            arquivos = glob.glob(os.path.join(subject, '*brainmask.nii.gz'))\n",
    "            \n",
    "            for caminho_completo in arquivos:\n",
    "                if os.path.isfile(caminho_completo):\n",
    "                    novo_nome = 'brainmask_T1w.nii.gz'\n",
    "                    novo_caminho = os.path.join(subject, novo_nome)\n",
    "                    os.rename(caminho_completo, novo_caminho)\n",
    "                    print(f\"Arquivo {os.path.basename(caminho_completo)} foi renomeado para {novo_nome}.\")\n",
    "\n",
    "# Exemplo de uso\n",
    "pasta = \"/home/joany/brain_dataset/organized_dataset/IBSR\"\n",
    "padronizar_nomes_pasta(pasta)"
   ]
  },
  {
   "cell_type": "markdown",
   "id": "9ec63697",
   "metadata": {},
   "source": [
    "## separar dados em treinamento e validação"
   ]
  },
  {
   "cell_type": "code",
   "execution_count": 3,
   "id": "c55ab9d3",
   "metadata": {},
   "outputs": [],
   "source": [
    "import os\n",
    "import shutil\n",
    "\n",
    "# Definir caminho para a pasta original com os dados\n",
    "pasta_origem = \"/home/joany/brain_dataset/organized_dataset/IBSR\"\n",
    "\n",
    "# Definir caminho para a pasta de destino\n",
    "pasta_destino = \"/home/joany/brain_dataset/split_dataset/IBSR\"\n",
    "\n",
    "# Criar a pasta de teste\n",
    "pasta_teste = os.path.join(pasta_destino, \"test\")\n",
    "os.makedirs(pasta_teste, exist_ok=True)\n",
    "\n",
    "# Mover todas as pastas para a pasta de teste\n",
    "for nome_pasta in os.listdir(pasta_origem):\n",
    "    origem_pasta = os.path.join(pasta_origem, nome_pasta)\n",
    "    destino_pasta = os.path.join(pasta_teste, nome_pasta)\n",
    "    shutil.move(origem_pasta, destino_pasta)"
   ]
  }
 ],
 "metadata": {
  "kernelspec": {
   "display_name": "Python 3 (ipykernel)",
   "language": "python",
   "name": "python3"
  },
  "language_info": {
   "codemirror_mode": {
    "name": "ipython",
    "version": 3
   },
   "file_extension": ".py",
   "mimetype": "text/x-python",
   "name": "python",
   "nbconvert_exporter": "python",
   "pygments_lexer": "ipython3",
   "version": "3.8.10"
  },
  "vscode": {
   "interpreter": {
    "hash": "916dbcbb3f70747c44a77c7bcd40155683ae19c65e1c03b4aa3499c5328201f1"
   }
  }
 },
 "nbformat": 4,
 "nbformat_minor": 5
}
