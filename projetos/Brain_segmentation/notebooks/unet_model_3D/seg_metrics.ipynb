{
 "cells": [
  {
   "cell_type": "markdown",
   "metadata": {},
   "source": [
    "# Predição usando no conjunto de dados de teste\n",
    "* Calculo de Dice, AVD e SV."
   ]
  },
  {
   "cell_type": "code",
   "execution_count": 1,
   "metadata": {
    "scrolled": true
   },
   "outputs": [
    {
     "name": "stdout",
     "output_type": "stream",
     "text": [
      "UNet in channels: 1 batch_norm: instance dim: 3d out_channels 1 \n",
      "1.0 -1.0\n",
      "1.0 -1.0\n",
      "1.0 -1.0\n",
      "1.0 -1.0\n"
     ]
    }
   ],
   "source": [
    "import glob\n",
    "import os\n",
    "from seg_metrics import get_metrics\n",
    "from unet_module import LightningMRICCv2\n",
    "\n",
    "path_Data = \"../../../../..\" \n",
    "\n",
    "pre_trained_model_path = os.path.join(path_Data, \"logs_brain/V2_Brain_segmentatio_normalizationepoch=55-val_loss=0.03.ckpt\")\n",
    "model = LightningMRICCv2.load_from_checkpoint(pre_trained_model_path).eval().cpu()\n",
    "folder_mri = os.path.join(path_Data, \"brain_dataset/split_dataset/teste_sep\")\n",
    "subjects = glob.glob(os.path.join(folder_mri, \"*\"))\n",
    "metrics, vol_data, mask_data, avg_HD_per_subject, avg, Dice_per_subject, SVA_per_subject, vol_data, mask_data_save, pos_process, vol_data_affine = get_metrics(model, subjects)"
   ]
  },
  {
   "cell_type": "code",
   "execution_count": 3,
   "metadata": {},
   "outputs": [
    {
     "data": {
      "text/plain": [
       "defaultdict(<function seg_metrics.initialize_metrics_dict.<locals>.<lambda>()>,\n",
       "            {'brain': defaultdict(list,\n",
       "                         {'dice': [0.9676281859322513,\n",
       "                           0.9715522313898296,\n",
       "                           0.9663821780118573,\n",
       "                           0.9628505511827702],\n",
       "                          'false_negative_error': [0.009808222477409477,\n",
       "                           0.0281309160162228,\n",
       "                           0.02403321670308179,\n",
       "                           0.02240368959505612],\n",
       "                          'false_positive_error': [0.010351047526956182,\n",
       "                           0.004201833108250286,\n",
       "                           0.007464040699714822,\n",
       "                           0.010110514021998055],\n",
       "                          'jaccard': [0.9372865209479182,\n",
       "                           0.9446782433129992,\n",
       "                           0.9349511564661696,\n",
       "                           0.9283623997301542],\n",
       "                          'volume_similarity': [0.04557418492565589,\n",
       "                           0.0006520478923946633,\n",
       "                           0.019641253061263086,\n",
       "                           0.030167379040261778],\n",
       "                          'abs_volume_similarity': [0.977212907537172,\n",
       "                           0.9996739760538027,\n",
       "                           0.9901793734693685,\n",
       "                           0.9849163104798692],\n",
       "                          'avg_hd': [0.0578857188419503,\n",
       "                           0.04095940860331093,\n",
       "                           0.07085379234831561,\n",
       "                           0.06734681238381583],\n",
       "                          'hd': [14.45683229480096,\n",
       "                           6.6332495807108,\n",
       "                           14.071247279470288,\n",
       "                           10.816653826391969]})})"
      ]
     },
     "execution_count": 3,
     "metadata": {},
     "output_type": "execute_result"
    }
   ],
   "source": [
    "metrics"
   ]
  },
  {
   "cell_type": "code",
   "execution_count": 8,
   "metadata": {
    "scrolled": true
   },
   "outputs": [],
   "source": [
    "metrics_MM =   [0.0578857188419503,\n",
    "                           0.04095940860331093,\n",
    "                           0.07085379234831561,\n",
    "                           0.06734681238381583],"
   ]
  },
  {
   "cell_type": "code",
   "execution_count": 9,
   "metadata": {},
   "outputs": [
    {
     "name": "stdout",
     "output_type": "stream",
     "text": [
      "0.011582452692568775\n",
      "0.059261433044348166\n"
     ]
    }
   ],
   "source": [
    "import numpy as np\n",
    "print(np.std(metrics_MM))\n",
    "print(np.average(metrics_MM))"
   ]
  }
 ],
 "metadata": {
  "kernelspec": {
   "display_name": "Python 3.9.5 ('base')",
   "language": "python",
   "name": "python3"
  },
  "language_info": {
   "codemirror_mode": {
    "name": "ipython",
    "version": 3
   },
   "file_extension": ".py",
   "mimetype": "text/x-python",
   "name": "python",
   "nbconvert_exporter": "python",
   "pygments_lexer": "ipython3",
   "version": "3.9.5"
  },
  "vscode": {
   "interpreter": {
    "hash": "73410407538b4d1a0a852b396975eee7810ded8ec78d6fe740da53f5e1054182"
   }
  }
 },
 "nbformat": 4,
 "nbformat_minor": 2
}
