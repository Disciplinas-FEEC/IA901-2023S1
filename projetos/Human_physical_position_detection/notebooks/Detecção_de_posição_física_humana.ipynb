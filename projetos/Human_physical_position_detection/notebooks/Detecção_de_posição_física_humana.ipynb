{
  "nbformat": 4,
  "nbformat_minor": 0,
  "metadata": {
    "colab": {
      "provenance": [],
      "include_colab_link": true
    },
    "kernelspec": {
      "name": "python3",
      "display_name": "Python 3"
    },
    "language_info": {
      "name": "python"
    }
  },
  "cells": [
    {
      "cell_type": "markdown",
      "metadata": {
        "id": "view-in-github",
        "colab_type": "text"
      },
      "source": [
        "<a href=\"https://colab.research.google.com/github/OctavioGuaschi/IA901-2023S1/blob/main/projetos/Human_physical_position_detection/notebooks/Detec%C3%A7%C3%A3o_de_posi%C3%A7%C3%A3o_f%C3%ADsica_humana.ipynb\" target=\"_parent\"><img src=\"https://colab.research.google.com/assets/colab-badge.svg\" alt=\"Open In Colab\"/></a>"
      ]
    },
    {
      "cell_type": "markdown",
      "source": [
        "Octavio S Guaschi, 218390 \n",
        "\n",
        "---\n",
        "\n",
        "\n",
        "Breno Portela, 253502\t\n",
        "\n",
        "---\n",
        "\n",
        "\n",
        "Cesar Bastos, 264521\n",
        "\n",
        "---\n",
        "\n",
        "\n",
        "\n",
        "Notebook de implementação de detecção de posiçao física humana"
      ],
      "metadata": {
        "id": "Ty4Y1F8qulco"
      }
    },
    {
      "cell_type": "code",
      "execution_count": null,
      "metadata": {
        "id": "AYGy4m8zucZZ"
      },
      "outputs": [],
      "source": []
    }
  ]
}