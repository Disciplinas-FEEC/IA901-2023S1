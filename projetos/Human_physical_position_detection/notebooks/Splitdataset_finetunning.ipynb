{
  "cells": [
    {
      "cell_type": "markdown",
      "metadata": {
        "id": "view-in-github",
        "colab_type": "text"
      },
      "source": [
        "<a href=\"https://colab.research.google.com/github/OctavioGuaschi/IA901-2023S1/blob/main/projetos/Human_physical_position_detection/notebooks/Splitdataset_finetunning.ipynb\" target=\"_parent\"><img src=\"https://colab.research.google.com/assets/colab-badge.svg\" alt=\"Open In Colab\"/></a>"
      ]
    },
    {
      "cell_type": "code",
      "execution_count": null,
      "metadata": {
        "colab": {
          "base_uri": "https://localhost:8080/"
        },
        "id": "r7-dk4D72hvf",
        "outputId": "ab627e8b-2690-4953-f28f-33cc10559b8e"
      },
      "outputs": [
        {
          "output_type": "stream",
          "name": "stdout",
          "text": [
            "Drive already mounted at /content/gdrive; to attempt to forcibly remount, call drive.mount(\"/content/gdrive\", force_remount=True).\n"
          ]
        }
      ],
      "source": [
        "from google.colab import drive\n",
        "drive.mount('/content/gdrive')\n",
        "data_dir = \"gdrive/MyDrive/Projeto/data/imagens_selecionadas\""
      ]
    },
    {
      "cell_type": "code",
      "execution_count": null,
      "metadata": {
        "colab": {
          "base_uri": "https://localhost:8080/"
        },
        "id": "sif_21LX2k5A",
        "outputId": "b2132bbb-53be-40d6-e5ea-4ae3d2055323"
      },
      "outputs": [
        {
          "output_type": "execute_result",
          "data": {
            "text/plain": [
              "<contextlib.ExitStack at 0x7f8f817d8970>"
            ]
          },
          "metadata": {},
          "execution_count": 25
        }
      ],
      "source": [
        "# Imports\n",
        "\n",
        "# import the needed libs\n",
        "\n",
        "from __future__ import print_function, division\n",
        "from PIL import Image\n",
        "import matplotlib.pyplot as plt\n",
        "import matplotlib.image as mpimg\n",
        "import torch\n",
        "import torch.nn as nn\n",
        "import torch.optim as optim\n",
        "from torch.optim import lr_scheduler\n",
        "import numpy as np\n",
        "import torchvision\n",
        "from torchvision import datasets, models, transforms\n",
        "from torchsummary import summary\n",
        "import matplotlib.pyplot as plt\n",
        "import time\n",
        "import os\n",
        "import copy\n",
        "from google.colab import files\n",
        "\n",
        "plt.ion()   # interactive mode"
      ]
    },
    {
      "cell_type": "code",
      "execution_count": null,
      "metadata": {
        "id": "IYIJ7L7O2mfr"
      },
      "outputs": [],
      "source": [
        "class ImageFolderWithPath(datasets.ImageFolder):\n",
        "    def __getitem__(self, index):\n",
        "        path, target = self.samples[index]\n",
        "        img = self.loader(path)\n",
        "        if self.transform is not None:\n",
        "            img = self.transform(img)\n",
        "        if self.target_transform is not None:\n",
        "            target = self.target_transform(target)\n",
        "        return img, target, path"
      ]
    },
    {
      "cell_type": "code",
      "execution_count": null,
      "metadata": {
        "id": "1uOat-x92rWU"
      },
      "outputs": [],
      "source": [
        "image_datasets = ImageFolderWithPath(os.path.join(data_dir))\n",
        "# Train (70%), Val (15%), Test (15%)\n",
        "train_size = int(0.7 * len(image_datasets))\n",
        "test_size = int(0.15 * len(image_datasets))\n",
        "val_size = len(image_datasets) - train_size - test_size\n",
        "train_dataset_1, val_dataset_1, test_dataset_1 = torch.utils.data.random_split(image_datasets, [train_size, val_size, test_size])\n",
        "\n"
      ]
    },
    {
      "cell_type": "code",
      "source": [
        "test_size"
      ],
      "metadata": {
        "colab": {
          "base_uri": "https://localhost:8080/"
        },
        "id": "rJh70ZAksvue",
        "outputId": "2a4ca955-f18f-401c-acfc-b2053a5496e3"
      },
      "execution_count": null,
      "outputs": [
        {
          "output_type": "execute_result",
          "data": {
            "text/plain": [
              "51"
            ]
          },
          "metadata": {},
          "execution_count": 28
        }
      ]
    },
    {
      "cell_type": "code",
      "source": [
        "print(image_datasets.imgs[0])"
      ],
      "metadata": {
        "colab": {
          "base_uri": "https://localhost:8080/"
        },
        "id": "2rdYYj6uaqzL",
        "outputId": "9b932c02-651a-442e-857c-23df9386e38b"
      },
      "execution_count": null,
      "outputs": [
        {
          "output_type": "stream",
          "name": "stdout",
          "text": [
            "('gdrive/MyDrive/Projeto/data/imagens_selecionadas/tmp/lying/000208151.jpg', 0)\n"
          ]
        }
      ]
    },
    {
      "cell_type": "code",
      "execution_count": null,
      "metadata": {
        "id": "tjrLnJ07alaG",
        "colab": {
          "base_uri": "https://localhost:8080/"
        },
        "outputId": "a0776508-59ef-4933-9f94-58e45369ed96"
      },
      "outputs": [
        {
          "output_type": "stream",
          "name": "stdout",
          "text": [
            "[57, 108, 230, 234, 34, 285, 236, 30, 240, 330, 119, 291, 93, 16, 170, 317, 269, 104, 162, 149, 3, 210, 18, 248, 17, 203, 204, 151, 50, 239, 13, 27, 322, 300, 118, 38, 8, 154, 218, 115, 33, 328, 325, 56, 202, 142, 206, 296, 297, 311, 171, 139, 1, 242, 39, 102, 46, 156, 208, 63, 143, 247, 256, 193, 321, 222, 117, 36, 220, 24, 35, 186, 106, 318, 128, 79, 226, 290, 188, 313, 0, 254, 130, 51, 284, 14, 308, 259, 303, 28, 174, 332, 100, 29, 21, 152, 90, 72, 91, 200, 180, 184, 272, 219, 144, 302, 198, 131, 237, 283, 225, 37, 255, 201, 310, 112, 78, 40, 196, 127, 312, 189, 268, 274, 265, 85, 261, 20, 42, 80, 62, 77, 257, 262, 329, 41, 2, 319, 314, 47, 179, 235, 298, 192, 53, 26, 9, 135, 339, 287, 133, 88, 92, 48, 166, 147, 238, 129, 113, 109, 264, 161, 211, 190, 279, 195, 89, 289, 243, 83, 65, 253, 227, 82, 258, 55, 270, 99, 304, 294, 305, 333, 215, 307, 336, 288, 61, 110, 160, 176, 340, 86, 267, 175, 320, 275, 81, 231, 6, 141, 277, 49, 181, 197, 150, 136, 70, 327, 67, 23, 153, 250, 326, 145, 168, 137, 324, 232, 209, 124, 125, 158, 69, 172, 7, 177, 132, 44, 111, 249, 246, 75, 295, 301, 19, 214, 103, 10]\n"
          ]
        }
      ],
      "source": [
        "print(train_dataset_1.indices)"
      ]
    },
    {
      "cell_type": "code",
      "source": [
        "train_dataset = train_dataset_1.indices"
      ],
      "metadata": {
        "id": "evp8dvxuUnbP"
      },
      "execution_count": null,
      "outputs": []
    },
    {
      "cell_type": "code",
      "source": [
        "print(val_dataset_1.indices)"
      ],
      "metadata": {
        "colab": {
          "base_uri": "https://localhost:8080/"
        },
        "id": "IeF_KceZT7GM",
        "outputId": "4911a2b8-fead-4962-aeaf-f8689a31f5de"
      },
      "execution_count": null,
      "outputs": [
        {
          "output_type": "stream",
          "name": "stdout",
          "text": [
            "[183, 164, 52, 123, 120, 191, 335, 45, 98, 54, 96, 229, 280, 260, 163, 122, 105, 252, 101, 155, 169, 32, 233, 306, 173, 251, 323, 281, 334, 221, 273, 68, 276, 157, 4, 159, 178, 263, 121, 84, 12, 66, 266, 337, 43, 94, 167, 338, 199, 95, 58, 223]\n"
          ]
        }
      ]
    },
    {
      "cell_type": "code",
      "source": [
        "val_dataset = val_dataset_1.indices"
      ],
      "metadata": {
        "id": "ewPUFDGyUyMd"
      },
      "execution_count": null,
      "outputs": []
    },
    {
      "cell_type": "code",
      "source": [
        "print(test_dataset_1.indices)"
      ],
      "metadata": {
        "colab": {
          "base_uri": "https://localhost:8080/"
        },
        "id": "Fqi0rISmT-I-",
        "outputId": "02045770-967e-4427-a57d-c5a8bd689cc7"
      },
      "execution_count": null,
      "outputs": [
        {
          "output_type": "stream",
          "name": "stdout",
          "text": [
            "[245, 97, 146, 228, 148, 207, 309, 74, 182, 217, 185, 244, 315, 126, 116, 5, 22, 64, 299, 205, 134, 241, 59, 293, 60, 282, 138, 187, 87, 194, 114, 286, 331, 25, 140, 31, 212, 278, 292, 11, 216, 15, 76, 165, 213, 271, 107, 73, 71, 224, 316]\n"
          ]
        }
      ]
    },
    {
      "cell_type": "code",
      "source": [
        "test_dataset = test_dataset_1.indices"
      ],
      "metadata": {
        "id": "v2z3tGQUU2GX"
      },
      "execution_count": null,
      "outputs": []
    },
    {
      "cell_type": "code",
      "execution_count": null,
      "metadata": {
        "colab": {
          "base_uri": "https://localhost:8080/"
        },
        "id": "IjwYupuDxaeb",
        "outputId": "6f80e9cf-4bb7-446c-b8b7-ebd69ff071e4"
      },
      "outputs": [
        {
          "output_type": "stream",
          "name": "stdout",
          "text": [
            "0 /lying/025346914.jpg\n",
            "1 /lying/098543738.jpg\n",
            "2 /standing/000024100.jpg\n",
            "3 /standing/000041029.jpg\n",
            "4 /lying/015124683.jpg\n",
            "5 /standing/002576960.jpg\n",
            "6 /standing/000111209.jpg\n",
            "7 /lying/012890259.jpg\n",
            "8 /standing/000147382.jpg\n",
            "9 /standing/005622429.jpg\n",
            "10 /sitting/0004373681.jpg\n",
            "11 /standing/003095579.jpg\n",
            "12 /lying/089025805.jpg\n",
            "13 /lying/006964115.jpg\n",
            "14 /sitting/004433225.jpg\n",
            "15 /standing/004930899.jpg\n",
            "16 /standing/001272728.jpg\n",
            "17 /lying/096738599.jpg\n",
            "18 /sitting/003490586.jpg\n",
            "19 /sitting/002619671.jpg\n",
            "20 /lying/001344404.jpg\n",
            "21 /sitting/007269201.jpg\n",
            "22 /lying/007424686.jpg\n",
            "23 /standing/000383029.jpg\n",
            "24 /lying/007189942.jpg\n",
            "25 /sitting/006380474.jpg\n",
            "26 /sitting/006616872.jpg\n",
            "27 /sitting/002753672.jpg\n",
            "28 /lying/020679637.jpg\n",
            "29 /standing/000144722.jpg\n",
            "30 /lying/006272159.jpg\n",
            "31 /lying/012680180.jpg\n",
            "32 /standing/005274395.jpg\n",
            "33 /standing/003820278.jpg\n",
            "34 /sitting/000437064.jpg\n",
            "35 /lying/016949275.jpg\n",
            "36 /lying/002944251.jpg\n",
            "37 /sitting/002919084.jpg\n",
            "38 /sitting/008238125.jpg\n",
            "39 /sitting/000316731.jpg\n",
            "40 /lying/014171521.jpg\n",
            "41 /standing/005613159.jpg\n",
            "42 /standing/005566615.jpg\n",
            "43 /lying/024995695.jpg\n",
            "44 /sitting/006269564.jpg\n",
            "45 /sitting/002114982.jpg\n",
            "46 /sitting/006709373.jpg\n",
            "47 /standing/003373011.jpg\n",
            "48 /standing/003437686.jpg\n",
            "49 /standing/004836271.jpg\n",
            "50 /sitting/004438900.jpg\n",
            "51 /sitting/002021752.jpg\n",
            "52 /lying/000919705.jpg\n",
            "53 /standing/000245459.jpg\n",
            "54 /lying/017043320.jpg\n",
            "55 /lying/095660057.jpg\n",
            "56 /lying/019303874.jpg\n",
            "57 /sitting/003114909.jpg\n",
            "58 /sitting/006895802.jpg\n",
            "59 /lying/030683813.jpg\n",
            "60 /sitting/002256858.jpg\n",
            "61 /standing/000381992.jpg\n",
            "62 /standing/000835470.jpg\n",
            "63 /sitting/005475939.jpg\n",
            "64 /standing/005235502.jpg\n",
            "65 /sitting/037532135.jpg\n",
            "66 /sitting/000436327.jpg\n",
            "67 /lying/016086029.jpg\n",
            "68 /sitting/008735981.jpg\n",
            "69 /lying/011044313.jpg\n",
            "70 /lying/015890817.jpg\n",
            "71 /sitting/005097404.jpg\n",
            "72 /lying/096887786.jpg\n",
            "73 /standing/004986015.jpg\n",
            "74 /sitting/001215677.jpg\n",
            "75 /lying/078984791.jpg\n",
            "76 /sitting/090757570.jpg\n",
            "77 /standing/003082462.jpg\n",
            "78 /sitting/005166218.jpg\n",
            "79 /standing/004876632.jpg\n",
            "80 /lying/000208151.jpg\n",
            "81 /standing/000759142.jpg\n",
            "82 /sitting/001376469.jpg\n",
            "83 /lying/020874253.jpg\n",
            "84 /standing/002563225.jpg\n",
            "85 /lying/006665983.jpg\n",
            "86 /standing/004355758.jpg\n",
            "87 /standing/000931029.jpg\n",
            "88 /standing/003926941.jpg\n",
            "89 /lying/012711049.jpg\n",
            "90 /sitting/004458809.jpg\n",
            "91 /standing/005764758.jpg\n",
            "92 /lying/095140552.jpg\n",
            "93 /lying/012778295.jpg\n",
            "94 /lying/009972360.jpg\n",
            "95 /sitting/002812151.jpg\n",
            "96 /lying/087252052.jpg\n",
            "97 /lying/035097562.jpg\n",
            "98 /lying/087367803.jpg\n",
            "99 /sitting/005880453.jpg\n",
            "100 /sitting/004905357.jpg\n",
            "101 /sitting/004978100.jpg\n",
            "102 /standing/001511068.jpg\n",
            "103 /sitting/008534967.jpg\n",
            "104 /sitting/002363859.jpg\n",
            "105 /standing/003840088.jpg\n",
            "106 /sitting/005815303.jpg\n",
            "107 /sitting/001430749.jpg\n",
            "108 /standing/000128443.jpg\n",
            "109 /standing/002343296.jpg\n",
            "110 /sitting/089741905.jpg\n",
            "111 /lying/016473401.jpg\n",
            "112 /standing/000831994.jpg\n",
            "113 /sitting/006121666.jpg\n",
            "114 /standing/004706120.jpg\n",
            "115 /sitting/000065339.jpg\n",
            "116 /lying/078526756.jpg\n",
            "117 /lying/017081371.jpg\n",
            "118 /sitting/005651462.jpg\n",
            "119 /sitting/000997878.jpg\n",
            "120 /standing/004846423.jpg\n",
            "121 /sitting/005183580.jpg\n",
            "122 /standing/001176509.jpg\n",
            "123 /standing/001539489.jpg\n",
            "124 /standing/001083765.jpg\n",
            "125 /lying/085113667.jpg\n",
            "126 /standing/000992321.jpg\n",
            "127 /lying/009717649.jpg\n",
            "128 /lying/017488144.jpg\n",
            "129 /lying/079511028.jpg\n",
            "130 /lying/028666058.jpg\n",
            "131 /lying/077867466.jpg\n",
            "132 /standing/000868121.jpg\n",
            "133 /standing/000992382.jpg\n",
            "134 /standing/005617608.jpg\n",
            "135 /lying/017112242.jpg\n",
            "136 /lying/000966627.jpg\n",
            "137 /standing/005168568.jpg\n",
            "138 /standing/004900464.jpg\n",
            "139 /lying/019524299.jpg\n",
            "140 /sitting/004888823.jpg\n",
            "141 /standing/000061164.jpg\n",
            "142 /standing/003725388.jpg\n",
            "143 /sitting/005461030.jpg\n",
            "144 /lying/023325432.jpg\n",
            "145 /lying/012068847.jpg\n",
            "146 /lying/004011658.jpg\n",
            "147 /sitting/001691280.jpg\n",
            "148 /standing/006903442.jpg\n",
            "149 /standing/002785224.jpg\n",
            "150 /sitting/001536625.jpg\n",
            "151 /lying/086225163.jpg\n",
            "152 /lying/088384430.jpg\n",
            "153 /lying/019706353.jpg\n",
            "154 /sitting/003905462.jpg\n",
            "155 /sitting/002602955.jpg\n",
            "156 /standing/000142834.jpg\n",
            "157 /sitting/001367765.jpg\n",
            "158 /sitting/000071686.jpg\n",
            "159 /lying/098548175.jpg\n",
            "160 /standing/001081108.jpg\n",
            "161 /sitting/003467270.jpg\n",
            "162 /sitting/007502209.jpg\n",
            "163 /sitting/005198935.jpg\n",
            "164 /standing/002191333.jpg\n",
            "165 /sitting/005515659.jpg\n",
            "166 /lying/087040517.jpg\n",
            "167 /standing/003078657.jpg\n",
            "168 /standing/000252176.jpg\n",
            "169 /lying/082889711.jpg\n",
            "170 /lying/031218322.jpg\n",
            "171 /standing/000646436.jpg\n",
            "172 /sitting/093025432.jpg\n",
            "173 /lying/080871540.jpg\n",
            "174 /standing/000909418.jpg\n",
            "175 /lying/024371713.jpg\n",
            "176 /standing/001309446.jpg\n",
            "177 /lying/095027922.jpg\n",
            "178 /standing/003979713.jpg\n",
            "179 /standing/003319649.jpg\n",
            "180 /standing/004025800.jpg\n",
            "181 /standing/006181569.jpg\n",
            "182 /sitting/007868366.jpg\n",
            "183 /standing/004084044.jpg\n",
            "184 /standing/006684722.jpg\n",
            "185 /standing/003035381.jpg\n",
            "186 /lying/027507679.jpg\n",
            "187 /lying/099072506.jpg\n",
            "188 /sitting/003409786.jpg\n",
            "189 /sitting/004657994.jpg\n",
            "190 /standing/007417620.jpg\n",
            "191 /lying/085356584.jpg\n",
            "192 /standing/001143268.jpg\n",
            "193 /sitting/004646148.jpg\n",
            "194 /standing/005234877.jpg\n",
            "195 /standing/001756546.jpg\n",
            "196 /lying/080639529.jpg\n",
            "197 /standing/000024293.jpg\n",
            "198 /lying/002212355.jpg\n",
            "199 /sitting/002103690.jpg\n",
            "200 /standing/002047846.jpg\n",
            "201 /lying/020194086.jpg\n",
            "202 /sitting/004914839.jpg\n",
            "203 /sitting/005759183.jpg\n",
            "204 /sitting/002629444.jpg\n",
            "205 /sitting/001802901.jpg\n",
            "206 /lying/034805229.jpg\n",
            "207 /standing/005592635.jpg\n",
            "208 /lying/032361022.jpg\n",
            "209 /lying/010250973.jpg\n",
            "210 /sitting/002908762.jpg\n",
            "211 /standing/000502550.jpg\n",
            "212 /standing/005573553.jpg\n",
            "213 /sitting/002365437.jpg\n",
            "214 /sitting/004333873.jpg\n",
            "215 /sitting/001815797.jpg\n",
            "216 /standing/005473964.jpg\n",
            "217 /standing/000033016.jpg\n",
            "218 /sitting/007066819.jpg\n",
            "219 /sitting/000900566.jpg\n",
            "220 /sitting/000925392.jpg\n",
            "221 /sitting/003121356.jpg\n",
            "222 /lying/034588306.jpg\n",
            "223 /sitting/004439526.jpg\n",
            "224 /lying/002924728.jpg\n",
            "225 /sitting/004770834.jpg\n",
            "226 /sitting/001485612.jpg\n",
            "227 /lying/018344220.jpg\n",
            "228 /lying/099856025.jpg\n",
            "229 /standing/000392606.jpg\n",
            "230 /standing/000324793.jpg\n",
            "231 /lying/072610607.jpg\n",
            "232 /standing/003339320.jpg\n",
            "233 /standing/003834905.jpg\n",
            "234 /lying/007519655.jpg\n",
            "235 /sitting/007702670.jpg\n",
            "236 /lying/096336032.jpg\n",
            "237 /lying/004853345.jpg\n"
          ]
        }
      ],
      "source": [
        "for i in range(0, train_size):\n",
        "  print( str(i) + \" \" + image_datasets.imgs[train_dataset[i]][0].split(\"gdrive/MyDrive/Projeto/data/imagens_selecionadas/tmp\")[1])\n",
        "  img = Image.open(image_datasets.imgs[train_dataset[i]][0])\n",
        "  img.save(('gdrive/MyDrive/Projeto/data/processed/DatasetFineTunning/train' + image_datasets.imgs[train_dataset[i]][0].split(\"gdrive/MyDrive/Projeto/data/imagens_selecionadas/tmp\")[1]))"
      ]
    },
    {
      "cell_type": "code",
      "source": [
        "train_dataset[i]"
      ],
      "metadata": {
        "colab": {
          "base_uri": "https://localhost:8080/"
        },
        "id": "tqipEcIcUiXM",
        "outputId": "bbc281a4-853f-4633-f2d8-1ddf5ba6814f"
      },
      "execution_count": null,
      "outputs": [
        {
          "output_type": "execute_result",
          "data": {
            "text/plain": [
              "10"
            ]
          },
          "metadata": {},
          "execution_count": 37
        }
      ]
    },
    {
      "cell_type": "code",
      "execution_count": null,
      "metadata": {
        "colab": {
          "base_uri": "https://localhost:8080/"
        },
        "id": "WMhs-JupVs_B",
        "outputId": "26a738ee-4457-419b-b3b5-bc53f007c87e"
      },
      "outputs": [
        {
          "output_type": "stream",
          "name": "stdout",
          "text": [
            "0 /standing/000302087.jpg\n",
            "1 /lying/093202811.jpg\n",
            "2 /sitting/002394627.jpg\n",
            "3 /standing/000013469.jpg\n",
            "4 /sitting/002608329.jpg\n",
            "5 /sitting/006835320.jpg\n",
            "6 /standing/004685191.jpg\n",
            "7 /lying/069923899.jpg\n",
            "8 /sitting/004916083.jpg\n",
            "9 /sitting/008238105.jpg\n",
            "10 /sitting/005006453.jpg\n",
            "11 /standing/000298013.jpg\n",
            "12 /standing/004904989.jpg\n",
            "13 /sitting/000956171.jpg\n",
            "14 /sitting/000418744.jpg\n",
            "15 /lying/002058449.jpg\n",
            "16 /lying/010193191.jpg\n",
            "17 /lying/030980688.jpg\n",
            "18 /standing/003778451.jpg\n",
            "19 /sitting/006640535.jpg\n",
            "20 /sitting/001541496.jpg\n",
            "21 /standing/000187274.jpg\n",
            "22 /lying/026517074.jpg\n",
            "23 /standing/003282550.jpg\n",
            "24 /lying/026720728.jpg\n",
            "25 /standing/002335210.jpg\n",
            "26 /sitting/001873029.jpg\n",
            "27 /sitting/005160254.jpg\n",
            "28 /lying/085573726.jpg\n",
            "29 /sitting/005476378.jpg\n",
            "30 /sitting/000099186.jpg\n",
            "31 /standing/002581191.jpg\n",
            "32 /standing/005630328.jpg\n",
            "33 /lying/012032666.jpg\n",
            "34 /sitting/002098498.jpg\n",
            "35 /lying/013008624.jpg\n",
            "36 /sitting/007560159.jpg\n",
            "37 /standing/002098300.jpg\n",
            "38 /standing/003152219.jpg\n",
            "39 /lying/004944744.jpg\n",
            "40 /sitting/007928028.jpg\n",
            "41 /lying/006904591.jpg\n",
            "42 /lying/074690366.jpg\n",
            "43 /sitting/003881295.jpg\n",
            "44 /sitting/007586333.jpg\n",
            "45 /standing/001368241.jpg\n",
            "46 /lying/097348897.jpg\n",
            "47 /lying/069714135.jpg\n",
            "48 /lying/034948298.jpg\n",
            "49 /sitting/089520684.jpg\n",
            "50 /standing/004927365.jpg\n"
          ]
        }
      ],
      "source": [
        "for i in range(0, test_size):\n",
        "  print( str(i) + \" \" + image_datasets.imgs[test_dataset[i]][0].split(\"gdrive/MyDrive/Projeto/data/imagens_selecionadas/tmp\")[1])\n",
        "  img = Image.open(image_datasets.imgs[test_dataset[i]][0])\n",
        "  img.save(('gdrive/MyDrive/Projeto/data/processed/DatasetFineTunning/test' + image_datasets.imgs[test_dataset[i]][0].split(\"gdrive/MyDrive/Projeto/data/imagens_selecionadas/tmp\")[1]))"
      ]
    },
    {
      "cell_type": "code",
      "execution_count": null,
      "metadata": {
        "colab": {
          "base_uri": "https://localhost:8080/"
        },
        "id": "uXZofiyudeFG",
        "outputId": "439d6898-57e7-4c11-d7fc-8242b017a340"
      },
      "outputs": [
        {
          "output_type": "stream",
          "name": "stdout",
          "text": [
            "0 /sitting/004922091.jpg\n",
            "1 /sitting/003826414.jpg\n",
            "2 /lying/021143126.jpg\n",
            "3 /sitting/000754109.jpg\n",
            "4 /sitting/0004373682.jpg\n",
            "5 /sitting/005334800.jpg\n",
            "6 /standing/006577670.jpg\n",
            "7 /lying/018741194.jpg\n",
            "8 /lying/093539449.jpg\n",
            "9 /lying/023568253.jpg\n",
            "10 /lying/091356256.jpg\n",
            "11 /standing/000024087.jpg\n",
            "12 /standing/002194147.jpg\n",
            "13 /standing/000982755.jpg\n",
            "14 /sitting/003598983.jpg\n",
            "15 /sitting/000648808.jpg\n",
            "16 /lying/096831921.jpg\n",
            "17 /standing/000550580.jpg\n",
            "18 /lying/095652775.jpg\n",
            "19 /sitting/003039741.jpg\n",
            "20 /sitting/004429543.jpg\n",
            "21 /lying/013107986.jpg\n",
            "22 /standing/000040154.jpg\n",
            "23 /standing/004027816.jpg\n",
            "24 /sitting/004449443.jpg\n",
            "25 /standing/000506158.jpg\n",
            "26 /standing/005433203.jpg\n",
            "27 /standing/002225013.jpg\n",
            "28 /standing/006243133.jpg\n",
            "29 /sitting/012839429.jpg\n",
            "30 /standing/001522247.jpg\n",
            "31 /lying/033362840.jpg\n",
            "32 /standing/001845642.jpg\n",
            "33 /sitting/003117491.jpg\n",
            "34 /lying/001808109.jpg\n",
            "35 /sitting/003355918.jpg\n",
            "36 /sitting/004778136.jpg\n",
            "37 /standing/001073898.jpg\n",
            "38 /sitting/000563328.jpg\n",
            "39 /lying/084144755.jpg\n",
            "40 /lying/006224373.jpg\n",
            "41 /lying/031447664.jpg\n",
            "42 /standing/001119931.jpg\n",
            "43 /standing/006803731.jpg\n",
            "44 /lying/017641191.jpg\n",
            "45 /lying/090163123.jpg\n",
            "46 /sitting/003994797.jpg\n",
            "47 /standing/006845045.jpg\n",
            "48 /sitting/005833327.jpg\n",
            "49 /lying/090775999.jpg\n",
            "50 /lying/026015779.jpg\n",
            "51 /sitting/077100744.jpg\n"
          ]
        }
      ],
      "source": [
        "for i in range(0, val_size):\n",
        "  print( str(i) + \" \" + image_datasets.imgs[val_dataset[i]][0].split(\"gdrive/MyDrive/Projeto/data/imagens_selecionadas/tmp\")[1])\n",
        "  img = Image.open(image_datasets.imgs[val_dataset[i]][0])\n",
        "  img.save(('gdrive/MyDrive/Projeto/data/processed/DatasetFineTunning/val' + image_datasets.imgs[val_dataset[i]][0].split(\"gdrive/MyDrive/Projeto/data/imagens_selecionadas/tmp\")[1]))"
      ]
    },
    {
      "cell_type": "code",
      "execution_count": null,
      "metadata": {
        "id": "KNihjxS0vKvL",
        "colab": {
          "base_uri": "https://localhost:8080/",
          "height": 168
        },
        "outputId": "3bf97e35-78f3-4152-b954-79f3d8edcec5"
      },
      "outputs": [
        {
          "output_type": "error",
          "ename": "AttributeError",
          "evalue": "ignored",
          "traceback": [
            "\u001b[0;31m---------------------------------------------------------------------------\u001b[0m",
            "\u001b[0;31mAttributeError\u001b[0m                            Traceback (most recent call last)",
            "\u001b[0;32m<ipython-input-41-05a6aeaf3442>\u001b[0m in \u001b[0;36m<cell line: 1>\u001b[0;34m()\u001b[0m\n\u001b[0;32m----> 1\u001b[0;31m \u001b[0mprint\u001b[0m\u001b[0;34m(\u001b[0m\u001b[0mtrain_dataset\u001b[0m\u001b[0;34m.\u001b[0m\u001b[0mindices\u001b[0m\u001b[0;34m[\u001b[0m\u001b[0;34m:\u001b[0m\u001b[0;34m]\u001b[0m\u001b[0;34m)\u001b[0m\u001b[0;34m\u001b[0m\u001b[0;34m\u001b[0m\u001b[0m\n\u001b[0m",
            "\u001b[0;31mAttributeError\u001b[0m: 'list' object has no attribute 'indices'"
          ]
        }
      ],
      "source": [
        "print(train_dataset.indices[:])"
      ]
    },
    {
      "cell_type": "code",
      "execution_count": null,
      "metadata": {
        "id": "tJj0OtfEvef3",
        "colab": {
          "base_uri": "https://localhost:8080/",
          "height": 168
        },
        "outputId": "18b050c6-8413-4756-bb65-b03f9a1be4a7"
      },
      "outputs": [
        {
          "output_type": "error",
          "ename": "AttributeError",
          "evalue": "ignored",
          "traceback": [
            "\u001b[0;31m---------------------------------------------------------------------------\u001b[0m",
            "\u001b[0;31mAttributeError\u001b[0m                            Traceback (most recent call last)",
            "\u001b[0;32m<ipython-input-42-ca60a3d0f9cf>\u001b[0m in \u001b[0;36m<cell line: 1>\u001b[0;34m()\u001b[0m\n\u001b[0;32m----> 1\u001b[0;31m \u001b[0mprint\u001b[0m\u001b[0;34m(\u001b[0m\u001b[0mtest_dataset\u001b[0m\u001b[0;34m.\u001b[0m\u001b[0mindices\u001b[0m\u001b[0;34m[\u001b[0m\u001b[0;34m:\u001b[0m\u001b[0;34m]\u001b[0m\u001b[0;34m)\u001b[0m\u001b[0;34m\u001b[0m\u001b[0;34m\u001b[0m\u001b[0m\n\u001b[0m",
            "\u001b[0;31mAttributeError\u001b[0m: 'list' object has no attribute 'indices'"
          ]
        }
      ],
      "source": [
        "print(test_dataset.indices[:])"
      ]
    },
    {
      "cell_type": "code",
      "execution_count": null,
      "metadata": {
        "id": "ai1TscZ5vgyb",
        "colab": {
          "base_uri": "https://localhost:8080/",
          "height": 168
        },
        "outputId": "5e674bde-ef09-4589-e7e8-ed1e63829082"
      },
      "outputs": [
        {
          "output_type": "error",
          "ename": "AttributeError",
          "evalue": "ignored",
          "traceback": [
            "\u001b[0;31m---------------------------------------------------------------------------\u001b[0m",
            "\u001b[0;31mAttributeError\u001b[0m                            Traceback (most recent call last)",
            "\u001b[0;32m<ipython-input-43-8216fc2ece00>\u001b[0m in \u001b[0;36m<cell line: 1>\u001b[0;34m()\u001b[0m\n\u001b[0;32m----> 1\u001b[0;31m \u001b[0mprint\u001b[0m\u001b[0;34m(\u001b[0m\u001b[0mval_dataset\u001b[0m\u001b[0;34m.\u001b[0m\u001b[0mindices\u001b[0m\u001b[0;34m[\u001b[0m\u001b[0;34m:\u001b[0m\u001b[0;34m]\u001b[0m\u001b[0;34m)\u001b[0m\u001b[0;34m\u001b[0m\u001b[0;34m\u001b[0m\u001b[0m\n\u001b[0m",
            "\u001b[0;31mAttributeError\u001b[0m: 'list' object has no attribute 'indices'"
          ]
        }
      ],
      "source": [
        "print(val_dataset.indices[:])"
      ]
    },
    {
      "cell_type": "markdown",
      "metadata": {
        "id": "TrG-6n0wvrUt"
      },
      "source": [
        "17 de maio de 2023 as 17h25"
      ]
    }
  ],
  "metadata": {
    "accelerator": "GPU",
    "colab": {
      "provenance": [],
      "authorship_tag": "ABX9TyMkwJ73x1qg2dDHvMT3eeqL",
      "include_colab_link": true
    },
    "gpuClass": "standard",
    "kernelspec": {
      "display_name": "Python 3",
      "name": "python3"
    },
    "language_info": {
      "name": "python"
    }
  },
  "nbformat": 4,
  "nbformat_minor": 0
}