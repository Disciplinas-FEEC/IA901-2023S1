{
  "nbformat": 4,
  "nbformat_minor": 0,
  "metadata": {
    "colab": {
      "provenance": [],
      "authorship_tag": "ABX9TyN6GjbyzUYwpw6/pWND4POa",
      "include_colab_link": true
    },
    "kernelspec": {
      "name": "python3",
      "display_name": "Python 3"
    },
    "language_info": {
      "name": "python"
    }
  },
  "cells": [
    {
      "cell_type": "markdown",
      "metadata": {
        "id": "view-in-github",
        "colab_type": "text"
      },
      "source": [
        "<a href=\"https://colab.research.google.com/github/fabiograssiotto/IA901-2023S1/blob/main/projetos/AlzClass/notebooks/dataloader_oasis.ipynb\" target=\"_parent\"><img src=\"https://colab.research.google.com/assets/colab-badge.svg\" alt=\"Open In Colab\"/></a>"
      ]
    },
    {
      "cell_type": "code",
      "execution_count": 1,
      "metadata": {
        "colab": {
          "base_uri": "https://localhost:8080/"
        },
        "id": "ZM0iTcWk9zqs",
        "outputId": "f93b3305-3f2a-4766-8957-9d5d14701212"
      },
      "outputs": [
        {
          "output_type": "stream",
          "name": "stdout",
          "text": [
            "Mounted at /content/gdrive\n"
          ]
        }
      ],
      "source": [
        "from google.colab import drive \n",
        "drive.mount('/content/gdrive')"
      ]
    },
    {
      "cell_type": "code",
      "source": [
        "import pandas as pd\n",
        "\n",
        "# Leitura dos dados das amostras do OASIS\n",
        "proj_folder = '/content/gdrive/MyDrive/IA901A_Projeto/'\n",
        "base_oasis1 = proj_folder + 'OASIS1'\n",
        "datainfo = proj_folder + 'OASIS1_datainfo.csv'\n",
        "\n",
        "df = pd.read_csv(datainfo)"
      ],
      "metadata": {
        "id": "9Gl-mtPk-FEC"
      },
      "execution_count": 2,
      "outputs": []
    },
    {
      "cell_type": "code",
      "source": [
        "from pathlib import Path\n",
        "import shutil\n",
        "import os\n",
        "\n",
        "# Leitura linha a linha do dataframe e criação das pastas\n",
        "for index, row in df.iterrows():\n",
        "    subj = row['ID']\n",
        "    cdr = str(row['CDR'])\n",
        "\n",
        "    if (cdr == 'nan'):\n",
        "      cdr = '0.0'\n",
        "\n",
        "    src_path = base_oasis1 + '/' + subj + '/PROCESSED/MPRAGE/SUBJ_111'\n",
        "    tgt_path = proj_folder + 'data_oasis1/raw/' + cdr + '/' + subj\n",
        "\n",
        "    try:\n",
        "      os.makedirs(tgt_path)\n",
        "    except OSError:\n",
        "      # The directory already existed, nothing to do\n",
        "      pass\n",
        "\n",
        "    for src_file in Path(src_path).glob('*.*'):\n",
        "      shutil.copy(src_file, tgt_path)"
      ],
      "metadata": {
        "id": "cucJXjrsHDI1"
      },
      "execution_count": null,
      "outputs": []
    },
    {
      "cell_type": "code",
      "source": [
        "# Contagem de pastas resultantes\n",
        "import os \n",
        "\n",
        "raw_folder = proj_folder + 'data_oasis1/raw'\n",
        "dir_list = os.listdir(raw_folder)\n",
        "\n",
        "for dir in dir_list:\n",
        "  class_dir = raw_folder + '/' + dir\n",
        "  num_folders = str(len(next(os.walk(class_dir))[1]))\n",
        "  print(\"Pasta: \" + dir + \" Amostras: \" + num_folders)"
      ],
      "metadata": {
        "colab": {
          "base_uri": "https://localhost:8080/"
        },
        "id": "cxIYsJLJNX0l",
        "outputId": "93da1593-ff9f-419d-fbd1-0f46cd35f562"
      },
      "execution_count": 10,
      "outputs": [
        {
          "output_type": "stream",
          "name": "stdout",
          "text": [
            "Pasta: 0.0 Amostras: 336\n",
            "Pasta: 0.5 Amostras: 70\n",
            "Pasta: 1.0 Amostras: 28\n",
            "Pasta: 2.0 Amostras: 2\n"
          ]
        }
      ]
    }
  ]
}