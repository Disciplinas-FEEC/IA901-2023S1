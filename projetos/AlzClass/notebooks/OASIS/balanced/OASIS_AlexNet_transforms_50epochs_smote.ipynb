{
  "cells": [
    {
      "attachments": {},
      "cell_type": "markdown",
      "metadata": {
        "id": "lCVkWc0bUIDR"
      },
      "source": [
        "# Imports"
      ]
    },
    {
      "cell_type": "code",
      "execution_count": 1,
      "metadata": {},
      "outputs": [],
      "source": [
        "# Checa ambiente - se rodando local não usa o Google Drive\n",
        "try:\n",
        "  import google.colab\n",
        "  IN_COLAB = True\n",
        "except:\n",
        "  IN_COLAB = False"
      ]
    },
    {
      "cell_type": "code",
      "execution_count": 2,
      "metadata": {},
      "outputs": [],
      "source": [
        "if (IN_COLAB):\n",
        "    !pip install pytorch_lightning -qqq\n",
        "    import pytorch_lightning\n",
        "    !pip install neptune\n",
        "    import neptune\n",
        "    from google.colab import drive \n",
        "    drive.mount('/content/gdrive')"
      ]
    },
    {
      "cell_type": "code",
      "execution_count": 3,
      "metadata": {
        "id": "AhFS_N7nvCEg"
      },
      "outputs": [],
      "source": [
        "import os\n",
        "import random\n",
        "import numpy as np\n",
        "import pandas as pd\n",
        "from tqdm import tqdm\n",
        "import torch\n",
        "import torch.nn as nn\n",
        "import torch.nn.functional as F\n",
        "from torch.utils.data import random_split\n",
        "from torch.utils.data import DataLoader, Dataset, Subset\n",
        "from torch.utils.data import random_split, SubsetRandomSampler\n",
        "from torchvision import datasets, transforms, models \n",
        "from torchvision.datasets import ImageFolder\n",
        "from torchvision.transforms import ToTensor\n",
        "from torchvision.utils import make_grid\n",
        "from pytorch_lightning import LightningModule\n",
        "from pytorch_lightning import Trainer\n",
        "import pytorch_lightning as pl\n",
        "import matplotlib.pyplot as plt\n",
        "%matplotlib inline\n",
        "from sklearn.model_selection import train_test_split\n",
        "from sklearn.metrics import classification_report\n",
        "from PIL import Image\n",
        "\n",
        "#   SMOTETomek from imblance library\n",
        "from imblearn.combine import SMOTETomek"
      ]
    },
    {
      "cell_type": "code",
      "execution_count": 4,
      "metadata": {},
      "outputs": [],
      "source": [
        "# Redução das mensagens de log no terminal.\n",
        "import logging\n",
        "log = logging.getLogger(\"pytorch_lightning\")\n",
        "log.propagate = False\n",
        "log.setLevel(logging.ERROR)\n",
        "import warnings\n",
        "warnings.filterwarnings(\"ignore\")"
      ]
    },
    {
      "attachments": {},
      "cell_type": "markdown",
      "metadata": {
        "id": "qOgjGmLD1Zy1"
      },
      "source": [
        "# Carregamento dos dados"
      ]
    },
    {
      "cell_type": "code",
      "execution_count": 5,
      "metadata": {},
      "outputs": [],
      "source": [
        "if (IN_COLAB):\n",
        "    root = '/content/gdrive/MyDrive/IA901A_Projeto/data/interim/OASIS_slices2_flat'\n",
        "else:\n",
        "    root = '../../../data/interim/OASIS_slices2_flat'"
      ]
    },
    {
      "cell_type": "code",
      "execution_count": 6,
      "metadata": {
        "id": "ddXkYyP0vjpg"
      },
      "outputs": [],
      "source": [
        "def setup_transforms(tfGrayscale, tfRdRotate, tfHzFlip, tfResize, tfCtrCrop, tfNormalize):\n",
        "    tfList = []\n",
        "\n",
        "    if(tfGrayscale):\n",
        "        tfList.append(transforms.Grayscale(num_output_channels=3))\n",
        "\n",
        "    if(tfRdRotate):\n",
        "        tfList.append(transforms.RandomRotation(10))\n",
        "\n",
        "    if (tfHzFlip):\n",
        "        tfList.append(transforms.RandomHorizontalFlip())\n",
        "        \n",
        "    if (tfResize):\n",
        "        tfList.append(transforms.Resize(256))\n",
        "\n",
        "    if (tfCtrCrop):\n",
        "        tfList.append(transforms.CenterCrop(224))\n",
        "\n",
        "    tfList.append(transforms.ToTensor())\n",
        "\n",
        "    if (tfNormalize):\n",
        "        tfList.append(transforms.Normalize([0.485, 0.456, 0.406],\n",
        "                            [0.229, 0.224, 0.225]))\n",
        "\n",
        "    transform_lst = transforms.Compose(tfList)\n",
        "\n",
        "    return transform_lst"
      ]
    },
    {
      "cell_type": "code",
      "execution_count": 7,
      "metadata": {},
      "outputs": [],
      "source": [
        "def transforms_text(tfGrayscale, tfRdRotate, tfHzFlip, tfResize, tfCtrCrop, tfNormalize):\n",
        "    tfText = \"Base\"\n",
        "\n",
        "    if(tfGrayscale):\n",
        "        tfText = tfText + \"+Grayscale\"\n",
        "\n",
        "    if(tfRdRotate):\n",
        "        tfText = tfText + \"+Random Rotation\"\n",
        "\n",
        "    if (tfHzFlip):\n",
        "        tfText = tfText + \"+Random Hz Flip\"\n",
        "        \n",
        "    if (tfResize):\n",
        "        tfText = tfText + \"+Resize\"\n",
        "\n",
        "    if (tfCtrCrop):\n",
        "        tfText = tfText + \"+Center Crop\"\n",
        "\n",
        "    if (tfNormalize):\n",
        "        tfText = tfText + \"+Normalization\"\n",
        "\n",
        "    return tfText"
      ]
    },
    {
      "cell_type": "code",
      "execution_count": 8,
      "metadata": {
        "colab": {
          "base_uri": "https://localhost:8080/"
        },
        "id": "bIPanwFRvg2l",
        "outputId": "0ef7d895-1ead-4ef7-fcee-a2ac098d4e07"
      },
      "outputs": [
        {
          "name": "stdout",
          "output_type": "stream",
          "text": [
            "836\n",
            "['MildDemented', 'ModerateDemented', 'NonDemented', 'VeryMildDemented']\n",
            "4\n",
            "Número de amostras por classe:  {0: 256, 1: 80, 2: 250, 3: 250}\n"
          ]
        }
      ],
      "source": [
        "from collections import Counter\n",
        "\n",
        "dataset0=datasets.ImageFolder(root=root,transform=None)\n",
        "print(len(dataset0))\n",
        "class_names=dataset0.classes\n",
        "print(class_names)\n",
        "print(len(class_names))\n",
        "\n",
        "print(\"Número de amostras por classe: \", dict(Counter(dataset0.targets)))"
      ]
    },
    {
      "cell_type": "code",
      "execution_count": 9,
      "metadata": {
        "id": "Xs_1i6SCxChT"
      },
      "outputs": [],
      "source": [
        "class DataModule(pl.LightningDataModule):\n",
        "    \n",
        "    def __init__(self, transform, batch_size):\n",
        "        super().__init__()\n",
        "        self.root_dir = root\n",
        "        self.transform = transform\n",
        "        self.batch_size = batch_size\n",
        "\n",
        "    def setup(self, stage=None):\n",
        "        dataset = datasets.ImageFolder(root=self.root_dir, transform=self.transform)\n",
        "        n_data = len(dataset)\n",
        "        n_train = int(0.8 * n_data)\n",
        "        n_test = n_data - n_train\n",
        "\n",
        "        train_dataset, test_dataset = torch.utils.data.random_split(dataset, [n_train, n_test], generator=torch.Generator().manual_seed(42))\n",
        "\n",
        "        self.train_dataset = DataLoader(train_dataset, batch_size=self.batch_size, num_workers=3, shuffle=True)\n",
        "        self.test_dataset = DataLoader(test_dataset, batch_size=self.batch_size, num_workers=3)\n",
        "\n",
        "    def train_dataloader(self):\n",
        "        return self.train_dataset\n",
        "\n",
        "    def test_dataloader(self):\n",
        "        return self.test_dataset"
      ]
    },
    {
      "cell_type": "code",
      "execution_count": 10,
      "metadata": {
        "id": "4Asp3Z2Bjx8R"
      },
      "outputs": [
        {
          "ename": "ValueError",
          "evalue": "Length mismatch: Expected axis has 2 elements, new values have 668 elements",
          "output_type": "error",
          "traceback": [
            "\u001b[1;31m---------------------------------------------------------------------------\u001b[0m",
            "\u001b[1;31mValueError\u001b[0m                                Traceback (most recent call last)",
            "Cell \u001b[1;32mIn[10], line 14\u001b[0m\n\u001b[0;32m     12\u001b[0m transforms_set \u001b[39m=\u001b[39m setup_transforms(tfGrayscale, tfRdRotate, tfHzFlip, tfResize, tfCtrCrop, tfNormalize)\n\u001b[0;32m     13\u001b[0m datamodule \u001b[39m=\u001b[39m DataModule(transforms_set, batch_size)\n\u001b[1;32m---> 14\u001b[0m datamodule\u001b[39m.\u001b[39;49msetup()\n",
            "Cell \u001b[1;32mIn[9], line 17\u001b[0m, in \u001b[0;36mDataModule.setup\u001b[1;34m(self, stage)\u001b[0m\n\u001b[0;32m     13\u001b[0m n_test \u001b[39m=\u001b[39m n_data \u001b[39m-\u001b[39m n_train\n\u001b[0;32m     15\u001b[0m train_dataset, test_dataset \u001b[39m=\u001b[39m torch\u001b[39m.\u001b[39mutils\u001b[39m.\u001b[39mdata\u001b[39m.\u001b[39mrandom_split(dataset, [n_train, n_test], generator\u001b[39m=\u001b[39mtorch\u001b[39m.\u001b[39mGenerator()\u001b[39m.\u001b[39mmanual_seed(\u001b[39m42\u001b[39m))\n\u001b[1;32m---> 17\u001b[0m \u001b[39mself\u001b[39m\u001b[39m.\u001b[39mtrain_dataset \u001b[39m=\u001b[39m DataLoader(train_dataset, sampler\u001b[39m=\u001b[39mImbalancedDatasetSampler(train_dataset), batch_size\u001b[39m=\u001b[39m\u001b[39mself\u001b[39m\u001b[39m.\u001b[39mbatch_size, num_workers\u001b[39m=\u001b[39m\u001b[39m3\u001b[39m, shuffle\u001b[39m=\u001b[39m\u001b[39mTrue\u001b[39;00m)\n\u001b[0;32m     18\u001b[0m \u001b[39mself\u001b[39m\u001b[39m.\u001b[39mtest_dataset \u001b[39m=\u001b[39m DataLoader(test_dataset, sampler\u001b[39m=\u001b[39mImbalancedDatasetSampler(train_dataset), batch_size\u001b[39m=\u001b[39m\u001b[39mself\u001b[39m\u001b[39m.\u001b[39mbatch_size, num_workers\u001b[39m=\u001b[39m\u001b[39m3\u001b[39m)\n",
            "File \u001b[1;32mc:\\Users\\fabio.grassiotto\\Miniconda3\\envs\\AlzClas\\Lib\\site-packages\\torchsampler\\imbalanced.py:38\u001b[0m, in \u001b[0;36mImbalancedDatasetSampler.__init__\u001b[1;34m(self, dataset, labels, indices, num_samples, callback_get_label)\u001b[0m\n\u001b[0;32m     36\u001b[0m df \u001b[39m=\u001b[39m pd\u001b[39m.\u001b[39mDataFrame()\n\u001b[0;32m     37\u001b[0m df[\u001b[39m\"\u001b[39m\u001b[39mlabel\u001b[39m\u001b[39m\"\u001b[39m] \u001b[39m=\u001b[39m \u001b[39mself\u001b[39m\u001b[39m.\u001b[39m_get_labels(dataset) \u001b[39mif\u001b[39;00m labels \u001b[39mis\u001b[39;00m \u001b[39mNone\u001b[39;00m \u001b[39melse\u001b[39;00m labels\n\u001b[1;32m---> 38\u001b[0m df\u001b[39m.\u001b[39;49mindex \u001b[39m=\u001b[39m \u001b[39mself\u001b[39m\u001b[39m.\u001b[39mindices\n\u001b[0;32m     39\u001b[0m df \u001b[39m=\u001b[39m df\u001b[39m.\u001b[39msort_index()\n\u001b[0;32m     41\u001b[0m label_to_count \u001b[39m=\u001b[39m df[\u001b[39m\"\u001b[39m\u001b[39mlabel\u001b[39m\u001b[39m\"\u001b[39m]\u001b[39m.\u001b[39mvalue_counts()\n",
            "File \u001b[1;32mc:\\Users\\fabio.grassiotto\\Miniconda3\\envs\\AlzClas\\Lib\\site-packages\\pandas\\core\\generic.py:6002\u001b[0m, in \u001b[0;36mNDFrame.__setattr__\u001b[1;34m(self, name, value)\u001b[0m\n\u001b[0;32m   6000\u001b[0m \u001b[39mtry\u001b[39;00m:\n\u001b[0;32m   6001\u001b[0m     \u001b[39mobject\u001b[39m\u001b[39m.\u001b[39m\u001b[39m__getattribute__\u001b[39m(\u001b[39mself\u001b[39m, name)\n\u001b[1;32m-> 6002\u001b[0m     \u001b[39mreturn\u001b[39;00m \u001b[39mobject\u001b[39;49m\u001b[39m.\u001b[39;49m\u001b[39m__setattr__\u001b[39;49m(\u001b[39mself\u001b[39;49m, name, value)\n\u001b[0;32m   6003\u001b[0m \u001b[39mexcept\u001b[39;00m \u001b[39mAttributeError\u001b[39;00m:\n\u001b[0;32m   6004\u001b[0m     \u001b[39mpass\u001b[39;00m\n",
            "File \u001b[1;32mc:\\Users\\fabio.grassiotto\\Miniconda3\\envs\\AlzClas\\Lib\\site-packages\\pandas\\_libs\\properties.pyx:69\u001b[0m, in \u001b[0;36mpandas._libs.properties.AxisProperty.__set__\u001b[1;34m()\u001b[0m\n",
            "File \u001b[1;32mc:\\Users\\fabio.grassiotto\\Miniconda3\\envs\\AlzClas\\Lib\\site-packages\\pandas\\core\\generic.py:730\u001b[0m, in \u001b[0;36mNDFrame._set_axis\u001b[1;34m(self, axis, labels)\u001b[0m\n\u001b[0;32m    725\u001b[0m \u001b[39m\u001b[39m\u001b[39m\"\"\"\u001b[39;00m\n\u001b[0;32m    726\u001b[0m \u001b[39mThis is called from the cython code when we set the `index` attribute\u001b[39;00m\n\u001b[0;32m    727\u001b[0m \u001b[39mdirectly, e.g. `series.index = [1, 2, 3]`.\u001b[39;00m\n\u001b[0;32m    728\u001b[0m \u001b[39m\"\"\"\u001b[39;00m\n\u001b[0;32m    729\u001b[0m labels \u001b[39m=\u001b[39m ensure_index(labels)\n\u001b[1;32m--> 730\u001b[0m \u001b[39mself\u001b[39;49m\u001b[39m.\u001b[39;49m_mgr\u001b[39m.\u001b[39;49mset_axis(axis, labels)\n\u001b[0;32m    731\u001b[0m \u001b[39mself\u001b[39m\u001b[39m.\u001b[39m_clear_item_cache()\n",
            "File \u001b[1;32mc:\\Users\\fabio.grassiotto\\Miniconda3\\envs\\AlzClas\\Lib\\site-packages\\pandas\\core\\internals\\managers.py:225\u001b[0m, in \u001b[0;36mBaseBlockManager.set_axis\u001b[1;34m(self, axis, new_labels)\u001b[0m\n\u001b[0;32m    223\u001b[0m \u001b[39mdef\u001b[39;00m \u001b[39mset_axis\u001b[39m(\u001b[39mself\u001b[39m, axis: AxisInt, new_labels: Index) \u001b[39m-\u001b[39m\u001b[39m>\u001b[39m \u001b[39mNone\u001b[39;00m:\n\u001b[0;32m    224\u001b[0m     \u001b[39m# Caller is responsible for ensuring we have an Index object.\u001b[39;00m\n\u001b[1;32m--> 225\u001b[0m     \u001b[39mself\u001b[39;49m\u001b[39m.\u001b[39;49m_validate_set_axis(axis, new_labels)\n\u001b[0;32m    226\u001b[0m     \u001b[39mself\u001b[39m\u001b[39m.\u001b[39maxes[axis] \u001b[39m=\u001b[39m new_labels\n",
            "File \u001b[1;32mc:\\Users\\fabio.grassiotto\\Miniconda3\\envs\\AlzClas\\Lib\\site-packages\\pandas\\core\\internals\\base.py:70\u001b[0m, in \u001b[0;36mDataManager._validate_set_axis\u001b[1;34m(self, axis, new_labels)\u001b[0m\n\u001b[0;32m     67\u001b[0m     \u001b[39mpass\u001b[39;00m\n\u001b[0;32m     69\u001b[0m \u001b[39melif\u001b[39;00m new_len \u001b[39m!=\u001b[39m old_len:\n\u001b[1;32m---> 70\u001b[0m     \u001b[39mraise\u001b[39;00m \u001b[39mValueError\u001b[39;00m(\n\u001b[0;32m     71\u001b[0m         \u001b[39mf\u001b[39m\u001b[39m\"\u001b[39m\u001b[39mLength mismatch: Expected axis has \u001b[39m\u001b[39m{\u001b[39;00mold_len\u001b[39m}\u001b[39;00m\u001b[39m elements, new \u001b[39m\u001b[39m\"\u001b[39m\n\u001b[0;32m     72\u001b[0m         \u001b[39mf\u001b[39m\u001b[39m\"\u001b[39m\u001b[39mvalues have \u001b[39m\u001b[39m{\u001b[39;00mnew_len\u001b[39m}\u001b[39;00m\u001b[39m elements\u001b[39m\u001b[39m\"\u001b[39m\n\u001b[0;32m     73\u001b[0m     )\n",
            "\u001b[1;31mValueError\u001b[0m: Length mismatch: Expected axis has 2 elements, new values have 668 elements"
          ]
        }
      ],
      "source": [
        "# Datamodule baseados nas transformações\n",
        "\n",
        "batch_size = 32\n",
        "# Definição das transformações a serem utilizadas\n",
        "tfGrayscale = False\n",
        "tfRdRotate = False\n",
        "tfHzFlip = False\n",
        "tfResize = False\n",
        "tfCtrCrop = False\n",
        "tfNormalize = False\n",
        "\n",
        "transforms_set = setup_transforms(tfGrayscale, tfRdRotate, tfHzFlip, tfResize, tfCtrCrop, tfNormalize)\n",
        "datamodule = DataModule(transforms_set, batch_size)\n",
        "datamodule.setup()"
      ]
    },
    {
      "attachments": {},
      "cell_type": "markdown",
      "metadata": {
        "id": "9IDK5kyo1qnO"
      },
      "source": [
        "# Vizualizando imagens"
      ]
    },
    {
      "cell_type": "code",
      "execution_count": null,
      "metadata": {
        "colab": {
          "base_uri": "https://localhost:8080/",
          "height": 382
        },
        "id": "cbLYynos15do",
        "outputId": "ab773cee-b712-46d1-b0e2-cb49baad53b4"
      },
      "outputs": [],
      "source": [
        "for images, labels in datamodule.train_dataloader():\n",
        "    break\n",
        "im=make_grid(images,nrow=16)\n",
        "\n",
        "plt.figure(figsize=(12,12))\n",
        "plt.imshow(np.transpose(im.numpy(),(1,2,0)))"
      ]
    },
    {
      "attachments": {},
      "cell_type": "markdown",
      "metadata": {
        "id": "id-O2it-17qM"
      },
      "source": [
        "# Definindo e treinando o modelo base: AlexNet"
      ]
    },
    {
      "cell_type": "code",
      "execution_count": null,
      "metadata": {
        "colab": {
          "base_uri": "https://localhost:8080/"
        },
        "id": "4VZP_iXD-J2y",
        "outputId": "8e67a6ce-e133-4630-96f9-308f1cf067f9"
      },
      "outputs": [],
      "source": [
        "print(len(class_names))"
      ]
    },
    {
      "attachments": {},
      "cell_type": "markdown",
      "metadata": {},
      "source": [
        "## Funções para definição do modelo, treinamento, testes e métricas"
      ]
    },
    {
      "cell_type": "code",
      "execution_count": null,
      "metadata": {
        "id": "kFtknEct3ruR"
      },
      "outputs": [],
      "source": [
        "import torchmetrics\n",
        "from torchmetrics import MetricCollection\n",
        "from torchmetrics.classification import MulticlassAccuracy, MulticlassPrecision, MulticlassRecall\n",
        "\n",
        "class MyModel(LightningModule):\n",
        "\n",
        "    def __init__(self):\n",
        "        num_classes = len(class_names)\n",
        "        super().__init__()\n",
        "        self.model = models.alexnet(pretrained=True)\n",
        "        self.model.classifier = nn.Sequential( nn.Linear(9216,1024),\n",
        "                                               nn.ReLU(),\n",
        "                                               nn.Dropout(p=0.5),\n",
        "                                               nn.Linear(1024, num_classes),\n",
        "                                               nn.LogSoftmax(dim=1))\n",
        "        # TorchMetrics\n",
        "        metrics = MetricCollection([\n",
        "            MulticlassAccuracy(num_classes),\n",
        "            MulticlassPrecision(num_classes),\n",
        "            MulticlassRecall(num_classes)\n",
        "        ])\n",
        "        self.train_metrics = metrics.clone(prefix='train_')\n",
        "        self.val_metrics = metrics.clone(prefix='val_')\n",
        "        self.test_metrics = metrics.clone(prefix='test_')\n",
        "\n",
        "    def forward(self, x):\n",
        "        x = self.model(x)\n",
        "        return x\n",
        "\n",
        "    def configure_optimizers(self):\n",
        "        optimizer = torch.optim.Adam(self.parameters(), lr=0.001)\n",
        "        return optimizer\n",
        "\n",
        "    def training_step(self, train_batch, batch_idx):\n",
        "        X, y = train_batch\n",
        "        y_hat = self(X)\n",
        "\n",
        "        loss = F.cross_entropy(y_hat, y)\n",
        "        pred = torch.flatten(y_hat.argmax(dim=1, keepdim=True))\n",
        "\n",
        "        output = self.train_metrics(pred, y)\n",
        "        self.log_dict(output)\n",
        "        \n",
        "        return loss\n",
        "\n",
        "    def validation_step(self, val_batch, batch_idx):\n",
        "        X, y = val_batch\n",
        "        y_hat = self(X)\n",
        "\n",
        "        loss = F.cross_entropy(y_hat, y)\n",
        "        pred = torch.flatten(y_hat.argmax(dim=1, keepdim=True))\n",
        "\n",
        "        output = self.val_metrics(pred, y)\n",
        "        self.log_dict(output)\n",
        "        \n",
        "\n",
        "    def test_step(self, test_batch, batch_idx):\n",
        "        X, y = test_batch\n",
        "        y_hat = self(X)\n",
        "        \n",
        "        loss = F.cross_entropy(y_hat, y)\n",
        "        pred = torch.flatten(y_hat.argmax(dim=1, keepdim=True))\n",
        "        \n",
        "        if (batch_idx == 0):\n",
        "            self.all_labels = y.clone()\n",
        "            self.all_preds = pred.clone()\n",
        "        else:\n",
        "            self.all_labels = torch.cat((self.all_labels, y))\n",
        "            self.all_preds = torch.cat((self.all_preds, pred))\n",
        "        \n",
        "        output = self.test_metrics(pred, y)\n",
        "        self.log_dict(output)\n"
      ]
    },
    {
      "cell_type": "code",
      "execution_count": null,
      "metadata": {},
      "outputs": [],
      "source": [
        "def train_model(model, epochs, datamodule):\n",
        "\n",
        "    trainer = pl.Trainer(max_epochs=epochs)\n",
        "    trainer.fit(model, datamodule)\n",
        "\n",
        "    return trainer"
      ]
    },
    {
      "cell_type": "code",
      "execution_count": null,
      "metadata": {},
      "outputs": [],
      "source": [
        "from sklearn.metrics import confusion_matrix\n",
        "import seaborn as sns\n",
        "import matplotlib.pyplot as plt     \n",
        "\n",
        "def plot_matrix(title, model):\n",
        "\n",
        "    ax = plt.subplot()\n",
        "    cm = confusion_matrix(model.all_labels.cpu(), model.all_preds.cpu())\n",
        "\n",
        "    sns.set_style(\"darkgrid\")\n",
        "    sns.set(rc={\"figure.figsize\":(20, 4)})\n",
        "    colormap = sns.color_palette(\"Blues\",12)\n",
        "    sns.heatmap(cm, annot=True, fmt='g', ax=ax, cmap=colormap)  \n",
        "\n",
        "    # labels, title and ticks\n",
        "    ax.set_xlabel('Predições:')\n",
        "    ax.set_ylabel('Labels:')\n",
        "    ax.set_title(title); \n",
        "    ax.xaxis.set_ticklabels(class_names)\n",
        "    ax.yaxis.set_ticklabels(class_names, rotation=0)"
      ]
    },
    {
      "cell_type": "code",
      "execution_count": null,
      "metadata": {},
      "outputs": [],
      "source": [
        "def test_model(model, datamodule, trainer, tfText):\n",
        "    print(\"Modelo: \" + tfText)\n",
        "    datamodule.setup(stage='test')\n",
        "    test_loader = datamodule.test_dataloader()\n",
        "    trainer.test(dataloaders=test_loader)\n",
        "\n",
        "    plot_matrix(\"Modelo: \"+ tfText, model)"
      ]
    },
    {
      "attachments": {},
      "cell_type": "markdown",
      "metadata": {},
      "source": [
        "## Treinamento e Teste dos Modelos"
      ]
    },
    {
      "cell_type": "code",
      "execution_count": null,
      "metadata": {},
      "outputs": [],
      "source": [
        "batch_size = 32\n",
        "epochs = 50"
      ]
    },
    {
      "cell_type": "code",
      "execution_count": null,
      "metadata": {},
      "outputs": [],
      "source": [
        "# Definição das transformações a serem utilizadas\n",
        "tfGrayscale = False\n",
        "tfRdRotate = False\n",
        "tfHzFlip = False\n",
        "tfResize = False\n",
        "tfCtrCrop = False\n",
        "tfNormalize = False\n",
        "\n",
        "transforms_set = setup_transforms(tfGrayscale, tfRdRotate, tfHzFlip, tfResize, tfCtrCrop, tfNormalize)\n",
        "tf_text = transforms_text(tfGrayscale, tfRdRotate, tfHzFlip, tfResize, tfCtrCrop, tfNormalize)\n",
        "datamodule = DataModule(transforms_set, batch_size)\n",
        "datamodule.setup()\n",
        "\n",
        "model = MyModel()\n",
        "tr = train_model(model, epochs, datamodule)\n",
        "test_model(model, datamodule, tr, tf_text)"
      ]
    }
  ],
  "metadata": {
    "accelerator": "GPU",
    "colab": {
      "gpuType": "T4",
      "provenance": []
    },
    "gpuClass": "standard",
    "kernelspec": {
      "display_name": "AlzClas",
      "language": "python",
      "name": "python3"
    },
    "language_info": {
      "codemirror_mode": {
        "name": "ipython",
        "version": 3
      },
      "file_extension": ".py",
      "mimetype": "text/x-python",
      "name": "python",
      "nbconvert_exporter": "python",
      "pygments_lexer": "ipython3",
      "version": "3.11.3"
    },
    "vscode": {
      "interpreter": {
        "hash": "ae3ff09f5abd32f260b7b430a80e16592e090407ccf558cf8f1c2e212bd97b04"
      }
    },
    "widgets": {
      "application/vnd.jupyter.widget-state+json": {
        "01449e253a3a402e9eb4ba5b649e5496": {
          "model_module": "@jupyter-widgets/controls",
          "model_module_version": "1.5.0",
          "model_name": "DescriptionStyleModel",
          "state": {
            "_model_module": "@jupyter-widgets/controls",
            "_model_module_version": "1.5.0",
            "_model_name": "DescriptionStyleModel",
            "_view_count": null,
            "_view_module": "@jupyter-widgets/base",
            "_view_module_version": "1.2.0",
            "_view_name": "StyleView",
            "description_width": ""
          }
        },
        "447d32ede91547b1a1d9fbb481fe1e15": {
          "model_module": "@jupyter-widgets/base",
          "model_module_version": "1.2.0",
          "model_name": "LayoutModel",
          "state": {
            "_model_module": "@jupyter-widgets/base",
            "_model_module_version": "1.2.0",
            "_model_name": "LayoutModel",
            "_view_count": null,
            "_view_module": "@jupyter-widgets/base",
            "_view_module_version": "1.2.0",
            "_view_name": "LayoutView",
            "align_content": null,
            "align_items": null,
            "align_self": null,
            "border": null,
            "bottom": null,
            "display": null,
            "flex": null,
            "flex_flow": null,
            "grid_area": null,
            "grid_auto_columns": null,
            "grid_auto_flow": null,
            "grid_auto_rows": null,
            "grid_column": null,
            "grid_gap": null,
            "grid_row": null,
            "grid_template_areas": null,
            "grid_template_columns": null,
            "grid_template_rows": null,
            "height": null,
            "justify_content": null,
            "justify_items": null,
            "left": null,
            "margin": null,
            "max_height": null,
            "max_width": null,
            "min_height": null,
            "min_width": null,
            "object_fit": null,
            "object_position": null,
            "order": null,
            "overflow": null,
            "overflow_x": null,
            "overflow_y": null,
            "padding": null,
            "right": null,
            "top": null,
            "visibility": null,
            "width": null
          }
        },
        "5556dce24c08446884cd1bef6d32cdda": {
          "model_module": "@jupyter-widgets/base",
          "model_module_version": "1.2.0",
          "model_name": "LayoutModel",
          "state": {
            "_model_module": "@jupyter-widgets/base",
            "_model_module_version": "1.2.0",
            "_model_name": "LayoutModel",
            "_view_count": null,
            "_view_module": "@jupyter-widgets/base",
            "_view_module_version": "1.2.0",
            "_view_name": "LayoutView",
            "align_content": null,
            "align_items": null,
            "align_self": null,
            "border": null,
            "bottom": null,
            "display": null,
            "flex": null,
            "flex_flow": null,
            "grid_area": null,
            "grid_auto_columns": null,
            "grid_auto_flow": null,
            "grid_auto_rows": null,
            "grid_column": null,
            "grid_gap": null,
            "grid_row": null,
            "grid_template_areas": null,
            "grid_template_columns": null,
            "grid_template_rows": null,
            "height": null,
            "justify_content": null,
            "justify_items": null,
            "left": null,
            "margin": null,
            "max_height": null,
            "max_width": null,
            "min_height": null,
            "min_width": null,
            "object_fit": null,
            "object_position": null,
            "order": null,
            "overflow": null,
            "overflow_x": null,
            "overflow_y": null,
            "padding": null,
            "right": null,
            "top": null,
            "visibility": null,
            "width": null
          }
        },
        "6bebe669b3a5429480ff03a642afab5e": {
          "model_module": "@jupyter-widgets/controls",
          "model_module_version": "1.5.0",
          "model_name": "HTMLModel",
          "state": {
            "_dom_classes": [],
            "_model_module": "@jupyter-widgets/controls",
            "_model_module_version": "1.5.0",
            "_model_name": "HTMLModel",
            "_view_count": null,
            "_view_module": "@jupyter-widgets/controls",
            "_view_module_version": "1.5.0",
            "_view_name": "HTMLView",
            "description": "",
            "description_tooltip": null,
            "layout": "IPY_MODEL_5556dce24c08446884cd1bef6d32cdda",
            "placeholder": "​",
            "style": "IPY_MODEL_01449e253a3a402e9eb4ba5b649e5496",
            "value": " 120/161 [00:17&lt;00:06,  6.71it/s, v_num=9]"
          }
        },
        "9dcd66dfcb044a32bc87aa13384aba21": {
          "model_module": "@jupyter-widgets/base",
          "model_module_version": "1.2.0",
          "model_name": "LayoutModel",
          "state": {
            "_model_module": "@jupyter-widgets/base",
            "_model_module_version": "1.2.0",
            "_model_name": "LayoutModel",
            "_view_count": null,
            "_view_module": "@jupyter-widgets/base",
            "_view_module_version": "1.2.0",
            "_view_name": "LayoutView",
            "align_content": null,
            "align_items": null,
            "align_self": null,
            "border": null,
            "bottom": null,
            "display": "inline-flex",
            "flex": null,
            "flex_flow": "row wrap",
            "grid_area": null,
            "grid_auto_columns": null,
            "grid_auto_flow": null,
            "grid_auto_rows": null,
            "grid_column": null,
            "grid_gap": null,
            "grid_row": null,
            "grid_template_areas": null,
            "grid_template_columns": null,
            "grid_template_rows": null,
            "height": null,
            "justify_content": null,
            "justify_items": null,
            "left": null,
            "margin": null,
            "max_height": null,
            "max_width": null,
            "min_height": null,
            "min_width": null,
            "object_fit": null,
            "object_position": null,
            "order": null,
            "overflow": null,
            "overflow_x": null,
            "overflow_y": null,
            "padding": null,
            "right": null,
            "top": null,
            "visibility": null,
            "width": "100%"
          }
        },
        "c51bbf232e0d4cc183fb02f48f721916": {
          "model_module": "@jupyter-widgets/base",
          "model_module_version": "1.2.0",
          "model_name": "LayoutModel",
          "state": {
            "_model_module": "@jupyter-widgets/base",
            "_model_module_version": "1.2.0",
            "_model_name": "LayoutModel",
            "_view_count": null,
            "_view_module": "@jupyter-widgets/base",
            "_view_module_version": "1.2.0",
            "_view_name": "LayoutView",
            "align_content": null,
            "align_items": null,
            "align_self": null,
            "border": null,
            "bottom": null,
            "display": null,
            "flex": "2",
            "flex_flow": null,
            "grid_area": null,
            "grid_auto_columns": null,
            "grid_auto_flow": null,
            "grid_auto_rows": null,
            "grid_column": null,
            "grid_gap": null,
            "grid_row": null,
            "grid_template_areas": null,
            "grid_template_columns": null,
            "grid_template_rows": null,
            "height": null,
            "justify_content": null,
            "justify_items": null,
            "left": null,
            "margin": null,
            "max_height": null,
            "max_width": null,
            "min_height": null,
            "min_width": null,
            "object_fit": null,
            "object_position": null,
            "order": null,
            "overflow": null,
            "overflow_x": null,
            "overflow_y": null,
            "padding": null,
            "right": null,
            "top": null,
            "visibility": null,
            "width": null
          }
        },
        "d783975f099340cea3cc84ee65aa1de5": {
          "model_module": "@jupyter-widgets/controls",
          "model_module_version": "1.5.0",
          "model_name": "HTMLModel",
          "state": {
            "_dom_classes": [],
            "_model_module": "@jupyter-widgets/controls",
            "_model_module_version": "1.5.0",
            "_model_name": "HTMLModel",
            "_view_count": null,
            "_view_module": "@jupyter-widgets/controls",
            "_view_module_version": "1.5.0",
            "_view_name": "HTMLView",
            "description": "",
            "description_tooltip": null,
            "layout": "IPY_MODEL_447d32ede91547b1a1d9fbb481fe1e15",
            "placeholder": "​",
            "style": "IPY_MODEL_f7be4d8a44b047b99f77b61662a864be",
            "value": "Epoch 15:  75%"
          }
        },
        "e26db5767b764423a612ed0143a8cbd3": {
          "model_module": "@jupyter-widgets/controls",
          "model_module_version": "1.5.0",
          "model_name": "HBoxModel",
          "state": {
            "_dom_classes": [],
            "_model_module": "@jupyter-widgets/controls",
            "_model_module_version": "1.5.0",
            "_model_name": "HBoxModel",
            "_view_count": null,
            "_view_module": "@jupyter-widgets/controls",
            "_view_module_version": "1.5.0",
            "_view_name": "HBoxView",
            "box_style": "",
            "children": [
              "IPY_MODEL_d783975f099340cea3cc84ee65aa1de5",
              "IPY_MODEL_fdd91a46e7fb4c92a7aff23b5ecbdca7",
              "IPY_MODEL_6bebe669b3a5429480ff03a642afab5e"
            ],
            "layout": "IPY_MODEL_9dcd66dfcb044a32bc87aa13384aba21"
          }
        },
        "eafd482effe34f8db8915233197997bc": {
          "model_module": "@jupyter-widgets/controls",
          "model_module_version": "1.5.0",
          "model_name": "ProgressStyleModel",
          "state": {
            "_model_module": "@jupyter-widgets/controls",
            "_model_module_version": "1.5.0",
            "_model_name": "ProgressStyleModel",
            "_view_count": null,
            "_view_module": "@jupyter-widgets/base",
            "_view_module_version": "1.2.0",
            "_view_name": "StyleView",
            "bar_color": null,
            "description_width": ""
          }
        },
        "f7be4d8a44b047b99f77b61662a864be": {
          "model_module": "@jupyter-widgets/controls",
          "model_module_version": "1.5.0",
          "model_name": "DescriptionStyleModel",
          "state": {
            "_model_module": "@jupyter-widgets/controls",
            "_model_module_version": "1.5.0",
            "_model_name": "DescriptionStyleModel",
            "_view_count": null,
            "_view_module": "@jupyter-widgets/base",
            "_view_module_version": "1.2.0",
            "_view_name": "StyleView",
            "description_width": ""
          }
        },
        "fdd91a46e7fb4c92a7aff23b5ecbdca7": {
          "model_module": "@jupyter-widgets/controls",
          "model_module_version": "1.5.0",
          "model_name": "FloatProgressModel",
          "state": {
            "_dom_classes": [],
            "_model_module": "@jupyter-widgets/controls",
            "_model_module_version": "1.5.0",
            "_model_name": "FloatProgressModel",
            "_view_count": null,
            "_view_module": "@jupyter-widgets/controls",
            "_view_module_version": "1.5.0",
            "_view_name": "ProgressView",
            "bar_style": "",
            "description": "",
            "description_tooltip": null,
            "layout": "IPY_MODEL_c51bbf232e0d4cc183fb02f48f721916",
            "max": 161,
            "min": 0,
            "orientation": "horizontal",
            "style": "IPY_MODEL_eafd482effe34f8db8915233197997bc",
            "value": 120
          }
        }
      }
    }
  },
  "nbformat": 4,
  "nbformat_minor": 0
}
