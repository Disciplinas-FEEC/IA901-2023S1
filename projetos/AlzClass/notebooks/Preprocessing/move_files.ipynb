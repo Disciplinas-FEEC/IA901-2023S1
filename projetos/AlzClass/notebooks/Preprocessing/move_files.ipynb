{
 "cells": [
  {
   "cell_type": "code",
   "execution_count": 2,
   "metadata": {},
   "outputs": [],
   "source": [
    "import os\n",
    "import shutil"
   ]
  },
  {
   "cell_type": "code",
   "execution_count": 7,
   "metadata": {},
   "outputs": [],
   "source": [
    "# Define your data paths and classes\n",
    "source_path = 'C:\\\\Users\\\\pedro\\\\Project\\\\Datasets\\\\ADNI0' #ADNI \"original\" com 20 slices por subject em subfolders\n",
    "destination_path = 'C:\\\\Users\\\\pedro\\\\Project\\\\Datasets\\\\ADNI1' #ADNI com slices todos juntos \n",
    "classes = ['AD', 'CN', 'EMCI', 'LMCI', 'MCI']"
   ]
  },
  {
   "cell_type": "code",
   "execution_count": 9,
   "metadata": {},
   "outputs": [],
   "source": [
    "# For each class, move the first 10 images from each subfolder\n",
    "for cls in classes:\n",
    "    # Get the path to the current class folder in both source and destination\n",
    "    src_cls_path = os.path.join(source_path, cls)\n",
    "    dst_cls_path = os.path.join(destination_path, cls)\n",
    "    \n",
    "    # For each subfolder in the current class folder\n",
    "    for subfolder in os.listdir(src_cls_path):\n",
    "        # Get the path to the current subfolder\n",
    "        src_subfolder_path = os.path.join(src_cls_path, subfolder)\n",
    "\n",
    "        # Get a list of all the image files in the current subfolder\n",
    "        all_files = os.listdir(src_subfolder_path)\n",
    "\n",
    "        # Sort the list and take the first 10 images\n",
    "        all_files.sort()\n",
    "        images_to_move = all_files[:10]\n",
    "\n",
    "        # For each image to move\n",
    "        for image_file in images_to_move:\n",
    "            # Get the path to the image in the source folder\n",
    "            src_image_path = os.path.join(src_subfolder_path, image_file)\n",
    "            \n",
    "            # Create a new image name by prepending the subfolder's name to the original image's name\n",
    "            new_image_name = f\"{subfolder}_{image_file}\"\n",
    "            # Get the path to where the image will be in the destination folder\n",
    "            dst_image_path = os.path.join(dst_cls_path, new_image_name)\n",
    "\n",
    "            # Move the image\n",
    "            shutil.copy2(src_image_path, dst_image_path)\n"
   ]
  },
  {
   "cell_type": "code",
   "execution_count": 21,
   "metadata": {},
   "outputs": [
    {
     "name": "stdout",
     "output_type": "stream",
     "text": [
      "Number of images in source path: 168\n"
     ]
    }
   ],
   "source": [
    "import os\n",
    "\n",
    "def count_images(dir_path):\n",
    "    count = 0\n",
    "    # os.walk returns a generator that creates a tuple of values\n",
    "    # for each directory it visits. The tuple contains the\n",
    "    # name of the directory path, the names of its subdirectories,\n",
    "    # and the names of its files.\n",
    "    for root, dirs, files in os.walk(dir_path):\n",
    "        for file in files:\n",
    "            # Check the file extension to count only image files.\n",
    "            if file.lower().endswith(('.png', '.jpg', '.jpeg')):\n",
    "                count += 1\n",
    "    return count\n",
    "\n",
    "# Define your source and destination paths\n",
    "source_path = r'C:\\Users\\pedro\\Academics\\IA901_Projeto\\Datasets\\ADNI5\\train\\MCI'\n",
    "\n",
    "# Count and print the number of images in both paths\n",
    "print(f\"Number of images in source path: {count_images(source_path)}\")\n"
   ]
  },
  {
   "cell_type": "code",
   "execution_count": 9,
   "metadata": {},
   "outputs": [
    {
     "data": {
      "text/plain": [
       "176"
      ]
     },
     "execution_count": 9,
     "metadata": {},
     "output_type": "execute_result"
    }
   ],
   "source": [
    "x=33+45+39+22+37\n",
    "x"
   ]
  },
  {
   "cell_type": "code",
   "execution_count": 22,
   "metadata": {},
   "outputs": [
    {
     "data": {
      "text/plain": [
       "(215.71428571428572,\n",
       " 298.5714285714286,\n",
       " 255.71428571428572,\n",
       " 140.0,\n",
       " 240.00000000000003)"
      ]
     },
     "execution_count": 22,
     "metadata": {},
     "output_type": "execute_result"
    }
   ],
   "source": [
    "AD =151/0.7\n",
    "CN = 209/0.7\n",
    "EMCI = 179/0.7\n",
    "LMCI = 98/0.7\n",
    "MCI = 168/0.7\n",
    "AD,CN,EMCI,LMCI,MCI\n"
   ]
  },
  {
   "cell_type": "code",
   "execution_count": null,
   "metadata": {},
   "outputs": [],
   "source": []
  }
 ],
 "metadata": {
  "kernelspec": {
   "display_name": "Python 3",
   "language": "python",
   "name": "python3"
  },
  "language_info": {
   "codemirror_mode": {
    "name": "ipython",
    "version": 3
   },
   "file_extension": ".py",
   "mimetype": "text/x-python",
   "name": "python",
   "nbconvert_exporter": "python",
   "pygments_lexer": "ipython3",
   "version": "3.11.4"
  },
  "orig_nbformat": 4
 },
 "nbformat": 4,
 "nbformat_minor": 2
}
