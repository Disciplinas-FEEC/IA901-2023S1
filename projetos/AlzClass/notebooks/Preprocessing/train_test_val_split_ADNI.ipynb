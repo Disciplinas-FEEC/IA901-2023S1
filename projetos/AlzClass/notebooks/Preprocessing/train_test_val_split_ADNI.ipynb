{
 "cells": [
  {
   "cell_type": "code",
   "execution_count": 2,
   "metadata": {},
   "outputs": [],
   "source": [
    "import os\n",
    "import shutil\n",
    "import glob\n",
    "import numpy as np"
   ]
  },
  {
   "cell_type": "code",
   "execution_count": 3,
   "metadata": {},
   "outputs": [],
   "source": [
    "# Define the directories\n",
    "source_dir = 'C:\\\\Users\\\\pedro\\\\Project\\\\Datasets\\\\ADNI1' #ADNI com slices todos juntos \n",
    "dest_dir = 'C:\\\\Users\\\\pedro\\\\Project\\\\Datasets\\\\ADNI2' #ADNI separado em train, test, val\n",
    "\n",
    "classes = ['AD', 'CN', 'EMCI', 'LMCI', 'MCI']\n",
    "\n",
    "train_ratio = 0.7\n",
    "val_ratio = 0.15\n",
    "test_ratio = 0.15\n",
    "\n",
    "for cls in classes:\n",
    "    os.makedirs(dest_dir + '\\\\train\\\\' + cls, exist_ok=True)\n",
    "    os.makedirs(dest_dir + '\\\\val\\\\' + cls, exist_ok=True)\n",
    "    os.makedirs(dest_dir + '\\\\test\\\\' + cls, exist_ok=True)\n",
    "    \n",
    "    # Get a list of all the images\n",
    "    images = glob.glob(source_dir + '\\\\' + cls + '\\\\*.jpg')\n",
    "    np.random.shuffle(images)\n",
    "\n",
    "    # Split into training, validation, and test datasets\n",
    "    train_images, test_images = np.split(\n",
    "        np.array(images),\n",
    "        [int(len(images)* train_ratio), int(len(images)* (train_ratio + val_ratio))])\n",
    "    \n",
    "    # Copy the files\n",
    "    for img in train_images:\n",
    "        shutil.copy2(img, dest_dir + '\\\\train\\\\' + cls)\n",
    "\n",
    "    for img in val_images:\n",
    "        shutil.copy2(img, dest_dir + '\\\\val\\\\' + cls)\n",
    "\n",
    "    for img in test_images:\n",
    "        shutil.copy2(img, dest_dir + '\\\\test\\\\' + cls)\n"
   ]
  },
  {
   "cell_type": "code",
   "execution_count": 1,
   "metadata": {},
   "outputs": [
    {
     "ename": "NameError",
     "evalue": "name 'source_dir' is not defined",
     "output_type": "error",
     "traceback": [
      "\u001b[1;31m---------------------------------------------------------------------------\u001b[0m",
      "\u001b[1;31mNameError\u001b[0m                                 Traceback (most recent call last)",
      "Cell \u001b[1;32mIn[1], line 16\u001b[0m\n\u001b[0;32m     12\u001b[0m     \u001b[39mreturn\u001b[39;00m count\n\u001b[0;32m     15\u001b[0m \u001b[39m# Count and print the number of images in both paths\u001b[39;00m\n\u001b[1;32m---> 16\u001b[0m \u001b[39mprint\u001b[39m(\u001b[39mf\u001b[39m\u001b[39m\"\u001b[39m\u001b[39mNumber of images in source path: \u001b[39m\u001b[39m{\u001b[39;00mcount_images(source_dir\u001b[39m+\u001b[39m\u001b[39m'\u001b[39m\u001b[39m//val\u001b[39m\u001b[39m'\u001b[39m)\u001b[39m}\u001b[39;00m\u001b[39m\"\u001b[39m)\n\u001b[0;32m     17\u001b[0m \u001b[39mprint\u001b[39m(\u001b[39mf\u001b[39m\u001b[39m\"\u001b[39m\u001b[39mNumber of images in destination path: \u001b[39m\u001b[39m{\u001b[39;00mcount_images(dest_dir\u001b[39m+\u001b[39m\u001b[39m'\u001b[39m\u001b[39m//train\u001b[39m\u001b[39m'\u001b[39m)\u001b[39m}\u001b[39;00m\u001b[39m\"\u001b[39m)\n",
      "\u001b[1;31mNameError\u001b[0m: name 'source_dir' is not defined"
     ]
    }
   ],
   "source": [
    "def count_images(dir_path):\n",
    "    count = 0\n",
    "    # os.walk returns a generator that creates a tuple of values\n",
    "    # for each directory it visits. The tuple contains the\n",
    "    # name of the directory path, the names of its subdirectories,\n",
    "    # and the names of its files.\n",
    "    for root, dirs, files in os.walk(dir_path):\n",
    "        for file in files:\n",
    "            # Check the file extension to count only image files.\n",
    "            if file.lower().endswith(('.png', '.jpg', '.jpeg')):\n",
    "                count += 1\n",
    "    return count\n",
    "\n",
    "\n",
    "# Count and print the number of images in both paths\n",
    "print(f\"Number of images in source path: {count_images(source_dir+'//val')}\")\n",
    "print(f\"Number of images in destination path: {count_images(dest_dir+'//train')}\")"
   ]
  },
  {
   "cell_type": "code",
   "execution_count": null,
   "metadata": {},
   "outputs": [],
   "source": []
  }
 ],
 "metadata": {
  "kernelspec": {
   "display_name": "Python 3",
   "language": "python",
   "name": "python3"
  },
  "language_info": {
   "codemirror_mode": {
    "name": "ipython",
    "version": 3
   },
   "file_extension": ".py",
   "mimetype": "text/x-python",
   "name": "python",
   "nbconvert_exporter": "python",
   "pygments_lexer": "ipython3",
   "version": "3.11.-1"
  },
  "orig_nbformat": 4
 },
 "nbformat": 4,
 "nbformat_minor": 2
}
