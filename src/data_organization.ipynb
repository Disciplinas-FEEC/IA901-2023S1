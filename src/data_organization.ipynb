{
 "cells": [
  {
   "cell_type": "code",
   "execution_count": 8,
   "metadata": {},
   "outputs": [],
   "source": [
    "import os\n",
    "import pandas as pd\n",
    "import shutil\n",
    "from sklearn.model_selection import train_test_split"
   ]
  },
  {
   "cell_type": "code",
   "execution_count": 9,
   "metadata": {},
   "outputs": [
    {
     "data": {
      "text/html": [
       "<div>\n",
       "<style scoped>\n",
       "    .dataframe tbody tr th:only-of-type {\n",
       "        vertical-align: middle;\n",
       "    }\n",
       "\n",
       "    .dataframe tbody tr th {\n",
       "        vertical-align: top;\n",
       "    }\n",
       "\n",
       "    .dataframe thead th {\n",
       "        text-align: right;\n",
       "    }\n",
       "</style>\n",
       "<table border=\"1\" class=\"dataframe\">\n",
       "  <thead>\n",
       "    <tr style=\"text-align: right;\">\n",
       "      <th></th>\n",
       "      <th>image_name</th>\n",
       "      <th>patient_id</th>\n",
       "      <th>sex</th>\n",
       "      <th>age_approx</th>\n",
       "      <th>anatom_site_general_challenge</th>\n",
       "      <th>diagnosis</th>\n",
       "      <th>benign_malignant</th>\n",
       "      <th>target</th>\n",
       "    </tr>\n",
       "  </thead>\n",
       "  <tbody>\n",
       "    <tr>\n",
       "      <th>0</th>\n",
       "      <td>ISIC_2637011</td>\n",
       "      <td>IP_7279968</td>\n",
       "      <td>male</td>\n",
       "      <td>45.0</td>\n",
       "      <td>head/neck</td>\n",
       "      <td>unknown</td>\n",
       "      <td>benign</td>\n",
       "      <td>0</td>\n",
       "    </tr>\n",
       "    <tr>\n",
       "      <th>1</th>\n",
       "      <td>ISIC_0015719</td>\n",
       "      <td>IP_3075186</td>\n",
       "      <td>female</td>\n",
       "      <td>45.0</td>\n",
       "      <td>upper extremity</td>\n",
       "      <td>unknown</td>\n",
       "      <td>benign</td>\n",
       "      <td>0</td>\n",
       "    </tr>\n",
       "    <tr>\n",
       "      <th>2</th>\n",
       "      <td>ISIC_0052212</td>\n",
       "      <td>IP_2842074</td>\n",
       "      <td>female</td>\n",
       "      <td>50.0</td>\n",
       "      <td>lower extremity</td>\n",
       "      <td>nevus</td>\n",
       "      <td>benign</td>\n",
       "      <td>0</td>\n",
       "    </tr>\n",
       "    <tr>\n",
       "      <th>3</th>\n",
       "      <td>ISIC_0068279</td>\n",
       "      <td>IP_6890425</td>\n",
       "      <td>female</td>\n",
       "      <td>45.0</td>\n",
       "      <td>head/neck</td>\n",
       "      <td>unknown</td>\n",
       "      <td>benign</td>\n",
       "      <td>0</td>\n",
       "    </tr>\n",
       "    <tr>\n",
       "      <th>4</th>\n",
       "      <td>ISIC_0074268</td>\n",
       "      <td>IP_8723313</td>\n",
       "      <td>female</td>\n",
       "      <td>55.0</td>\n",
       "      <td>upper extremity</td>\n",
       "      <td>unknown</td>\n",
       "      <td>benign</td>\n",
       "      <td>0</td>\n",
       "    </tr>\n",
       "  </tbody>\n",
       "</table>\n",
       "</div>"
      ],
      "text/plain": [
       "     image_name  patient_id     sex  age_approx anatom_site_general_challenge  \\\n",
       "0  ISIC_2637011  IP_7279968    male        45.0                     head/neck   \n",
       "1  ISIC_0015719  IP_3075186  female        45.0               upper extremity   \n",
       "2  ISIC_0052212  IP_2842074  female        50.0               lower extremity   \n",
       "3  ISIC_0068279  IP_6890425  female        45.0                     head/neck   \n",
       "4  ISIC_0074268  IP_8723313  female        55.0               upper extremity   \n",
       "\n",
       "  diagnosis benign_malignant  target  \n",
       "0   unknown           benign       0  \n",
       "1   unknown           benign       0  \n",
       "2     nevus           benign       0  \n",
       "3   unknown           benign       0  \n",
       "4   unknown           benign       0  "
      ]
     },
     "execution_count": 9,
     "metadata": {},
     "output_type": "execute_result"
    }
   ],
   "source": [
    "df_train = pd.read_csv(\"../data/train.csv\")\n",
    "df_train.head()"
   ]
  },
  {
   "cell_type": "code",
   "execution_count": 10,
   "metadata": {},
   "outputs": [
    {
     "data": {
      "text/plain": [
       "['ISIC_0149568.jpg',\n",
       " 'ISIC_0188432.jpg',\n",
       " 'ISIC_0207268.jpg',\n",
       " 'ISIC_0232101.jpg',\n",
       " 'ISIC_0247330.jpg']"
      ]
     },
     "execution_count": 10,
     "metadata": {},
     "output_type": "execute_result"
    }
   ],
   "source": [
    "os.listdir(\"../data/interim/maligno/\")[0:5]"
   ]
  },
  {
   "cell_type": "code",
   "execution_count": 11,
   "metadata": {},
   "outputs": [],
   "source": [
    "def copiar_imagens(diretorio_origem, diretorio_treino, diretorio_validacao, ids, df_train):\n",
    "    # Criação dos diretórios de destino, se ainda não existirem\n",
    "    os.makedirs(diretorio_treino, exist_ok=True)\n",
    "    os.makedirs(diretorio_validacao, exist_ok=True)\n",
    "    \n",
    "    # Dividir a lista de IDs dos pacientes em conjuntos de treinamento e validação\n",
    "    train_ids, val_ids = train_test_split(ids, test_size=0.25, random_state=42)\n",
    "\n",
    "    # Iterar sobre as imagens e verificar se o paciente correspondente está no conjunto de treinamento ou validação\n",
    "    for image_file in os.listdir(diretorio_origem):\n",
    "        image_name = os.path.splitext(image_file)[0]\n",
    "        patient_id = df_train[df_train['image_name'] == image_name]['patient_id'].values[0]\n",
    "\n",
    "        # Verificar se o paciente está no conjunto de treinamento ou validação\n",
    "        if patient_id in train_ids:\n",
    "            destino = diretorio_treino\n",
    "        elif patient_id in val_ids:\n",
    "            destino = diretorio_validacao\n",
    "        else:\n",
    "            continue  # Pular a imagem caso o paciente não esteja no conjunto de treinamento nem validação\n",
    "\n",
    "        # Caminho completo da imagem de origem\n",
    "        caminho_origem = os.path.join(diretorio_origem, image_file)\n",
    "\n",
    "        # Caminho completo da imagem de destino\n",
    "        caminho_destino = os.path.join(destino, image_file)\n",
    "\n",
    "        # Copiar a imagem para o diretório de destino correspondente\n",
    "        shutil.copyfile(caminho_origem, caminho_destino)\n",
    "\n",
    "# Caminho para o diretório de origem das imagens malignas\n",
    "diretorio_origem_maligno = \"../data/interim/maligno/\"\n",
    "diretorio_treino_maligno = \"../data/interim/treino/maligno/\"\n",
    "diretorio_validacao_maligno = \"../data/interim/validacao/maligno/\"\n",
    "\n",
    "maligno_ids = df_train[df_train['target'] == 1]['patient_id'].unique()\n",
    "\n",
    "# Copiar as imagens malignas para os diretórios de treinamento e validação\n",
    "copiar_imagens(diretorio_origem_maligno, diretorio_treino_maligno, diretorio_validacao_maligno, maligno_ids, df_train)\n",
    "\n",
    "# Caminho para o diretório de origem das imagens benignas\n",
    "diretorio_origem_benigno = \"../data/interim/benigno/\"\n",
    "diretorio_treino_benigno = \"../data/interim/treino/benigno/\"\n",
    "diretorio_validacao_benigno = \"../data/interim/validacao/benigno/\"\n",
    "\n",
    "benignas_ids = df_train[df_train['target'] == 0]['patient_id'].unique()\n",
    "\n",
    "# Copiar as imagens benignas para os diretórios de treinamento e validação\n",
    "copiar_imagens(diretorio_origem_benigno, diretorio_treino_benigno, diretorio_validacao_benigno, benignas_ids, df_train)\n"
   ]
  },
  {
   "cell_type": "code",
   "execution_count": null,
   "metadata": {},
   "outputs": [],
   "source": []
  }
 ],
 "metadata": {
  "kernelspec": {
   "display_name": "base",
   "language": "python",
   "name": "python3"
  },
  "language_info": {
   "codemirror_mode": {
    "name": "ipython",
    "version": 3
   },
   "file_extension": ".py",
   "mimetype": "text/x-python",
   "name": "python",
   "nbconvert_exporter": "python",
   "pygments_lexer": "ipython3",
   "version": "3.10.9"
  },
  "orig_nbformat": 4
 },
 "nbformat": 4,
 "nbformat_minor": 2
}
